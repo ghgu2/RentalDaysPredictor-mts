{
  "cells": [
    {
      "cell_type": "code",
      "execution_count": null,
      "id": "c8d595fb-478a-4408-b360-cecc8d7db873",
      "metadata": {
        "id": "c8d595fb-478a-4408-b360-cecc8d7db873"
      },
      "outputs": [],
      "source": [
        "import numpy as np\n",
        "import pandas as pd\n",
        "import matplotlib.pyplot as plt\n",
        "import os\n",
        "from scipy.stats import zscore\n",
        "from math import atan2, cos, radians, sin, sqrt"
      ]
    },
    {
      "cell_type": "code",
      "execution_count": null,
      "id": "f60006ad-c69b-4ec1-880d-aa3275a7285d",
      "metadata": {
        "id": "f60006ad-c69b-4ec1-880d-aa3275a7285d"
      },
      "outputs": [],
      "source": [
        "import plotly.express as px"
      ]
    },
    {
      "cell_type": "code",
      "execution_count": null,
      "id": "bf4695ef-26ef-45db-8449-87b3431b92f3",
      "metadata": {
        "id": "bf4695ef-26ef-45db-8449-87b3431b92f3"
      },
      "outputs": [],
      "source": [
        "import mplcyberpunk\n",
        "\n",
        "plt.style.use(\"cyberpunk\")"
      ]
    },
    {
      "cell_type": "code",
      "execution_count": null,
      "id": "ad0fb7aa-34f8-481a-9590-5ff84048c5b0",
      "metadata": {
        "id": "ad0fb7aa-34f8-481a-9590-5ff84048c5b0"
      },
      "outputs": [],
      "source": [
        "import seaborn as sns"
      ]
    },
    {
      "cell_type": "markdown",
      "id": "3483f375-d8e1-489e-94bc-1bfbff2d2298",
      "metadata": {
        "id": "3483f375-d8e1-489e-94bc-1bfbff2d2298",
        "jp-MarkdownHeadingCollapsed": true
      },
      "source": [
        "# Intro"
      ]
    },
    {
      "cell_type": "markdown",
      "id": "125be743-b0ee-4c6e-a053-2e14b7bd81d4",
      "metadata": {
        "id": "125be743-b0ee-4c6e-a053-2e14b7bd81d4"
      },
      "source": [
        "1) **Как обработали данные**\n",
        "\n",
        "В первую очередь я проверил наличие NaN значений в данных и обнаружил, что в столбцах name, host_name, last_dt, avg_reviews есть NaN значения. В столбцах name и host_name я указывал вместо значения NaN значение ‘Unknown ‘, для avg_reviews вместо NaN вставлял 0, считая их просто неоценёнными, для last_dt я ставил минимальную дату в данных, так как если они есть, то как минимум изначально они точно были и могли никогда не бронироваться. Также для тех строк, где было значение NaN в last_dt, я добавил столбец has_last_dt и ставил в нём 1 если значение столбца last_dt не равно NaN. Дальше с помощью CatBoostEncoder я закодировал категориальные признаки, но также оставил не закодированые, так как буду использовать их при обучении CatBoostRegressor. Также был обработан столбец last_dt из него были выделены год, месяц, день, день недели, количество секунд между текущим значением last_dt и минимальным значением last_dt, прошлая дата обновления у объекта и разница в секундах между текущей датой и прошлой. Позже из-за распределения цены на объекты было принято решение логарифмировать цену объекта, однако тесты показали, что из-за этого модели выдают очень плохие результаты. Дальше я решил проанализировать хоста и вычислил у него среднюю и медианную цену на его объекты, и разницу между ценой текущего объекта и средними, а также медианными ценами. Продолжая работать с хостом, я вычислил среднюю оценку и среднее количество оценок его объектов и посчитал разницу этих средних с оценками и количество оценок отдельных объектов. Также захотелось поработать с разбиением на кластеры и посчитать среднюю цену на объекты в них, а также средние оценки и среднее количество оценок, чтобы сравнить объекты внутри кластеров, но так как данные у нас за несколько, то посчитаем эти средние по годам. После вычисления этих средних я посчитал разницу между ценами/оценками/количеством оценок и соответствующими средними внутри кластера. Важно оценить цену за сутки на объекты именно поэтому был добавлен признак, который показывал цену за сутки. Позже были отнормированы числовые признаки. Также была идея, которая выглядела хорошо, но она ухудшала модели и заключалась в том, чтобы из названий объектов находить слова, которые могут сигнализировать о хороших условиях объекта и добавить их в качестве признаков. Я думаю, прошлую идею можно доработать и сделать из этого один или пару столбцов, так как в моей реализацией их было много и это приводило к ухудшению результатов у модели. К сожалению, здесь я не успел реализовать отбор признаков.\n",
        "\n",
        "2) **Какой алгоритм вы выбрали**\n",
        "\n",
        "Я решил использовать для решения этой задачи классификации следующие 3 подхода:\n",
        "\n",
        "а) lightautoml,\n",
        "б) Ансамбли моделей (блендинг),\n",
        "в) Один CatBoostRegressor.\n",
        "\n",
        "Если говорить о lightautoml, то несмотря на увеличение timeout до почти двух часов он не смог дать хорошие результаты, так как на тренировочных данных он показывал хорошее значение mse, однако при сабмите выдавал не лучшие результаты. Из-за этого я не стал его использовать для финального решения. Переходя к ансамблям моделей, то я создавал несколько моделей первого уровня и тренировал их на 45% данных для получения их предсказаний на 45% и дальнейшего обучения на них мета модели с оценкой mse по оставшимся 10%. Для моделей первого уровня я брал CatBoostRegressor, LGBMRegressor, XGBRegressor, Ridge, Lasso, RandomForestRegressor, GradientBoostingRegressor, ExtraTreesRegressor, а мета модель была. Также стоит отметить, что для моделей CatBoostRegressor, LGBMRegressor, XGBRegresso я подирал гиппепараметры с помощью hyperopt. Однако данный подход показал результаты хуже, чем один CatBoostRegressor. И в конце концов я выбрал CatBoostRegressor, так как он показывал самые устойчивые результаты, а также самые низкие результаты по mse.\n",
        "\n",
        "3) **Какие особенности использовали при его обучении**\n",
        "\n",
        "а) при обучении модели CatBoostRegressor в неё передавались категориальные признаки с помощью параметра cat_features, так как это помогает защитить модель от переобучения и снимает с нас работу кодирования категориальных признаков.\n",
        "\n",
        "б) Также для подбора гиперпараметров iterations, learning_rate, depth, l2_leaf_reg, bagging_temperature я воспользовался Hyperopt.\n",
        "\n",
        "в) Также при обучении я использовал параметры модели od_wait=100 и od_type='Iter', чтобы предотвратить переобучение.\n",
        "\n",
        "г) В качестве метрик использовался RMSE, так как он подходит под метрику из соревнования.\n",
        "\n",
        "\n",
        "\n",
        "4) **Как проводили валидацию алгоритма**\n",
        "\n",
        "а) При подборе гиперпараметров в Hyperopt я использовал cross-validation с параметром cv=5, рассчитывая средней оценки метрики MSE для оценки модели, однако по итогу я выбрал подход с TimeSeriesSplit, так как он показывал результаты лучше. Так что в итоге была выбрана валидация по времени.\n",
        "\n",
        "б) Также я пользовался оценкой модели на отложенной выборке, так как это помогало оценить качество модели на данных, которые она не видна.\n",
        "\n"
      ]
    },
    {
      "cell_type": "markdown",
      "id": "c53a2f03-101c-4df7-b46c-6b89a0265788",
      "metadata": {
        "id": "c53a2f03-101c-4df7-b46c-6b89a0265788",
        "jp-MarkdownHeadingCollapsed": true
      },
      "source": [
        "# Outro"
      ]
    },
    {
      "cell_type": "markdown",
      "id": "969103bd-99dd-4410-826a-683e8ede4d6e",
      "metadata": {
        "id": "969103bd-99dd-4410-826a-683e8ede4d6e"
      },
      "source": [
        "**Идеи улучшения:**\n",
        "\n",
        "1)\tПервая идея улучшения метрик будет использовать различных loss-функций и написание особых loss-функций для подбора лучшей для улучшения метрики MSE. Реализовать это можно с помощью внедрения их, как гипперпараметров, в Hyperopt, т.е. мы бы подбирали лучшую loss-функцию также, как и остальные гипперпараметры, в Hyperopt.\n",
        "  \n",
        "2)\tВторой идеей будет использование других подходов при построении ансамбля моделей, так как кажется у нас не так много данных для построения ансамбля, который был у меня в коде. Именно поэтому я бы обучал модели на 80% процентах данных, а строил мета модель на предсказаниях остальных 20% данных, а также постарался бы подобрать гипперпараметры для всех моделей первого уровня, а также для мета модели.\n",
        "\n",
        "3)\tТретья идея улучшить данные, используя Exclusive Feature Bundling, т.е. объединять взаимоисключающие признаки, базируясь на определённом пороге разрежённости признаков. Также можно добавить отбор признаков по важности, используя функцию evaluate_feature_count, реализованную на 4 семинаре. Также доработать признак с положительными словами, так как кажется он может сильно улучшить результаты.\n",
        "\n"
      ]
    },
    {
      "cell_type": "markdown",
      "id": "5d8499fe-8927-4f48-8090-6db9b6bf80bf",
      "metadata": {
        "id": "5d8499fe-8927-4f48-8090-6db9b6bf80bf",
        "jp-MarkdownHeadingCollapsed": true
      },
      "source": [
        "# Ваш ник на Kaggle и скриншот с итоговой позицией на leaderboard"
      ]
    },
    {
      "cell_type": "markdown",
      "id": "9765f4e1-1eaf-43f2-afb9-08b1f77e85d4",
      "metadata": {
        "id": "9765f4e1-1eaf-43f2-afb9-08b1f77e85d4"
      },
      "source": [
        "ник ghgghg22, позиция 28"
      ]
    },
    {
      "cell_type": "markdown",
      "id": "dadcd8f7-fd2b-4dd7-9aa7-ddc64bdfe7ae",
      "metadata": {
        "id": "dadcd8f7-fd2b-4dd7-9aa7-ddc64bdfe7ae",
        "jp-MarkdownHeadingCollapsed": true
      },
      "source": [
        "# Информация о столбцах"
      ]
    },
    {
      "cell_type": "markdown",
      "id": "0db4024c-580d-47bd-b095-ecf6428148ff",
      "metadata": {
        "id": "0db4024c-580d-47bd-b095-ecf6428148ff",
        "jp-MarkdownHeadingCollapsed": true
      },
      "source": [
        "# Работа с данными"
      ]
    },
    {
      "cell_type": "code",
      "execution_count": null,
      "id": "cf721591-cabf-4303-9d8b-062fe1765054",
      "metadata": {
        "id": "cf721591-cabf-4303-9d8b-062fe1765054"
      },
      "outputs": [],
      "source": [
        "df = pd.read_csv('train.csv')"
      ]
    },
    {
      "cell_type": "code",
      "execution_count": null,
      "id": "0f9501f4-ac12-4e14-8340-6a2298cd6b72",
      "metadata": {
        "id": "0f9501f4-ac12-4e14-8340-6a2298cd6b72"
      },
      "outputs": [],
      "source": [
        "test = pd.read_csv('test.csv')"
      ]
    },
    {
      "cell_type": "code",
      "execution_count": null,
      "id": "6564c2f8-9a92-4a23-a5b7-0481191d7b71",
      "metadata": {
        "id": "6564c2f8-9a92-4a23-a5b7-0481191d7b71"
      },
      "outputs": [],
      "source": [
        "test['index'] = test.index"
      ]
    },
    {
      "cell_type": "code",
      "execution_count": null,
      "id": "98efc800-c2fe-43d3-a00f-86c696aeba21",
      "metadata": {
        "id": "98efc800-c2fe-43d3-a00f-86c696aeba21",
        "outputId": "e0646847-ac25-4d7b-9d7d-db1006b1b316"
      },
      "outputs": [
        {
          "data": {
            "text/plain": [
              "36077"
            ]
          },
          "execution_count": 13,
          "metadata": {},
          "output_type": "execute_result"
        }
      ],
      "source": [
        "len(df['name'].unique())"
      ]
    },
    {
      "cell_type": "markdown",
      "id": "01374586-4dc8-4584-9557-290f9ead2bbd",
      "metadata": {
        "id": "01374586-4dc8-4584-9557-290f9ead2bbd"
      },
      "source": [
        "**Основная статистика датафрейма**"
      ]
    },
    {
      "cell_type": "code",
      "execution_count": null,
      "id": "a576cd35-11ce-43a2-bebe-71e2c9241f63",
      "metadata": {
        "id": "a576cd35-11ce-43a2-bebe-71e2c9241f63",
        "outputId": "d8f6edff-215b-4e22-aa47-7a9c222da645"
      },
      "outputs": [
        {
          "data": {
            "text/html": [
              "<div>\n",
              "<style scoped>\n",
              "    .dataframe tbody tr th:only-of-type {\n",
              "        vertical-align: middle;\n",
              "    }\n",
              "\n",
              "    .dataframe tbody tr th {\n",
              "        vertical-align: top;\n",
              "    }\n",
              "\n",
              "    .dataframe thead th {\n",
              "        text-align: right;\n",
              "    }\n",
              "</style>\n",
              "<table border=\"1\" class=\"dataframe\">\n",
              "  <thead>\n",
              "    <tr style=\"text-align: right;\">\n",
              "      <th></th>\n",
              "      <th>_id</th>\n",
              "      <th>lat</th>\n",
              "      <th>lon</th>\n",
              "      <th>sum</th>\n",
              "      <th>min_days</th>\n",
              "      <th>amt_reviews</th>\n",
              "      <th>avg_reviews</th>\n",
              "      <th>total_host</th>\n",
              "      <th>target</th>\n",
              "    </tr>\n",
              "  </thead>\n",
              "  <tbody>\n",
              "    <tr>\n",
              "      <th>count</th>\n",
              "      <td>3.667100e+04</td>\n",
              "      <td>36671.000000</td>\n",
              "      <td>36671.000000</td>\n",
              "      <td>36671.000000</td>\n",
              "      <td>36671.000000</td>\n",
              "      <td>36671.000000</td>\n",
              "      <td>29169.000000</td>\n",
              "      <td>36671.000000</td>\n",
              "      <td>36671.000000</td>\n",
              "    </tr>\n",
              "    <tr>\n",
              "      <th>mean</th>\n",
              "      <td>6.720433e+07</td>\n",
              "      <td>40.729080</td>\n",
              "      <td>-73.951958</td>\n",
              "      <td>152.142292</td>\n",
              "      <td>7.053176</td>\n",
              "      <td>23.433667</td>\n",
              "      <td>1.365601</td>\n",
              "      <td>7.047694</td>\n",
              "      <td>112.766628</td>\n",
              "    </tr>\n",
              "    <tr>\n",
              "      <th>std</th>\n",
              "      <td>7.828147e+07</td>\n",
              "      <td>0.054671</td>\n",
              "      <td>0.046201</td>\n",
              "      <td>239.107973</td>\n",
              "      <td>21.539569</td>\n",
              "      <td>44.703590</td>\n",
              "      <td>1.643966</td>\n",
              "      <td>32.595427</td>\n",
              "      <td>131.583284</td>\n",
              "    </tr>\n",
              "    <tr>\n",
              "      <th>min</th>\n",
              "      <td>2.438000e+03</td>\n",
              "      <td>40.499790</td>\n",
              "      <td>-74.244420</td>\n",
              "      <td>0.000000</td>\n",
              "      <td>1.000000</td>\n",
              "      <td>0.000000</td>\n",
              "      <td>0.010000</td>\n",
              "      <td>1.000000</td>\n",
              "      <td>0.000000</td>\n",
              "    </tr>\n",
              "    <tr>\n",
              "      <th>25%</th>\n",
              "      <td>7.780024e+06</td>\n",
              "      <td>40.690090</td>\n",
              "      <td>-73.982970</td>\n",
              "      <td>69.000000</td>\n",
              "      <td>1.000000</td>\n",
              "      <td>1.000000</td>\n",
              "      <td>0.190000</td>\n",
              "      <td>1.000000</td>\n",
              "      <td>0.000000</td>\n",
              "    </tr>\n",
              "    <tr>\n",
              "      <th>50%</th>\n",
              "      <td>3.053256e+07</td>\n",
              "      <td>40.723150</td>\n",
              "      <td>-73.955560</td>\n",
              "      <td>106.000000</td>\n",
              "      <td>3.000000</td>\n",
              "      <td>5.000000</td>\n",
              "      <td>0.720000</td>\n",
              "      <td>1.000000</td>\n",
              "      <td>45.000000</td>\n",
              "    </tr>\n",
              "    <tr>\n",
              "      <th>75%</th>\n",
              "      <td>1.074344e+08</td>\n",
              "      <td>40.763260</td>\n",
              "      <td>-73.935865</td>\n",
              "      <td>175.000000</td>\n",
              "      <td>5.000000</td>\n",
              "      <td>24.000000</td>\n",
              "      <td>2.010000</td>\n",
              "      <td>2.000000</td>\n",
              "      <td>227.000000</td>\n",
              "    </tr>\n",
              "    <tr>\n",
              "      <th>max</th>\n",
              "      <td>2.743213e+08</td>\n",
              "      <td>40.912340</td>\n",
              "      <td>-73.712990</td>\n",
              "      <td>10000.000000</td>\n",
              "      <td>1250.000000</td>\n",
              "      <td>629.000000</td>\n",
              "      <td>20.940000</td>\n",
              "      <td>327.000000</td>\n",
              "      <td>365.000000</td>\n",
              "    </tr>\n",
              "  </tbody>\n",
              "</table>\n",
              "</div>"
            ],
            "text/plain": [
              "                _id           lat           lon           sum      min_days  \\\n",
              "count  3.667100e+04  36671.000000  36671.000000  36671.000000  36671.000000   \n",
              "mean   6.720433e+07     40.729080    -73.951958    152.142292      7.053176   \n",
              "std    7.828147e+07      0.054671      0.046201    239.107973     21.539569   \n",
              "min    2.438000e+03     40.499790    -74.244420      0.000000      1.000000   \n",
              "25%    7.780024e+06     40.690090    -73.982970     69.000000      1.000000   \n",
              "50%    3.053256e+07     40.723150    -73.955560    106.000000      3.000000   \n",
              "75%    1.074344e+08     40.763260    -73.935865    175.000000      5.000000   \n",
              "max    2.743213e+08     40.912340    -73.712990  10000.000000   1250.000000   \n",
              "\n",
              "        amt_reviews   avg_reviews    total_host        target  \n",
              "count  36671.000000  29169.000000  36671.000000  36671.000000  \n",
              "mean      23.433667      1.365601      7.047694    112.766628  \n",
              "std       44.703590      1.643966     32.595427    131.583284  \n",
              "min        0.000000      0.010000      1.000000      0.000000  \n",
              "25%        1.000000      0.190000      1.000000      0.000000  \n",
              "50%        5.000000      0.720000      1.000000     45.000000  \n",
              "75%       24.000000      2.010000      2.000000    227.000000  \n",
              "max      629.000000     20.940000    327.000000    365.000000  "
            ]
          },
          "execution_count": 20,
          "metadata": {},
          "output_type": "execute_result"
        }
      ],
      "source": [
        "df.describe()"
      ]
    },
    {
      "cell_type": "code",
      "execution_count": null,
      "id": "e0b75158-673e-47d2-ae90-8a0ae46d381f",
      "metadata": {
        "id": "e0b75158-673e-47d2-ae90-8a0ae46d381f",
        "outputId": "98abea03-5994-4ba4-cb7d-6643988e417c"
      },
      "outputs": [
        {
          "data": {
            "text/plain": [
              "(36671, 15)"
            ]
          },
          "execution_count": 22,
          "metadata": {},
          "output_type": "execute_result"
        }
      ],
      "source": [
        "df.shape"
      ]
    },
    {
      "cell_type": "markdown",
      "id": "15db9fae-12d9-4f2d-896c-4f105b2da859",
      "metadata": {
        "id": "15db9fae-12d9-4f2d-896c-4f105b2da859"
      },
      "source": [
        "**Типы столбцов**"
      ]
    },
    {
      "cell_type": "code",
      "execution_count": null,
      "id": "a47f5706-3262-45a3-86ec-cb909d5be038",
      "metadata": {
        "id": "a47f5706-3262-45a3-86ec-cb909d5be038",
        "outputId": "97f0735d-31ec-4f27-a86b-26c80cf21e29"
      },
      "outputs": [
        {
          "data": {
            "text/plain": [
              "name                 object\n",
              "_id                   int64\n",
              "host_name            object\n",
              "location_cluster     object\n",
              "location             object\n",
              "lat                 float64\n",
              "lon                 float64\n",
              "type_house           object\n",
              "sum                   int64\n",
              "min_days              int64\n",
              "amt_reviews           int64\n",
              "last_dt              object\n",
              "avg_reviews         float64\n",
              "total_host            int64\n",
              "target                int64\n",
              "dtype: object"
            ]
          },
          "execution_count": 25,
          "metadata": {},
          "output_type": "execute_result"
        }
      ],
      "source": [
        "df.dtypes"
      ]
    },
    {
      "cell_type": "markdown",
      "id": "1b6bfbb1-0cb3-4316-a530-cbc56c3cd661",
      "metadata": {
        "id": "1b6bfbb1-0cb3-4316-a530-cbc56c3cd661"
      },
      "source": [
        "**Список категориальных столбцов и численных**"
      ]
    },
    {
      "cell_type": "code",
      "execution_count": null,
      "id": "e8dd7053-0f38-47c0-9c54-857ffd0baa51",
      "metadata": {
        "id": "e8dd7053-0f38-47c0-9c54-857ffd0baa51"
      },
      "outputs": [],
      "source": [
        "infl_columns = df.select_dtypes(exclude='object').columns"
      ]
    },
    {
      "cell_type": "code",
      "execution_count": null,
      "id": "e5275820-3408-4706-9d3d-89482150b29d",
      "metadata": {
        "id": "e5275820-3408-4706-9d3d-89482150b29d"
      },
      "outputs": [],
      "source": [
        "cat_columns = df.select_dtypes(include='object').columns"
      ]
    },
    {
      "cell_type": "markdown",
      "id": "c50d7ad4-4151-4a91-a58c-4163af888a09",
      "metadata": {
        "id": "c50d7ad4-4151-4a91-a58c-4163af888a09"
      },
      "source": [
        "**Работат с NaN значениями**"
      ]
    },
    {
      "cell_type": "markdown",
      "id": "8ffe4c03-7038-4d4b-a9ca-fce9103e15d8",
      "metadata": {
        "id": "8ffe4c03-7038-4d4b-a9ca-fce9103e15d8"
      },
      "source": [
        "Колонки с NaN значениями"
      ]
    },
    {
      "cell_type": "code",
      "execution_count": null,
      "id": "5faab90f-2d6f-4e1d-91f1-9b41cdf7c879",
      "metadata": {
        "id": "5faab90f-2d6f-4e1d-91f1-9b41cdf7c879",
        "outputId": "2706e9c7-b84b-458f-8143-1add0e55e12a"
      },
      "outputs": [
        {
          "data": {
            "text/plain": [
              "name                   9\n",
              "_id                    0\n",
              "host_name             18\n",
              "location_cluster       0\n",
              "location               0\n",
              "lat                    0\n",
              "lon                    0\n",
              "type_house             0\n",
              "sum                    0\n",
              "min_days               0\n",
              "amt_reviews            0\n",
              "last_dt             7502\n",
              "avg_reviews         7502\n",
              "total_host             0\n",
              "target                 0\n",
              "dtype: int64"
            ]
          },
          "execution_count": 34,
          "metadata": {},
          "output_type": "execute_result"
        }
      ],
      "source": [
        "df.isna().sum()"
      ]
    },
    {
      "cell_type": "markdown",
      "id": "48192c60-72a6-48b8-b563-18c588e18471",
      "metadata": {
        "id": "48192c60-72a6-48b8-b563-18c588e18471"
      },
      "source": [
        "Обработаем NaN значения"
      ]
    },
    {
      "cell_type": "markdown",
      "id": "73bcf7da-c889-450e-aed8-93e0d3e53691",
      "metadata": {
        "id": "73bcf7da-c889-450e-aed8-93e0d3e53691"
      },
      "source": [
        "Для неуказанных host_name будем предполагать, что хост не заполнил эти данные"
      ]
    },
    {
      "cell_type": "code",
      "execution_count": null,
      "id": "529d7977-0e28-4626-8ea2-3d04e7101189",
      "metadata": {
        "id": "529d7977-0e28-4626-8ea2-3d04e7101189"
      },
      "outputs": [],
      "source": [
        "df['host_name'] = np.where(df['host_name'].isna(), 'Unknown', df['host_name'])\n",
        "test['host_name'] = np.where(test['host_name'].isna(), 'Unknown', test['host_name'])"
      ]
    },
    {
      "cell_type": "markdown",
      "id": "b6ad3e7b-eae8-4b3b-9578-c8faf869ea1f",
      "metadata": {
        "id": "b6ad3e7b-eae8-4b3b-9578-c8faf869ea1f"
      },
      "source": [
        "Для неуказанных name будем предполагать, что хост не заполнил эти данные"
      ]
    },
    {
      "cell_type": "code",
      "execution_count": null,
      "id": "8aef6e36-1b76-462d-af9a-3d4d9406d855",
      "metadata": {
        "id": "8aef6e36-1b76-462d-af9a-3d4d9406d855"
      },
      "outputs": [],
      "source": [
        "df['name'] = np.where(df['name'].isna(), 'Unknown', df['name'])\n",
        "test['name'] = np.where(test['name'].isna(), 'Unknown', test['name'])"
      ]
    },
    {
      "cell_type": "markdown",
      "id": "c0e65284-9518-417e-8c97-446cec152fd5",
      "metadata": {
        "id": "c0e65284-9518-417e-8c97-446cec152fd5"
      },
      "source": [
        "Посмотрим на столбец avg_reviews"
      ]
    },
    {
      "cell_type": "code",
      "execution_count": null,
      "id": "60778620-8fbb-4e9b-97c9-c8ac919109dd",
      "metadata": {
        "id": "60778620-8fbb-4e9b-97c9-c8ac919109dd",
        "outputId": "fdc4f96b-4ca6-409b-e0ee-47bb6affd3e5"
      },
      "outputs": [
        {
          "data": {
            "text/plain": [
              "array([0], dtype=int64)"
            ]
          },
          "execution_count": 44,
          "metadata": {},
          "output_type": "execute_result"
        }
      ],
      "source": [
        "df.loc[df['avg_reviews'].isna(), 'amt_reviews'].unique()"
      ]
    },
    {
      "cell_type": "code",
      "execution_count": null,
      "id": "675fabf2-7acb-4601-9b67-b016975f8818",
      "metadata": {
        "id": "675fabf2-7acb-4601-9b67-b016975f8818",
        "outputId": "b8a5f51d-873f-4587-ddcb-c42445220500"
      },
      "outputs": [
        {
          "data": {
            "text/plain": [
              "array([], dtype=int64)"
            ]
          },
          "execution_count": 46,
          "metadata": {},
          "output_type": "execute_result"
        }
      ],
      "source": [
        "df.loc[df['avg_reviews'] == 0, 'amt_reviews'].unique()"
      ]
    },
    {
      "cell_type": "markdown",
      "id": "2e5c579b-d1fa-4c95-bd7e-fd42dc8a326c",
      "metadata": {
        "id": "2e5c579b-d1fa-4c95-bd7e-fd42dc8a326c"
      },
      "source": [
        "Видго, что в столбцах, где avg_reviews = NaN просто не было оценок. А также можно заметить, что нет в df значений у столбца avg_reviews=0, тогда заменим NaN на 0"
      ]
    },
    {
      "cell_type": "code",
      "execution_count": null,
      "id": "0c4d4d87-d4a0-4ffa-a149-247a3588796e",
      "metadata": {
        "id": "0c4d4d87-d4a0-4ffa-a149-247a3588796e"
      },
      "outputs": [],
      "source": [
        "df['avg_reviews'] = np.where(df['avg_reviews'].isna(), 0, df['avg_reviews'])\n",
        "test['avg_reviews'] = np.where(test['avg_reviews'].isna(), 0, test['avg_reviews'])"
      ]
    },
    {
      "cell_type": "markdown",
      "id": "233bdca6-b55c-4f0c-88d9-c1bc799c7d27",
      "metadata": {
        "id": "233bdca6-b55c-4f0c-88d9-c1bc799c7d27"
      },
      "source": [
        "Посмотрим на столбец last_dt             "
      ]
    },
    {
      "cell_type": "code",
      "execution_count": null,
      "id": "b6455f8b-6bbc-4b71-9ee0-952938ff51ef",
      "metadata": {
        "id": "b6455f8b-6bbc-4b71-9ee0-952938ff51ef",
        "outputId": "5af487c0-27ca-4be4-b867-d625b8490b65"
      },
      "outputs": [
        {
          "data": {
            "text/plain": [
              "array([0.])"
            ]
          },
          "execution_count": 52,
          "metadata": {},
          "output_type": "execute_result"
        }
      ],
      "source": [
        "df.loc[df['last_dt'].isna(), 'avg_reviews'].unique()"
      ]
    },
    {
      "cell_type": "markdown",
      "id": "e866b4eb-0478-40ca-9c88-b748246160fa",
      "metadata": {
        "id": "e866b4eb-0478-40ca-9c88-b748246160fa"
      },
      "source": [
        "Значит данный жилье никогда не бронировалось и никогда не снималось"
      ]
    },
    {
      "cell_type": "code",
      "execution_count": null,
      "id": "5b8cebc0-7b4f-4b16-b27c-5c99814b7930",
      "metadata": {
        "id": "5b8cebc0-7b4f-4b16-b27c-5c99814b7930"
      },
      "outputs": [],
      "source": [
        "df['has_last_dt'] = np.where(df['last_dt'].isna(), 0, 1)\n",
        "test['has_last_dt'] = np.where(test['last_dt'].isna(), 0, 1)"
      ]
    },
    {
      "cell_type": "code",
      "execution_count": null,
      "id": "9f073c40-31da-4426-baea-007ac089fa6c",
      "metadata": {
        "id": "9f073c40-31da-4426-baea-007ac089fa6c"
      },
      "outputs": [],
      "source": [
        "df['last_dt'] = np.where(df['last_dt'].isna(), '2012-01-03', df['last_dt'])\n",
        "test['last_dt'] = np.where(test['last_dt'].isna(), '2012-01-03', test['last_dt'])"
      ]
    },
    {
      "cell_type": "code",
      "execution_count": null,
      "id": "f48079d7-8583-4034-8505-cb988cc765c5",
      "metadata": {
        "id": "f48079d7-8583-4034-8505-cb988cc765c5"
      },
      "outputs": [],
      "source": [
        "df['last_dt'] = pd.to_datetime(df['last_dt'])\n",
        "test['last_dt'] = pd.to_datetime(test['last_dt'])"
      ]
    },
    {
      "cell_type": "markdown",
      "id": "e87761b4-0417-41d3-9136-1270b7d666e8",
      "metadata": {
        "id": "e87761b4-0417-41d3-9136-1270b7d666e8"
      },
      "source": [
        "**Рапспределение предсказываемого класса**"
      ]
    },
    {
      "cell_type": "code",
      "execution_count": null,
      "id": "b8b10122-9bd8-4376-a7b8-a559ba060785",
      "metadata": {
        "id": "b8b10122-9bd8-4376-a7b8-a559ba060785",
        "outputId": "517a5451-58b7-4e28-cf24-af81cd640b2b"
      },
      "outputs": [
        {
          "data": {
            "image/png": "[encoded data removed]",
            "text/plain": [
              "<Figure size 1500x800 with 1 Axes>"
            ]
          },
          "metadata": {},
          "output_type": "display_data"
        }
      ],
      "source": [
        "plt.figure(figsize=(15, 8))\n",
        "sns.kdeplot(df['target'], color='C0', fill=True, label='target')\n",
        "\n",
        "plt.xlabel('Количество дней')\n",
        "plt.ylabel('Частота')\n",
        "plt.title('Распределение количества дней, на который бронировали')\n",
        "plt.grid(True, alpha=0.3)\n",
        "plt.legend()\n",
        "plt.tight_layout()"
      ]
    },
    {
      "cell_type": "markdown",
      "id": "f0c3a79a-9dba-472d-a85f-9fc044dc7e67",
      "metadata": {
        "id": "f0c3a79a-9dba-472d-a85f-9fc044dc7e67"
      },
      "source": [
        "# Feature Engineering"
      ]
    },
    {
      "cell_type": "code",
      "execution_count": null,
      "id": "38410cfe-feb6-4c97-a17c-e847a86ea817",
      "metadata": {
        "id": "38410cfe-feb6-4c97-a17c-e847a86ea817"
      },
      "outputs": [],
      "source": [
        "#df.drop(columns = '_id', axis = 1, inplace=True)"
      ]
    },
    {
      "cell_type": "code",
      "execution_count": null,
      "id": "1151720d-5095-414e-b95c-7c80e1c725ef",
      "metadata": {
        "id": "1151720d-5095-414e-b95c-7c80e1c725ef"
      },
      "outputs": [],
      "source": [
        "#test.drop(columns = '_id', axis = 1, inplace=True)"
      ]
    },
    {
      "cell_type": "markdown",
      "id": "d532c4dd-e35d-4624-9b32-eb3cb072e79f",
      "metadata": {
        "id": "d532c4dd-e35d-4624-9b32-eb3cb072e79f",
        "jp-MarkdownHeadingCollapsed": true
      },
      "source": [
        "## Кодирование категориальных признаков"
      ]
    },
    {
      "cell_type": "code",
      "execution_count": null,
      "id": "3f6baa3d-2061-4867-ab58-08e5d2262501",
      "metadata": {
        "id": "3f6baa3d-2061-4867-ab58-08e5d2262501"
      },
      "outputs": [],
      "source": [
        "cat_columns = df.select_dtypes(include='object').columns"
      ]
    },
    {
      "cell_type": "code",
      "execution_count": null,
      "id": "bc6e0fba-92bf-42d4-b179-6fe2a97687ec",
      "metadata": {
        "id": "bc6e0fba-92bf-42d4-b179-6fe2a97687ec"
      },
      "outputs": [],
      "source": [
        "import category_encoders as ce"
      ]
    },
    {
      "cell_type": "code",
      "execution_count": null,
      "id": "093960b2-9ccf-45fa-ae83-9aa85df4d555",
      "metadata": {
        "id": "093960b2-9ccf-45fa-ae83-9aa85df4d555"
      },
      "outputs": [],
      "source": [
        "target_enc = ce.CatBoostEncoder(cols=cat_columns)\n",
        "target_enc = target_enc.fit(df[cat_columns],df['target'])\n",
        "df = df.join(target_enc.transform(df[cat_columns]).add_suffix('_cb'))"
      ]
    },
    {
      "cell_type": "code",
      "execution_count": null,
      "id": "c4baa959-eb87-4c5e-8402-96caf318dcf5",
      "metadata": {
        "id": "c4baa959-eb87-4c5e-8402-96caf318dcf5"
      },
      "outputs": [],
      "source": [
        "test = test.join(target_enc.transform(test[cat_columns]).add_suffix('_cb'))"
      ]
    },
    {
      "cell_type": "code",
      "execution_count": null,
      "id": "0fc0ba7d-d615-43f9-8f8e-5d3615ceec57",
      "metadata": {
        "id": "0fc0ba7d-d615-43f9-8f8e-5d3615ceec57"
      },
      "outputs": [],
      "source": [
        "#df.drop(columns = cat_columns, axis = 1, inplace=True)"
      ]
    },
    {
      "cell_type": "code",
      "execution_count": null,
      "id": "a8bb95b5-0382-44ab-9df1-e4cb7ac9df03",
      "metadata": {
        "id": "a8bb95b5-0382-44ab-9df1-e4cb7ac9df03"
      },
      "outputs": [],
      "source": [
        "#test.drop(columns = cat_columns, axis = 1, inplace=True)"
      ]
    },
    {
      "cell_type": "markdown",
      "id": "e9310540-c070-4e2f-8f26-bd736347480d",
      "metadata": {
        "id": "e9310540-c070-4e2f-8f26-bd736347480d",
        "jp-MarkdownHeadingCollapsed": true
      },
      "source": [
        "## Время"
      ]
    },
    {
      "cell_type": "code",
      "execution_count": null,
      "id": "50ef596f-d507-4625-bca2-d651e80bd56f",
      "metadata": {
        "id": "50ef596f-d507-4625-bca2-d651e80bd56f"
      },
      "outputs": [],
      "source": [
        "df['year'] = df['last_dt'].dt.year\n",
        "test['year'] = test['last_dt'].dt.year\n",
        "\n",
        "df['month'] = df['last_dt'].dt.month\n",
        "test['month'] = test['last_dt'].dt.month\n",
        "\n",
        "df['day'] = df['last_dt'].dt.day\n",
        "test['day'] = test['last_dt'].dt.day\n",
        "\n",
        "df['weekday'] = df['last_dt'].dt.weekday\n",
        "test['weekday'] = test['last_dt'].dt.weekday"
      ]
    },
    {
      "cell_type": "code",
      "execution_count": null,
      "id": "96884d47-5bc7-466d-a59c-e232b880e970",
      "metadata": {
        "id": "96884d47-5bc7-466d-a59c-e232b880e970"
      },
      "outputs": [],
      "source": [
        "df = df.sort_values(by='last_dt')\n",
        "\n",
        "test = test.sort_values(by='last_dt')"
      ]
    },
    {
      "cell_type": "code",
      "execution_count": null,
      "id": "f66c5e5a-9839-4f25-8a28-810ff188f672",
      "metadata": {
        "id": "f66c5e5a-9839-4f25-8a28-810ff188f672"
      },
      "outputs": [],
      "source": [
        "df['Time'] = df['last_dt'] - df['last_dt'].min()\n",
        "df['Time'] = df['Time'].dt.total_seconds()"
      ]
    },
    {
      "cell_type": "code",
      "execution_count": null,
      "id": "15831cdd-b560-4eff-913b-f89fd530e650",
      "metadata": {
        "id": "15831cdd-b560-4eff-913b-f89fd530e650"
      },
      "outputs": [],
      "source": [
        "test['Time'] = test['last_dt'] - df['last_dt'].min()\n",
        "test['Time'] = test['Time'].dt.total_seconds()"
      ]
    },
    {
      "cell_type": "code",
      "execution_count": null,
      "id": "517cbd2b-7954-4fa1-9653-c55bda455b3d",
      "metadata": {
        "id": "517cbd2b-7954-4fa1-9653-c55bda455b3d"
      },
      "outputs": [],
      "source": [
        "df['prev_time'] = df.groupby('name')['Time'].shift()\n",
        "df['time_since_prev'] = (df['Time'] - df['prev_time'])"
      ]
    },
    {
      "cell_type": "code",
      "execution_count": null,
      "id": "188da042-43bd-42b3-95f1-0a7508185197",
      "metadata": {
        "id": "188da042-43bd-42b3-95f1-0a7508185197"
      },
      "outputs": [],
      "source": [
        "test['prev_time'] = test.groupby('name')['Time'].shift()\n",
        "test['time_since_prev'] = (test['Time'] - test['prev_time'])"
      ]
    },
    {
      "cell_type": "code",
      "execution_count": null,
      "id": "25864e08-9f0b-40ad-b91e-863f65ff8059",
      "metadata": {
        "id": "25864e08-9f0b-40ad-b91e-863f65ff8059"
      },
      "outputs": [],
      "source": [
        "df['time_since_prev'] = df['time_since_prev'].fillna(-1)\n",
        "df.drop(columns ='prev_time' , axis = 1, inplace=True)"
      ]
    },
    {
      "cell_type": "code",
      "execution_count": null,
      "id": "3221d968-55d7-4129-bf7c-2dfced7ea066",
      "metadata": {
        "id": "3221d968-55d7-4129-bf7c-2dfced7ea066"
      },
      "outputs": [],
      "source": [
        "test['time_since_prev'] = test['time_since_prev'].fillna(-1)\n",
        "test.drop(columns ='prev_time' , axis = 1, inplace=True)"
      ]
    },
    {
      "cell_type": "markdown",
      "id": "fb1b8e03-7887-4197-83fe-dd77a40c34bd",
      "metadata": {
        "id": "fb1b8e03-7887-4197-83fe-dd77a40c34bd",
        "jp-MarkdownHeadingCollapsed": true
      },
      "source": [
        "## Логирофмирование цены"
      ]
    },
    {
      "cell_type": "code",
      "execution_count": null,
      "id": "2318ae6b-f2ca-4b4d-8b70-580bc411e6ee",
      "metadata": {
        "id": "2318ae6b-f2ca-4b4d-8b70-580bc411e6ee"
      },
      "outputs": [],
      "source": [
        "# df['sum'] = np.where(df['sum'] == 0, 1, df['sum'])"
      ]
    },
    {
      "cell_type": "code",
      "execution_count": null,
      "id": "c82de801-c268-4768-a7e0-e86da66cf6db",
      "metadata": {
        "id": "c82de801-c268-4768-a7e0-e86da66cf6db"
      },
      "outputs": [],
      "source": [
        "# df['sum'] = np.log(df['sum'])"
      ]
    },
    {
      "cell_type": "code",
      "execution_count": null,
      "id": "ae8be99e-1122-44ef-817c-1a641cd4d7cc",
      "metadata": {
        "id": "ae8be99e-1122-44ef-817c-1a641cd4d7cc"
      },
      "outputs": [],
      "source": [
        "# test['sum'] = np.where(test['sum'] == 0, 1, test['sum'])"
      ]
    },
    {
      "cell_type": "code",
      "execution_count": null,
      "id": "8ebc6cb7-d8b6-4a11-9518-77bc20a2ecbd",
      "metadata": {
        "id": "8ebc6cb7-d8b6-4a11-9518-77bc20a2ecbd"
      },
      "outputs": [],
      "source": [
        "# test['sum'] = np.log(test['sum'])"
      ]
    },
    {
      "cell_type": "markdown",
      "id": "76ccea68-28db-46ed-ad12-4a235347aeea",
      "metadata": {
        "id": "76ccea68-28db-46ed-ad12-4a235347aeea",
        "jp-MarkdownHeadingCollapsed": true
      },
      "source": [
        "## Тотал статистики по хосту"
      ]
    },
    {
      "cell_type": "code",
      "execution_count": null,
      "id": "e822474d-edc9-4698-af2f-7baaf328a5b8",
      "metadata": {
        "id": "e822474d-edc9-4698-af2f-7baaf328a5b8"
      },
      "outputs": [],
      "source": [
        "df_total_host = df.loc[::, ['host_name', 'sum']].groupby(by='host_name').agg({'sum': ['mean', 'median']}).reset_index()\n",
        "\n",
        "test_total_host = test.loc[::, ['host_name', 'sum']].groupby(by='host_name').agg({'sum': ['mean', 'median']}).reset_index()"
      ]
    },
    {
      "cell_type": "code",
      "execution_count": null,
      "id": "300748d7-2949-4d8d-8745-3b91d65d5818",
      "metadata": {
        "id": "300748d7-2949-4d8d-8745-3b91d65d5818"
      },
      "outputs": [],
      "source": [
        "df_total_host.columns = ['_'.join(col).strip('_') for col in df_total_host.columns.values]\n",
        "\n",
        "test_total_host.columns = ['_'.join(col).strip('_') for col in test_total_host.columns.values]\n"
      ]
    },
    {
      "cell_type": "code",
      "execution_count": null,
      "id": "84690b9e-6e3b-4494-bf09-f0587dd795d4",
      "metadata": {
        "id": "84690b9e-6e3b-4494-bf09-f0587dd795d4"
      },
      "outputs": [],
      "source": [
        "df = df.merge(df_total_host, how='inner', on='host_name')\n",
        "\n",
        "test = test.merge(test_total_host, how='inner', on='host_name')"
      ]
    },
    {
      "cell_type": "code",
      "execution_count": null,
      "id": "084227c1-2cea-41be-aea7-5bdfa01a2f24",
      "metadata": {
        "id": "084227c1-2cea-41be-aea7-5bdfa01a2f24"
      },
      "outputs": [],
      "source": [
        "df['diff_sum_host'] = df['sum'] - df['sum_mean']"
      ]
    },
    {
      "cell_type": "code",
      "execution_count": null,
      "id": "8c55d5a1-357d-46d6-a791-2c18fc6f6bc2",
      "metadata": {
        "id": "8c55d5a1-357d-46d6-a791-2c18fc6f6bc2"
      },
      "outputs": [],
      "source": [
        "test['diff_sum_host'] = test['sum'] - test['sum_mean']"
      ]
    },
    {
      "cell_type": "markdown",
      "id": "e332c150-054b-4e44-bad4-c169d80f07cc",
      "metadata": {
        "id": "e332c150-054b-4e44-bad4-c169d80f07cc",
        "jp-MarkdownHeadingCollapsed": true
      },
      "source": [
        "## Средний рейтинг хоста\n"
      ]
    },
    {
      "cell_type": "code",
      "execution_count": null,
      "id": "53fffd48-23b0-4b2e-870f-286290ab5b10",
      "metadata": {
        "id": "53fffd48-23b0-4b2e-870f-286290ab5b10"
      },
      "outputs": [],
      "source": [
        "df_house_actual = df.loc[::, ['name', 'last_dt']].groupby(by='name').max().reset_index()\n",
        "\n",
        "test_house_actual = test.loc[::, ['name', 'last_dt']].groupby(by='name').max().reset_index()"
      ]
    },
    {
      "cell_type": "code",
      "execution_count": null,
      "id": "1fc25bdb-13df-44b2-94d2-cc1dfb9d3550",
      "metadata": {
        "id": "1fc25bdb-13df-44b2-94d2-cc1dfb9d3550"
      },
      "outputs": [],
      "source": [
        "df_house_actual.columns  = ['name', 'last_dt_actual']\n",
        "\n",
        "test_house_actual.columns  = ['name', 'last_dt_actual']"
      ]
    },
    {
      "cell_type": "code",
      "execution_count": null,
      "id": "8a708e5a-78c8-43f4-b33f-66cc994ad3ba",
      "metadata": {
        "id": "8a708e5a-78c8-43f4-b33f-66cc994ad3ba"
      },
      "outputs": [],
      "source": [
        "df = df.merge(df_house_actual, how='inner', on='name')\n",
        "\n",
        "test = test.merge(test_house_actual, how='inner', on='name')"
      ]
    },
    {
      "cell_type": "code",
      "execution_count": null,
      "id": "d63bec8f-38c9-46cf-9ca5-4237f33df9a0",
      "metadata": {
        "id": "d63bec8f-38c9-46cf-9ca5-4237f33df9a0"
      },
      "outputs": [],
      "source": [
        "df_rating_host = df.loc[df['last_dt'] == df['last_dt_actual'], ['host_name', 'avg_reviews', 'amt_reviews']].groupby(by='host_name').mean().reset_index()\n",
        "\n",
        "test_rating_host = test.loc[test['last_dt'] == test['last_dt_actual'], ['host_name', 'avg_reviews', 'amt_reviews']].groupby(by='host_name').mean().reset_index()"
      ]
    },
    {
      "cell_type": "code",
      "execution_count": null,
      "id": "58cf5a60-dda1-4d30-90bb-915a7a83ee2c",
      "metadata": {
        "id": "58cf5a60-dda1-4d30-90bb-915a7a83ee2c"
      },
      "outputs": [],
      "source": [
        "df_rating_host.columns = ['host_name', 'avg_reviews_total', 'amt_reviews_total']"
      ]
    },
    {
      "cell_type": "code",
      "execution_count": null,
      "id": "2af7e8b3-02ff-44b6-8bb9-69d962093722",
      "metadata": {
        "id": "2af7e8b3-02ff-44b6-8bb9-69d962093722"
      },
      "outputs": [],
      "source": [
        "test_rating_host.columns = ['host_name', 'avg_reviews_total', 'amt_reviews_total']"
      ]
    },
    {
      "cell_type": "code",
      "execution_count": null,
      "id": "dd6ded78-0103-436e-a716-1e102039d7d4",
      "metadata": {
        "id": "dd6ded78-0103-436e-a716-1e102039d7d4"
      },
      "outputs": [],
      "source": [
        "df = df.merge(df_rating_host, how='left', on='host_name')\n",
        "\n",
        "test = test.merge(test_rating_host, how='left', on='host_name')"
      ]
    },
    {
      "cell_type": "code",
      "execution_count": null,
      "id": "6ad80327-9617-48b9-b368-e808c56d0ae8",
      "metadata": {
        "id": "6ad80327-9617-48b9-b368-e808c56d0ae8"
      },
      "outputs": [],
      "source": [
        "df['diff_avg_reviews_host'] = df['avg_reviews'] - df['avg_reviews_total']\n",
        "\n",
        "test['diff_avg_reviews_host'] = test['avg_reviews_total'] - test['avg_reviews_total']"
      ]
    },
    {
      "cell_type": "code",
      "execution_count": null,
      "id": "da7f8973-a297-483c-bdd8-6091a0b4d34f",
      "metadata": {
        "id": "da7f8973-a297-483c-bdd8-6091a0b4d34f"
      },
      "outputs": [],
      "source": [
        "df['diff_amt_reviews_host'] = df['amt_reviews'] - df['amt_reviews_total']\n",
        "\n",
        "test['diff_amt_reviews_host'] = test['amt_reviews'] - test['amt_reviews_total']"
      ]
    },
    {
      "cell_type": "markdown",
      "id": "1b7ebdd8-d4a4-4bb3-976f-917aa4a08879",
      "metadata": {
        "id": "1b7ebdd8-d4a4-4bb3-976f-917aa4a08879",
        "jp-MarkdownHeadingCollapsed": true
      },
      "source": [
        "## Информация о кластере"
      ]
    },
    {
      "cell_type": "code",
      "execution_count": null,
      "id": "aa988759-7224-4f06-8bb7-6bb6717c23ab",
      "metadata": {
        "id": "aa988759-7224-4f06-8bb7-6bb6717c23ab"
      },
      "outputs": [],
      "source": [
        "df['mean_sum_location_cluster_year'] = df.groupby(['location_cluster', 'year'])['sum'].expanding().mean().reset_index(level=[0,1], drop=True)\n",
        "\n",
        "test['mean_sum_location_cluster_year'] = test.groupby(['location_cluster', 'year'])['sum'].expanding().mean().reset_index(level=[0,1], drop=True)"
      ]
    },
    {
      "cell_type": "code",
      "execution_count": null,
      "id": "dfcb5707-3a08-4bca-9644-c8df35fbc17f",
      "metadata": {
        "id": "dfcb5707-3a08-4bca-9644-c8df35fbc17f"
      },
      "outputs": [],
      "source": [
        "df['mean_avg_reviews_total_location_cluster_year'] = df.groupby(['location_cluster', 'year'])['avg_reviews_total'].expanding().mean().reset_index(level=[0,1], drop=True)\n",
        "\n",
        "test['mean_avg_reviews_total_location_cluster_year'] = test.groupby(['location_cluster', 'year'])['avg_reviews_total'].expanding().mean().reset_index(level=[0,1], drop=True)\n"
      ]
    },
    {
      "cell_type": "code",
      "execution_count": null,
      "id": "ef54c26b-333c-4ce4-ad5d-a26873f51738",
      "metadata": {
        "id": "ef54c26b-333c-4ce4-ad5d-a26873f51738"
      },
      "outputs": [],
      "source": [
        "df['mean_amt_reviews_total_location_cluster_year'] = df.groupby(['location_cluster', 'year'])['amt_reviews_total'].expanding().mean().reset_index(level=[0,1], drop=True)\n",
        "\n",
        "test['mean_amt_reviews_total_location_cluster_year'] = test.groupby(['location_cluster', 'year'])['amt_reviews_total'].expanding().mean().reset_index(level=[0,1], drop=True)\n"
      ]
    },
    {
      "cell_type": "code",
      "execution_count": null,
      "id": "cb34a76a-b76d-4948-bb15-d48f6205e303",
      "metadata": {
        "id": "cb34a76a-b76d-4948-bb15-d48f6205e303"
      },
      "outputs": [],
      "source": [
        "df['diff_cluster_sum'] = df['sum'] - df['mean_sum_location_cluster_year']\n",
        "\n",
        "test['diff_cluster_sum'] = test['sum'] - test['mean_sum_location_cluster_year']"
      ]
    },
    {
      "cell_type": "code",
      "execution_count": null,
      "id": "47d2a5c3-616f-4caa-9c56-e340c32d003f",
      "metadata": {
        "id": "47d2a5c3-616f-4caa-9c56-e340c32d003f"
      },
      "outputs": [],
      "source": [
        "df['diff_cluster_avg_reviews_total'] = df['avg_reviews_total'] - df['mean_avg_reviews_total_location_cluster_year']\n",
        "\n",
        "test['diff_cluster_avg_reviews_total'] = test['avg_reviews_total'] - test['mean_avg_reviews_total_location_cluster_year']"
      ]
    },
    {
      "cell_type": "code",
      "execution_count": null,
      "id": "eaf2146e-691d-4bff-8916-b724b87c41c6",
      "metadata": {
        "id": "eaf2146e-691d-4bff-8916-b724b87c41c6"
      },
      "outputs": [],
      "source": [
        "df['diff_cluster_amt_reviews_total'] = df['amt_reviews_total'] - df['mean_amt_reviews_total_location_cluster_year']\n",
        "\n",
        "test['diff_cluster_amt_reviews_total'] = test['amt_reviews_total'] - test['mean_amt_reviews_total_location_cluster_year']"
      ]
    },
    {
      "cell_type": "markdown",
      "id": "93c60de0-916e-4c76-a616-ce0b2ed0ad86",
      "metadata": {
        "id": "93c60de0-916e-4c76-a616-ce0b2ed0ad86",
        "jp-MarkdownHeadingCollapsed": true
      },
      "source": [
        "## Цена за сутки"
      ]
    },
    {
      "cell_type": "code",
      "execution_count": null,
      "id": "0d23f341-143e-4448-81b6-58d410261363",
      "metadata": {
        "id": "0d23f341-143e-4448-81b6-58d410261363"
      },
      "outputs": [],
      "source": [
        "df['price_per_day'] = df['sum'] / df['min_days']\n",
        "\n",
        "test['price_per_day'] = test['sum'] / test['min_days']"
      ]
    },
    {
      "cell_type": "code",
      "execution_count": null,
      "id": "837b2cf5-41ae-493f-963d-49b649f0cc4b",
      "metadata": {
        "id": "837b2cf5-41ae-493f-963d-49b649f0cc4b"
      },
      "outputs": [],
      "source": [
        "df = df.fillna(0)\n",
        "test = test.fillna(0)"
      ]
    },
    {
      "cell_type": "markdown",
      "id": "1199b71c-c7a5-4dbb-a376-02ba4a25e895",
      "metadata": {
        "id": "1199b71c-c7a5-4dbb-a376-02ba4a25e895",
        "jp-MarkdownHeadingCollapsed": true
      },
      "source": [
        "## Маштибирование прзинаков"
      ]
    },
    {
      "cell_type": "code",
      "execution_count": null,
      "id": "b0e7891a-da1f-4491-907d-f1789a5b5aca",
      "metadata": {
        "id": "b0e7891a-da1f-4491-907d-f1789a5b5aca"
      },
      "outputs": [],
      "source": [
        "from sklearn.preprocessing import StandardScaler\n"
      ]
    },
    {
      "cell_type": "code",
      "execution_count": null,
      "id": "ee22eea7-6834-4f82-b993-22c66ffc450c",
      "metadata": {
        "id": "ee22eea7-6834-4f82-b993-22c66ffc450c"
      },
      "outputs": [],
      "source": [
        "infl_columns = df.select_dtypes(exclude='object').columns"
      ]
    },
    {
      "cell_type": "code",
      "execution_count": null,
      "id": "355953fd-0912-4cc4-9088-af486dfc0f34",
      "metadata": {
        "id": "355953fd-0912-4cc4-9088-af486dfc0f34"
      },
      "outputs": [],
      "source": [
        "infl_columns1 = []\n",
        "for cat in infl_columns:\n",
        "    if (cat !='last_dt') & (cat !='target') & (cat !='last_dt_actual'):\n",
        "        infl_columns1.append(cat)"
      ]
    },
    {
      "cell_type": "code",
      "execution_count": null,
      "id": "aee7397e-13b3-47cd-b06c-27c2e498dd02",
      "metadata": {
        "id": "aee7397e-13b3-47cd-b06c-27c2e498dd02"
      },
      "outputs": [],
      "source": [
        "scaler = StandardScaler()\n",
        "scaler.fit(df[infl_columns1])\n",
        "df[infl_columns1] = scaler.transform(df[infl_columns1])"
      ]
    },
    {
      "cell_type": "code",
      "execution_count": null,
      "id": "ed246ec7-d98b-4170-9e34-c2de2e2de635",
      "metadata": {
        "id": "ed246ec7-d98b-4170-9e34-c2de2e2de635"
      },
      "outputs": [],
      "source": [
        "test[infl_columns1] = scaler.transform(test[infl_columns1])"
      ]
    },
    {
      "cell_type": "markdown",
      "id": "47ea4eb1-cdbc-491b-81e6-85c4faebc8bc",
      "metadata": {
        "id": "47ea4eb1-cdbc-491b-81e6-85c4faebc8bc",
        "jp-MarkdownHeadingCollapsed": true
      },
      "source": [
        "## Положительные слова в названии, которые могут сигнализировать о хорошом качестве квартиры"
      ]
    },
    {
      "cell_type": "code",
      "execution_count": null,
      "id": "3d5d44e6-764c-4454-9e98-4c72121a24f4",
      "metadata": {
        "id": "3d5d44e6-764c-4454-9e98-4c72121a24f4"
      },
      "outputs": [],
      "source": [
        "# positive_words = [\n",
        "#     # Комфорт / Интерьер\n",
        "#     \"beautiful\", \"cozy\", \"modern\", \"spacious\", \"stylish\", \"elegant\", \"charming\",\n",
        "#     \"warm\", \"inviting\", \"comfortable\", \"luxury\", \"renovated\", \"bright\", \"clean\",\n",
        "#     \"minimalist\", \"sleek\", \"well-designed\",\n",
        "\n",
        "#     # Расположение / Вид\n",
        "#     \"central\", \"downtown\", \"heart of city\", \"close to metro\", \"close to center\",\n",
        "#     \"great location\", \"sea view\", \"city view\", \"panoramic\", \"sunny\", \"quiet\",\n",
        "#     \"green area\", \"near park\",\n",
        "\n",
        "#     # Уникальность / Удобства\n",
        "#     \"unique\", \"authentic\", \"high ceilings\", \"balcony\", \"terrace\", \"private\",\n",
        "#     \"studio\", \"loft\", \"historic\", \"pet friendly\", \"family friendly\", \"fully equipped\",\n",
        "\n",
        "#     # Для деловых / удалённых\n",
        "#     \"wifi\", \"workspace\", \"desk\", \"business\", \"remote work\",\n",
        "\n",
        "#     # Отдых и атмосфера\n",
        "#     \"romantic\", \"relaxing\", \"weekend\", \"getaway\", \"retreat\"\n",
        "# ]"
      ]
    },
    {
      "cell_type": "code",
      "execution_count": null,
      "id": "aec65fae-9da2-4fb2-9e86-74101b77234b",
      "metadata": {
        "id": "aec65fae-9da2-4fb2-9e86-74101b77234b"
      },
      "outputs": [],
      "source": [
        "# def extract_keywords_features(df, column='name', keywords=positive_words):\n",
        "#     df[column] = df[column].astype(str).str.lower()\n",
        "#     for word in keywords:\n",
        "#         flag_name = f'has_{word.replace(\" \", \"_\")}'\n",
        "#         df[flag_name] = df[column].str.contains(rf'\\b{word}\\b', regex=True).astype(int)\n",
        "#     return df\n",
        "# extract_keywords_features(df)"
      ]
    },
    {
      "cell_type": "code",
      "execution_count": null,
      "id": "23f2b6fc-6415-4bd7-8ef1-6a6f56015593",
      "metadata": {
        "id": "23f2b6fc-6415-4bd7-8ef1-6a6f56015593"
      },
      "outputs": [],
      "source": [
        "# extract_keywords_features(test)"
      ]
    },
    {
      "cell_type": "markdown",
      "id": "b6c2f5e4-26a4-4ca5-a93a-5ef4e4838ed9",
      "metadata": {
        "id": "b6c2f5e4-26a4-4ca5-a93a-5ef4e4838ed9",
        "jp-MarkdownHeadingCollapsed": true
      },
      "source": [
        "# Построим матрицу корреляции для числовых признаков"
      ]
    },
    {
      "cell_type": "code",
      "execution_count": null,
      "id": "a26df8ab-ea33-4063-990b-c9483389ba30",
      "metadata": {
        "id": "a26df8ab-ea33-4063-990b-c9483389ba30",
        "outputId": "bf6e066b-4ced-4c7c-bf96-295e5e26a365"
      },
      "outputs": [
        {
          "data": {
            "image/png": "[encoded data removed]",
            "text/plain": [
              "<Figure size 2100x1500 with 2 Axes>"
            ]
          },
          "metadata": {},
          "output_type": "display_data"
        }
      ],
      "source": [
        "corr_matrix = df.loc[::,infl_columns].corr()\n",
        "plt.figure(figsize=(21, 15))\n",
        "sns.heatmap(corr_matrix, cmap='coolwarm', linewidths=0, square=True)\n",
        "plt.title('Матрица корреляции признаков')\n",
        "plt.xticks(rotation=45)\n",
        "plt.tight_layout()"
      ]
    },
    {
      "cell_type": "code",
      "execution_count": null,
      "id": "464e6de7-19ac-4b8c-9aaf-7f28d397668d",
      "metadata": {
        "id": "464e6de7-19ac-4b8c-9aaf-7f28d397668d"
      },
      "outputs": [],
      "source": [
        "model_features_all = ['location_cluster', 'location', 'lat',\n",
        "       'lon', 'type_house', 'sum', 'min_days', 'amt_reviews',\n",
        "       'avg_reviews', 'total_host',  'has_last_dt', 'location_cluster_cb', 'location_cb', 'type_house_cb',\n",
        "       'year', 'month', 'day', 'weekday', 'Time', 'time_since_prev',\n",
        "       'sum_mean', 'sum_median', 'diff_sum_host',\n",
        "       'avg_reviews_total', 'amt_reviews_total', 'diff_avg_reviews_host',\n",
        "       'diff_amt_reviews_host', 'mean_sum_location_cluster_year',\n",
        "       'mean_avg_reviews_total_location_cluster_year',\n",
        "       'mean_amt_reviews_total_location_cluster_year', 'diff_cluster_sum',\n",
        "       'diff_cluster_avg_reviews_total', 'diff_cluster_amt_reviews_total',\n",
        "       'price_per_day']"
      ]
    },
    {
      "cell_type": "code",
      "execution_count": null,
      "id": "d753a327-c2ea-4ace-9fbe-791f99f1a8e5",
      "metadata": {
        "id": "d753a327-c2ea-4ace-9fbe-791f99f1a8e5"
      },
      "outputs": [],
      "source": [
        "model_features_other = [ 'lat',\n",
        "       'lon', 'sum', 'min_days', 'amt_reviews',\n",
        "       'avg_reviews', 'total_host', 'has_last_dt'\n",
        "        , 'location_cluster_cb', 'location_cb', 'type_house_cb',\n",
        "       'year', 'month', 'day', 'weekday', 'Time', 'time_since_prev',\n",
        "       'sum_mean', 'sum_median', 'diff_sum_host',\n",
        "       'avg_reviews_total', 'amt_reviews_total', 'diff_avg_reviews_host',\n",
        "       'diff_amt_reviews_host', 'mean_sum_location_cluster_year',\n",
        "       'mean_avg_reviews_total_location_cluster_year',\n",
        "       'mean_amt_reviews_total_location_cluster_year', 'diff_cluster_sum',\n",
        "       'diff_cluster_avg_reviews_total', 'diff_cluster_amt_reviews_total',\n",
        "       'price_per_day']"
      ]
    },
    {
      "cell_type": "code",
      "execution_count": null,
      "id": "25e643d0-a27f-4e4e-a171-dca7c954d796",
      "metadata": {
        "id": "25e643d0-a27f-4e4e-a171-dca7c954d796"
      },
      "outputs": [],
      "source": [
        "model_features_cat = ['location_cluster', 'location', 'lat',\n",
        "       'lon', 'type_house', 'sum', 'min_days', 'amt_reviews',\n",
        "       'avg_reviews', 'total_host',  'has_last_dt',\n",
        "       'year', 'month', 'day', 'weekday', 'Time', 'time_since_prev',\n",
        "       'sum_mean', 'sum_median', 'diff_sum_host',\n",
        "       'avg_reviews_total', 'amt_reviews_total', 'diff_avg_reviews_host',\n",
        "       'diff_amt_reviews_host', 'mean_sum_location_cluster_year',\n",
        "       'mean_avg_reviews_total_location_cluster_year',\n",
        "       'mean_amt_reviews_total_location_cluster_year', 'diff_cluster_sum',\n",
        "       'diff_cluster_avg_reviews_total', 'diff_cluster_amt_reviews_total',\n",
        "       'price_per_day']"
      ]
    },
    {
      "cell_type": "markdown",
      "id": "128e3987-684c-4739-8ede-5efa8dc3a765",
      "metadata": {
        "id": "128e3987-684c-4739-8ede-5efa8dc3a765",
        "jp-MarkdownHeadingCollapsed": true
      },
      "source": [
        "# Библиотеки"
      ]
    },
    {
      "cell_type": "code",
      "execution_count": null,
      "id": "9466cac6-10c8-4a6c-a0ae-043f82a6f4b0",
      "metadata": {
        "id": "9466cac6-10c8-4a6c-a0ae-043f82a6f4b0"
      },
      "outputs": [],
      "source": [
        "from sklearn.tree import DecisionTreeClassifier\n",
        "from lightgbm import LGBMClassifier\n",
        "from sklearn.model_selection import train_test_split\n",
        "from sklearn.metrics import f1_score\n",
        "from catboost import CatBoostRegressor\n",
        "from sklearn.tree import DecisionTreeClassifier, plot_tree"
      ]
    },
    {
      "cell_type": "code",
      "execution_count": null,
      "id": "3f711bfa-3a8e-4b96-9118-978d7da7fd2c",
      "metadata": {
        "id": "3f711bfa-3a8e-4b96-9118-978d7da7fd2c"
      },
      "outputs": [],
      "source": [
        "from sklearn.tree import DecisionTreeClassifier\n",
        "from lightgbm import LGBMClassifier\n",
        "from sklearn.model_selection import train_test_split\n",
        "from sklearn.metrics import f1_score\n",
        "from catboost import CatBoostClassifier, Pool\n",
        "from sklearn.tree import DecisionTreeClassifier, plot_tree"
      ]
    },
    {
      "cell_type": "code",
      "execution_count": null,
      "id": "fe960545-a3a4-43f2-99b5-29c166c3e6f7",
      "metadata": {
        "id": "fe960545-a3a4-43f2-99b5-29c166c3e6f7"
      },
      "outputs": [],
      "source": [
        "X, y = df.loc[::, model_features_all].copy(), df['target']"
      ]
    },
    {
      "cell_type": "markdown",
      "id": "4fd6b370-7c9f-4709-af3a-1f29604d8519",
      "metadata": {
        "id": "4fd6b370-7c9f-4709-af3a-1f29604d8519",
        "jp-MarkdownHeadingCollapsed": true
      },
      "source": [
        "# Auto ml"
      ]
    },
    {
      "cell_type": "code",
      "execution_count": null,
      "id": "14b92ba0-ccbf-48b9-bb96-0b25ad2965ce",
      "metadata": {
        "id": "14b92ba0-ccbf-48b9-bb96-0b25ad2965ce"
      },
      "outputs": [],
      "source": [
        "from lightautoml.automl.presets.tabular_presets import TabularAutoML\n",
        "from lightautoml.tasks import Task"
      ]
    },
    {
      "cell_type": "code",
      "execution_count": null,
      "id": "3f5753bc-924e-4e93-aea3-20fe4efda160",
      "metadata": {
        "id": "3f5753bc-924e-4e93-aea3-20fe4efda160"
      },
      "outputs": [],
      "source": [
        "X_train_auto, X_test__auto, y_train_auto, y_test_onlu_auto = train_test_split(X.loc[::,model_features_cat], y, test_size=0.1, random_state=2025)"
      ]
    },
    {
      "cell_type": "code",
      "execution_count": null,
      "id": "6bda85b2-997d-4d12-9946-7d66407762f9",
      "metadata": {
        "id": "6bda85b2-997d-4d12-9946-7d66407762f9"
      },
      "outputs": [],
      "source": [
        "X_train_auto['target'] = y_train_auto"
      ]
    },
    {
      "cell_type": "code",
      "execution_count": null,
      "id": "e318295c-cdd3-4438-b0d5-098c0197d8fe",
      "metadata": {
        "id": "e318295c-cdd3-4438-b0d5-098c0197d8fe"
      },
      "outputs": [],
      "source": [
        "automl = TabularAutoML(task = Task(name='reg', metric='mse'), timeout=2000)"
      ]
    },
    {
      "cell_type": "code",
      "execution_count": null,
      "id": "34b80628-99f5-46f3-8aea-08ca496a5fe4",
      "metadata": {
        "id": "34b80628-99f5-46f3-8aea-08ca496a5fe4"
      },
      "outputs": [],
      "source": [
        "oof_preds = automl.fit_predict(X_train_auto, roles = {'target': 'target'}).data"
      ]
    },
    {
      "cell_type": "code",
      "execution_count": null,
      "id": "48834c21-d437-4b3d-ac56-739ec028aad7",
      "metadata": {
        "id": "48834c21-d437-4b3d-ac56-739ec028aad7"
      },
      "outputs": [],
      "source": [
        "test_preds = automl.predict(X_test__auto).data"
      ]
    },
    {
      "cell_type": "code",
      "execution_count": null,
      "id": "24488038-97b2-4ea7-8c65-a5ccb6a65872",
      "metadata": {
        "id": "24488038-97b2-4ea7-8c65-a5ccb6a65872",
        "outputId": "075d1ea1-2284-45c5-8cf2-e9d1144ae503"
      },
      "outputs": [
        {
          "data": {
            "text/plain": [
              "10079.3603515625"
            ]
          },
          "execution_count": 199,
          "metadata": {},
          "output_type": "execute_result"
        }
      ],
      "source": [
        "from sklearn.metrics import mean_squared_error\n",
        "mean_squared_error(y_test_onlu_auto, test_preds)"
      ]
    },
    {
      "cell_type": "markdown",
      "id": "2d0de46d-4e2f-4649-814a-132efb01a4d7",
      "metadata": {
        "id": "2d0de46d-4e2f-4649-814a-132efb01a4d7",
        "jp-MarkdownHeadingCollapsed": true
      },
      "source": [
        "# Свой ансамбль"
      ]
    },
    {
      "cell_type": "markdown",
      "id": "f7188c58-81af-4c23-8ac6-fca0d705445a",
      "metadata": {
        "id": "f7188c58-81af-4c23-8ac6-fca0d705445a",
        "jp-MarkdownHeadingCollapsed": true
      },
      "source": [
        "## Подготовка данных для ансамбля"
      ]
    },
    {
      "cell_type": "code",
      "execution_count": null,
      "id": "b181ca80-8f55-4fc2-bc6c-d54f49edc6cd",
      "metadata": {
        "id": "b181ca80-8f55-4fc2-bc6c-d54f49edc6cd"
      },
      "outputs": [],
      "source": [
        "X_temp, X_test, y_temp, y_test = train_test_split(X, y, test_size=0.1, random_state=13)\n",
        "X_train, X_val, y_train, y_val = train_test_split(X_temp, y_temp, test_size=0.40, random_state=13)"
      ]
    },
    {
      "cell_type": "code",
      "execution_count": null,
      "id": "a25ce6f3-09c8-4c91-8423-dd6113c84ad8",
      "metadata": {
        "id": "a25ce6f3-09c8-4c91-8423-dd6113c84ad8"
      },
      "outputs": [],
      "source": [
        "X_train_cat = X_train.loc[::, model_features_cat].copy()\n",
        "X_test_cat = X_test.loc[::, model_features_cat].copy()"
      ]
    },
    {
      "cell_type": "code",
      "execution_count": null,
      "id": "d6315d0f-e196-4cc7-9f68-2e32a905d1c2",
      "metadata": {
        "id": "d6315d0f-e196-4cc7-9f68-2e32a905d1c2"
      },
      "outputs": [],
      "source": [
        "X_train_other = X_train.loc[::, model_features_other].copy()\n",
        "X_test_other = X_test.loc[::, model_features_other].copy()"
      ]
    },
    {
      "cell_type": "code",
      "execution_count": null,
      "id": "901231f3-0a7d-4e69-a6c9-9d37b35d3d88",
      "metadata": {
        "id": "901231f3-0a7d-4e69-a6c9-9d37b35d3d88"
      },
      "outputs": [],
      "source": [
        "X_val_other = X_val.loc[::, model_features_other].copy()\n",
        "X_val_cat = X_val.loc[::, model_features_cat].copy()"
      ]
    },
    {
      "cell_type": "code",
      "execution_count": null,
      "id": "48745f11-5abc-4421-bce5-d880930e0a08",
      "metadata": {
        "id": "48745f11-5abc-4421-bce5-d880930e0a08"
      },
      "outputs": [],
      "source": [
        "test = test.sort_values(by='index')"
      ]
    },
    {
      "cell_type": "code",
      "execution_count": null,
      "id": "29a10509-9744-4dd3-a042-8d4a7acd41f6",
      "metadata": {
        "id": "29a10509-9744-4dd3-a042-8d4a7acd41f6"
      },
      "outputs": [],
      "source": [
        "main_test_cat= test.loc[::, model_features_cat].copy()\n",
        "main_test_other = test.loc[::, model_features_other].copy()"
      ]
    },
    {
      "cell_type": "code",
      "execution_count": null,
      "id": "dad09c81-32b4-4914-8800-143adf7e9df4",
      "metadata": {
        "id": "dad09c81-32b4-4914-8800-143adf7e9df4"
      },
      "outputs": [],
      "source": [
        "cat_columns_end = []\n",
        "for i in range(len(cat_columns)):\n",
        "    if cat_columns[i] in model_features_cat:\n",
        "        cat_columns_end.append(cat_columns[i])"
      ]
    },
    {
      "cell_type": "markdown",
      "id": "f8dc0714-587a-46ee-a8b6-c3ba24e11f33",
      "metadata": {
        "id": "f8dc0714-587a-46ee-a8b6-c3ba24e11f33",
        "jp-MarkdownHeadingCollapsed": true
      },
      "source": [
        "## CatBoostRegressor"
      ]
    },
    {
      "cell_type": "code",
      "execution_count": null,
      "id": "defccb9c-fa8f-455e-ae29-c0b7f2a70656",
      "metadata": {
        "id": "defccb9c-fa8f-455e-ae29-c0b7f2a70656"
      },
      "outputs": [],
      "source": [
        "import time\n",
        "from tqdm import tqdm"
      ]
    },
    {
      "cell_type": "code",
      "execution_count": null,
      "id": "c42525b3-ac5e-4b79-8d44-7ffb9474bb29",
      "metadata": {
        "id": "c42525b3-ac5e-4b79-8d44-7ffb9474bb29",
        "outputId": "1381129d-3419-4cbe-ac16-07819e8197b2"
      },
      "outputs": [
        {
          "name": "stdout",
          "output_type": "stream",
          "text": [
            "\n",
            "Запуск Hyperopt...\n"
          ]
        },
        {
          "name": "stderr",
          "output_type": "stream",
          "text": [
            "Hyperopt: 100%|████████████████████████████████████████████████████████████████████████| 30/30 [11:45<00:00, 23.50s/it]\n"
          ]
        },
        {
          "name": "stdout",
          "output_type": "stream",
          "text": [
            "0:\tlearn: 128.5349524\ttotal: 158ms\tremaining: 1m 26s\n",
            "1:\tlearn: 125.5912551\ttotal: 181ms\tremaining: 49.7s\n",
            "2:\tlearn: 123.0152108\ttotal: 204ms\tremaining: 37.1s\n",
            "3:\tlearn: 120.7595266\ttotal: 227ms\tremaining: 31s\n",
            "4:\tlearn: 118.9698310\ttotal: 249ms\tremaining: 27.2s\n",
            "5:\tlearn: 117.4538315\ttotal: 270ms\tremaining: 24.5s\n",
            "6:\tlearn: 116.1402617\ttotal: 292ms\tremaining: 22.6s\n",
            "7:\tlearn: 115.0406199\ttotal: 321ms\tremaining: 21.8s\n",
            "8:\tlearn: 114.0863313\ttotal: 351ms\tremaining: 21.1s\n",
            "9:\tlearn: 113.2122833\ttotal: 388ms\tremaining: 20.9s\n",
            "10:\tlearn: 112.5311126\ttotal: 416ms\tremaining: 20.4s\n",
            "11:\tlearn: 111.9328804\ttotal: 442ms\tremaining: 19.8s\n",
            "12:\tlearn: 111.3648731\ttotal: 470ms\tremaining: 19.4s\n",
            "13:\tlearn: 110.8996936\ttotal: 491ms\tremaining: 18.8s\n",
            "14:\tlearn: 110.3772932\ttotal: 515ms\tremaining: 18.4s\n",
            "15:\tlearn: 109.9461220\ttotal: 535ms\tremaining: 17.9s\n",
            "16:\tlearn: 109.6463851\ttotal: 558ms\tremaining: 17.5s\n",
            "17:\tlearn: 109.3418628\ttotal: 579ms\tremaining: 17.1s\n",
            "18:\tlearn: 109.0337212\ttotal: 602ms\tremaining: 16.8s\n",
            "19:\tlearn: 108.7681099\ttotal: 629ms\tremaining: 16.7s\n",
            "20:\tlearn: 108.4914483\ttotal: 655ms\tremaining: 16.5s\n",
            "21:\tlearn: 108.2469286\ttotal: 676ms\tremaining: 16.2s\n",
            "22:\tlearn: 108.0784821\ttotal: 706ms\tremaining: 16.2s\n",
            "23:\tlearn: 107.8857018\ttotal: 733ms\tremaining: 16.1s\n",
            "24:\tlearn: 107.6953485\ttotal: 762ms\tremaining: 16s\n",
            "25:\tlearn: 107.5115560\ttotal: 787ms\tremaining: 15.9s\n",
            "26:\tlearn: 107.3712378\ttotal: 814ms\tremaining: 15.8s\n",
            "27:\tlearn: 107.1967232\ttotal: 843ms\tremaining: 15.7s\n",
            "28:\tlearn: 107.0581405\ttotal: 882ms\tremaining: 15.8s\n",
            "29:\tlearn: 106.9393441\ttotal: 909ms\tremaining: 15.8s\n",
            "30:\tlearn: 106.7880738\ttotal: 932ms\tremaining: 15.6s\n",
            "31:\tlearn: 106.6860887\ttotal: 956ms\tremaining: 15.5s\n",
            "32:\tlearn: 106.6225583\ttotal: 980ms\tremaining: 15.3s\n",
            "33:\tlearn: 106.5294945\ttotal: 1s\tremaining: 15.2s\n",
            "34:\tlearn: 106.3811803\ttotal: 1.02s\tremaining: 15.1s\n",
            "35:\tlearn: 106.2550684\ttotal: 1.05s\tremaining: 15s\n",
            "36:\tlearn: 106.1619578\ttotal: 1.07s\tremaining: 14.9s\n",
            "37:\tlearn: 106.0645149\ttotal: 1.1s\tremaining: 14.8s\n",
            "38:\tlearn: 105.9810358\ttotal: 1.14s\tremaining: 14.9s\n",
            "39:\tlearn: 105.9193960\ttotal: 1.16s\tremaining: 14.8s\n",
            "40:\tlearn: 105.8595567\ttotal: 1.19s\tremaining: 14.8s\n",
            "41:\tlearn: 105.7711301\ttotal: 1.22s\tremaining: 14.7s\n",
            "42:\tlearn: 105.7136685\ttotal: 1.24s\tremaining: 14.7s\n",
            "43:\tlearn: 105.6131515\ttotal: 1.27s\tremaining: 14.6s\n",
            "44:\tlearn: 105.5514527\ttotal: 1.3s\tremaining: 14.6s\n",
            "45:\tlearn: 105.4548719\ttotal: 1.33s\tremaining: 14.6s\n",
            "46:\tlearn: 105.4153857\ttotal: 1.35s\tremaining: 14.5s\n",
            "47:\tlearn: 105.3365074\ttotal: 1.38s\tremaining: 14.4s\n",
            "48:\tlearn: 105.2583059\ttotal: 1.4s\tremaining: 14.3s\n",
            "49:\tlearn: 105.2044413\ttotal: 1.42s\tremaining: 14.2s\n",
            "50:\tlearn: 105.1523029\ttotal: 1.45s\tremaining: 14.2s\n",
            "51:\tlearn: 105.0984027\ttotal: 1.47s\tremaining: 14.1s\n",
            "52:\tlearn: 105.0504671\ttotal: 1.5s\tremaining: 14.1s\n",
            "53:\tlearn: 104.9740852\ttotal: 1.52s\tremaining: 14s\n",
            "54:\tlearn: 104.9001874\ttotal: 1.54s\tremaining: 13.9s\n",
            "55:\tlearn: 104.8409770\ttotal: 1.57s\tremaining: 13.8s\n",
            "56:\tlearn: 104.8086607\ttotal: 1.59s\tremaining: 13.7s\n",
            "57:\tlearn: 104.7640177\ttotal: 1.61s\tremaining: 13.6s\n",
            "58:\tlearn: 104.6725180\ttotal: 1.63s\tremaining: 13.6s\n",
            "59:\tlearn: 104.6170918\ttotal: 1.66s\tremaining: 13.5s\n",
            "60:\tlearn: 104.5776809\ttotal: 1.68s\tremaining: 13.5s\n",
            "61:\tlearn: 104.5019661\ttotal: 1.71s\tremaining: 13.4s\n",
            "62:\tlearn: 104.4594370\ttotal: 1.73s\tremaining: 13.4s\n",
            "63:\tlearn: 104.4114472\ttotal: 1.75s\tremaining: 13.3s\n",
            "64:\tlearn: 104.3565759\ttotal: 1.78s\tremaining: 13.3s\n",
            "65:\tlearn: 104.3244079\ttotal: 1.8s\tremaining: 13.2s\n",
            "66:\tlearn: 104.2695420\ttotal: 1.82s\tremaining: 13.1s\n",
            "67:\tlearn: 104.2474107\ttotal: 1.84s\tremaining: 13.1s\n",
            "68:\tlearn: 104.2233480\ttotal: 1.87s\tremaining: 13s\n",
            "69:\tlearn: 104.1896740\ttotal: 1.89s\tremaining: 13s\n",
            "70:\tlearn: 104.1298025\ttotal: 1.92s\tremaining: 12.9s\n",
            "71:\tlearn: 104.0869837\ttotal: 1.94s\tremaining: 12.9s\n",
            "72:\tlearn: 104.0531972\ttotal: 1.97s\tremaining: 12.8s\n",
            "73:\tlearn: 104.0037586\ttotal: 1.99s\tremaining: 12.8s\n",
            "74:\tlearn: 103.9578796\ttotal: 2.01s\tremaining: 12.7s\n",
            "75:\tlearn: 103.9213423\ttotal: 2.03s\tremaining: 12.7s\n",
            "76:\tlearn: 103.8868742\ttotal: 2.06s\tremaining: 12.6s\n",
            "77:\tlearn: 103.8547993\ttotal: 2.08s\tremaining: 12.6s\n",
            "78:\tlearn: 103.8066765\ttotal: 2.11s\tremaining: 12.6s\n",
            "79:\tlearn: 103.7674933\ttotal: 2.15s\tremaining: 12.6s\n",
            "80:\tlearn: 103.6986567\ttotal: 2.18s\tremaining: 12.6s\n",
            "81:\tlearn: 103.6529386\ttotal: 2.21s\tremaining: 12.6s\n",
            "82:\tlearn: 103.5958455\ttotal: 2.23s\tremaining: 12.6s\n",
            "83:\tlearn: 103.5353410\ttotal: 2.26s\tremaining: 12.5s\n",
            "84:\tlearn: 103.5211281\ttotal: 2.28s\tremaining: 12.5s\n",
            "85:\tlearn: 103.5050891\ttotal: 2.31s\tremaining: 12.4s\n",
            "86:\tlearn: 103.4594943\ttotal: 2.34s\tremaining: 12.4s\n",
            "87:\tlearn: 103.4173434\ttotal: 2.36s\tremaining: 12.4s\n",
            "88:\tlearn: 103.3647105\ttotal: 2.38s\tremaining: 12.3s\n",
            "89:\tlearn: 103.3177072\ttotal: 2.4s\tremaining: 12.3s\n",
            "90:\tlearn: 103.2859626\ttotal: 2.42s\tremaining: 12.2s\n",
            "91:\tlearn: 103.2542248\ttotal: 2.45s\tremaining: 12.2s\n",
            "92:\tlearn: 103.2161871\ttotal: 2.47s\tremaining: 12.1s\n",
            "93:\tlearn: 103.1931049\ttotal: 2.49s\tremaining: 12.1s\n",
            "94:\tlearn: 103.1702926\ttotal: 2.51s\tremaining: 12s\n",
            "95:\tlearn: 103.1197922\ttotal: 2.53s\tremaining: 12s\n",
            "96:\tlearn: 103.0635494\ttotal: 2.56s\tremaining: 11.9s\n",
            "97:\tlearn: 103.0254349\ttotal: 2.58s\tremaining: 11.9s\n",
            "98:\tlearn: 102.9733157\ttotal: 2.61s\tremaining: 11.9s\n",
            "99:\tlearn: 102.9172614\ttotal: 2.63s\tremaining: 11.8s\n",
            "100:\tlearn: 102.8199254\ttotal: 2.65s\tremaining: 11.8s\n",
            "101:\tlearn: 102.7940236\ttotal: 2.67s\tremaining: 11.7s\n",
            "102:\tlearn: 102.7695246\ttotal: 2.69s\tremaining: 11.7s\n",
            "103:\tlearn: 102.7028882\ttotal: 2.71s\tremaining: 11.6s\n",
            "104:\tlearn: 102.6690499\ttotal: 2.73s\tremaining: 11.6s\n",
            "105:\tlearn: 102.6251371\ttotal: 2.76s\tremaining: 11.6s\n",
            "106:\tlearn: 102.6041774\ttotal: 2.78s\tremaining: 11.5s\n",
            "107:\tlearn: 102.5407758\ttotal: 2.81s\tremaining: 11.5s\n",
            "108:\tlearn: 102.5001552\ttotal: 2.83s\tremaining: 11.5s\n",
            "109:\tlearn: 102.4595950\ttotal: 2.85s\tremaining: 11.4s\n",
            "110:\tlearn: 102.4242712\ttotal: 2.87s\tremaining: 11.4s\n",
            "111:\tlearn: 102.3862974\ttotal: 2.89s\tremaining: 11.3s\n",
            "112:\tlearn: 102.3542601\ttotal: 2.91s\tremaining: 11.3s\n",
            "113:\tlearn: 102.3030599\ttotal: 2.93s\tremaining: 11.2s\n",
            "114:\tlearn: 102.2705687\ttotal: 2.95s\tremaining: 11.2s\n",
            "115:\tlearn: 102.2313808\ttotal: 2.97s\tremaining: 11.1s\n",
            "116:\tlearn: 102.1891200\ttotal: 3s\tremaining: 11.1s\n",
            "117:\tlearn: 102.1516839\ttotal: 3.02s\tremaining: 11s\n",
            "118:\tlearn: 102.1311528\ttotal: 3.04s\tremaining: 11s\n",
            "119:\tlearn: 102.0742724\ttotal: 3.06s\tremaining: 11s\n",
            "120:\tlearn: 102.0249133\ttotal: 3.08s\tremaining: 10.9s\n",
            "121:\tlearn: 101.9860341\ttotal: 3.1s\tremaining: 10.9s\n",
            "122:\tlearn: 101.9346827\ttotal: 3.12s\tremaining: 10.8s\n",
            "123:\tlearn: 101.8863484\ttotal: 3.15s\tremaining: 10.8s\n",
            "124:\tlearn: 101.8604411\ttotal: 3.18s\tremaining: 10.8s\n",
            "125:\tlearn: 101.8217431\ttotal: 3.2s\tremaining: 10.8s\n",
            "126:\tlearn: 101.7676141\ttotal: 3.22s\tremaining: 10.7s\n",
            "127:\tlearn: 101.7282697\ttotal: 3.24s\tremaining: 10.7s\n",
            "128:\tlearn: 101.6855853\ttotal: 3.26s\tremaining: 10.6s\n",
            "129:\tlearn: 101.6371290\ttotal: 3.28s\tremaining: 10.6s\n",
            "130:\tlearn: 101.6068813\ttotal: 3.31s\tremaining: 10.6s\n",
            "131:\tlearn: 101.5698705\ttotal: 3.33s\tremaining: 10.5s\n",
            "132:\tlearn: 101.5473918\ttotal: 3.35s\tremaining: 10.5s\n",
            "133:\tlearn: 101.5202726\ttotal: 3.37s\tremaining: 10.5s\n",
            "134:\tlearn: 101.4949876\ttotal: 3.39s\tremaining: 10.4s\n",
            "135:\tlearn: 101.4344468\ttotal: 3.41s\tremaining: 10.4s\n",
            "136:\tlearn: 101.3768571\ttotal: 3.43s\tremaining: 10.3s\n",
            "137:\tlearn: 101.3671719\ttotal: 3.45s\tremaining: 10.3s\n",
            "138:\tlearn: 101.3651414\ttotal: 3.47s\tremaining: 10.3s\n",
            "139:\tlearn: 101.3060308\ttotal: 3.49s\tremaining: 10.2s\n",
            "140:\tlearn: 101.2751415\ttotal: 3.51s\tremaining: 10.2s\n",
            "141:\tlearn: 101.2692779\ttotal: 3.53s\tremaining: 10.1s\n",
            "142:\tlearn: 101.2255019\ttotal: 3.55s\tremaining: 10.1s\n",
            "143:\tlearn: 101.2090865\ttotal: 3.57s\tremaining: 10.1s\n",
            "144:\tlearn: 101.1458905\ttotal: 3.59s\tremaining: 10s\n",
            "145:\tlearn: 101.1269261\ttotal: 3.61s\tremaining: 9.99s\n",
            "146:\tlearn: 101.0932606\ttotal: 3.63s\tremaining: 9.96s\n",
            "147:\tlearn: 101.0460628\ttotal: 3.65s\tremaining: 9.92s\n",
            "148:\tlearn: 101.0241851\ttotal: 3.67s\tremaining: 9.88s\n",
            "149:\tlearn: 100.9802857\ttotal: 3.69s\tremaining: 9.84s\n",
            "150:\tlearn: 100.9748051\ttotal: 3.71s\tremaining: 9.8s\n",
            "151:\tlearn: 100.9551555\ttotal: 3.73s\tremaining: 9.76s\n",
            "152:\tlearn: 100.9091168\ttotal: 3.75s\tremaining: 9.73s\n",
            "153:\tlearn: 100.8694549\ttotal: 3.77s\tremaining: 9.69s\n",
            "154:\tlearn: 100.8528593\ttotal: 3.79s\tremaining: 9.66s\n",
            "155:\tlearn: 100.8016292\ttotal: 3.81s\tremaining: 9.63s\n",
            "156:\tlearn: 100.7746347\ttotal: 3.83s\tremaining: 9.6s\n",
            "157:\tlearn: 100.7367247\ttotal: 3.86s\tremaining: 9.57s\n",
            "158:\tlearn: 100.7100611\ttotal: 3.88s\tremaining: 9.54s\n",
            "159:\tlearn: 100.6758103\ttotal: 3.9s\tremaining: 9.51s\n",
            "160:\tlearn: 100.6455872\ttotal: 3.92s\tremaining: 9.48s\n",
            "161:\tlearn: 100.5774212\ttotal: 3.94s\tremaining: 9.45s\n",
            "162:\tlearn: 100.5425384\ttotal: 3.97s\tremaining: 9.42s\n",
            "163:\tlearn: 100.5113771\ttotal: 3.99s\tremaining: 9.39s\n",
            "164:\tlearn: 100.5096414\ttotal: 4.01s\tremaining: 9.36s\n",
            "165:\tlearn: 100.4886123\ttotal: 4.03s\tremaining: 9.33s\n",
            "166:\tlearn: 100.4437042\ttotal: 4.05s\tremaining: 9.3s\n",
            "167:\tlearn: 100.4192701\ttotal: 4.08s\tremaining: 9.27s\n",
            "168:\tlearn: 100.3864852\ttotal: 4.1s\tremaining: 9.25s\n",
            "169:\tlearn: 100.3243667\ttotal: 4.12s\tremaining: 9.22s\n",
            "170:\tlearn: 100.2838725\ttotal: 4.15s\tremaining: 9.2s\n",
            "171:\tlearn: 100.2687876\ttotal: 4.17s\tremaining: 9.17s\n",
            "172:\tlearn: 100.2150329\ttotal: 4.2s\tremaining: 9.15s\n",
            "173:\tlearn: 100.1801587\ttotal: 4.22s\tremaining: 9.12s\n",
            "174:\tlearn: 100.1483054\ttotal: 4.24s\tremaining: 9.09s\n",
            "175:\tlearn: 100.0895324\ttotal: 4.26s\tremaining: 9.06s\n",
            "176:\tlearn: 100.0546412\ttotal: 4.29s\tremaining: 9.04s\n",
            "177:\tlearn: 100.0046243\ttotal: 4.31s\tremaining: 9.01s\n",
            "178:\tlearn: 99.9873696\ttotal: 4.33s\tremaining: 8.98s\n",
            "179:\tlearn: 99.9539727\ttotal: 4.35s\tremaining: 8.95s\n",
            "180:\tlearn: 99.9529393\ttotal: 4.38s\tremaining: 8.92s\n",
            "181:\tlearn: 99.9186061\ttotal: 4.4s\tremaining: 8.89s\n",
            "182:\tlearn: 99.8925924\ttotal: 4.42s\tremaining: 8.86s\n",
            "183:\tlearn: 99.8736131\ttotal: 4.44s\tremaining: 8.83s\n",
            "184:\tlearn: 99.8345373\ttotal: 4.46s\tremaining: 8.8s\n",
            "185:\tlearn: 99.8320872\ttotal: 4.48s\tremaining: 8.77s\n",
            "186:\tlearn: 99.7982177\ttotal: 4.5s\tremaining: 8.73s\n",
            "187:\tlearn: 99.7653291\ttotal: 4.52s\tremaining: 8.7s\n",
            "188:\tlearn: 99.7312354\ttotal: 4.54s\tremaining: 8.68s\n",
            "189:\tlearn: 99.7082761\ttotal: 4.56s\tremaining: 8.65s\n",
            "190:\tlearn: 99.6774871\ttotal: 4.58s\tremaining: 8.62s\n",
            "191:\tlearn: 99.6583839\ttotal: 4.61s\tremaining: 8.59s\n",
            "192:\tlearn: 99.6535516\ttotal: 4.63s\tremaining: 8.56s\n",
            "193:\tlearn: 99.6248315\ttotal: 4.66s\tremaining: 8.54s\n",
            "194:\tlearn: 99.5989742\ttotal: 4.68s\tremaining: 8.52s\n",
            "195:\tlearn: 99.5725851\ttotal: 4.7s\tremaining: 8.49s\n",
            "196:\tlearn: 99.5554404\ttotal: 4.72s\tremaining: 8.46s\n",
            "197:\tlearn: 99.5184563\ttotal: 4.74s\tremaining: 8.43s\n",
            "198:\tlearn: 99.4791674\ttotal: 4.76s\tremaining: 8.39s\n",
            "199:\tlearn: 99.4536951\ttotal: 4.78s\tremaining: 8.36s\n",
            "200:\tlearn: 99.4367866\ttotal: 4.8s\tremaining: 8.33s\n",
            "201:\tlearn: 99.4196708\ttotal: 4.82s\tremaining: 8.3s\n",
            "202:\tlearn: 99.4083576\ttotal: 4.84s\tremaining: 8.28s\n",
            "203:\tlearn: 99.3806242\ttotal: 4.87s\tremaining: 8.26s\n",
            "204:\tlearn: 99.3587536\ttotal: 4.89s\tremaining: 8.24s\n",
            "205:\tlearn: 99.3570463\ttotal: 4.92s\tremaining: 8.22s\n",
            "206:\tlearn: 99.3489144\ttotal: 4.95s\tremaining: 8.19s\n",
            "207:\tlearn: 99.3445981\ttotal: 4.96s\tremaining: 8.16s\n",
            "208:\tlearn: 99.3118626\ttotal: 4.99s\tremaining: 8.14s\n",
            "209:\tlearn: 99.2906701\ttotal: 5.01s\tremaining: 8.11s\n",
            "210:\tlearn: 99.2536829\ttotal: 5.04s\tremaining: 8.09s\n",
            "211:\tlearn: 99.2114582\ttotal: 5.06s\tremaining: 8.06s\n",
            "212:\tlearn: 99.1830585\ttotal: 5.08s\tremaining: 8.04s\n",
            "213:\tlearn: 99.1549402\ttotal: 5.11s\tremaining: 8.02s\n",
            "214:\tlearn: 99.1086427\ttotal: 5.14s\tremaining: 8.01s\n",
            "215:\tlearn: 99.0791835\ttotal: 5.16s\tremaining: 7.99s\n",
            "216:\tlearn: 99.0554379\ttotal: 5.19s\tremaining: 7.97s\n",
            "217:\tlearn: 99.0190696\ttotal: 5.22s\tremaining: 7.95s\n",
            "218:\tlearn: 98.9882565\ttotal: 5.25s\tremaining: 7.93s\n",
            "219:\tlearn: 98.9539892\ttotal: 5.27s\tremaining: 7.91s\n",
            "220:\tlearn: 98.9243902\ttotal: 5.29s\tremaining: 7.88s\n",
            "221:\tlearn: 98.8960066\ttotal: 5.32s\tremaining: 7.85s\n",
            "222:\tlearn: 98.8632598\ttotal: 5.34s\tremaining: 7.83s\n",
            "223:\tlearn: 98.8383182\ttotal: 5.36s\tremaining: 7.8s\n",
            "224:\tlearn: 98.8120255\ttotal: 5.38s\tremaining: 7.77s\n",
            "225:\tlearn: 98.7967332\ttotal: 5.4s\tremaining: 7.75s\n",
            "226:\tlearn: 98.7941630\ttotal: 5.42s\tremaining: 7.72s\n",
            "227:\tlearn: 98.7647872\ttotal: 5.45s\tremaining: 7.69s\n",
            "228:\tlearn: 98.7265734\ttotal: 5.47s\tremaining: 7.67s\n",
            "229:\tlearn: 98.7173113\ttotal: 5.49s\tremaining: 7.64s\n",
            "230:\tlearn: 98.6797209\ttotal: 5.52s\tremaining: 7.62s\n",
            "231:\tlearn: 98.6472371\ttotal: 5.55s\tremaining: 7.6s\n",
            "232:\tlearn: 98.6217598\ttotal: 5.57s\tremaining: 7.58s\n",
            "233:\tlearn: 98.6029984\ttotal: 5.61s\tremaining: 7.57s\n",
            "234:\tlearn: 98.5685799\ttotal: 5.63s\tremaining: 7.55s\n",
            "235:\tlearn: 98.5552410\ttotal: 5.66s\tremaining: 7.54s\n",
            "236:\tlearn: 98.5518074\ttotal: 5.69s\tremaining: 7.52s\n",
            "237:\tlearn: 98.5432180\ttotal: 5.72s\tremaining: 7.5s\n",
            "238:\tlearn: 98.5291466\ttotal: 5.75s\tremaining: 7.48s\n",
            "239:\tlearn: 98.5055994\ttotal: 5.77s\tremaining: 7.46s\n",
            "240:\tlearn: 98.5032931\ttotal: 5.8s\tremaining: 7.43s\n",
            "241:\tlearn: 98.4760613\ttotal: 5.82s\tremaining: 7.41s\n",
            "242:\tlearn: 98.4626125\ttotal: 5.84s\tremaining: 7.38s\n",
            "243:\tlearn: 98.4501741\ttotal: 5.86s\tremaining: 7.35s\n",
            "244:\tlearn: 98.4265289\ttotal: 5.88s\tremaining: 7.33s\n",
            "245:\tlearn: 98.4094805\ttotal: 5.91s\tremaining: 7.3s\n",
            "246:\tlearn: 98.3726486\ttotal: 5.94s\tremaining: 7.29s\n",
            "247:\tlearn: 98.3488530\ttotal: 5.97s\tremaining: 7.27s\n",
            "248:\tlearn: 98.3093037\ttotal: 6s\tremaining: 7.25s\n",
            "249:\tlearn: 98.2851196\ttotal: 6.02s\tremaining: 7.22s\n",
            "250:\tlearn: 98.2803734\ttotal: 6.04s\tremaining: 7.2s\n",
            "251:\tlearn: 98.2709335\ttotal: 6.07s\tremaining: 7.18s\n",
            "252:\tlearn: 98.2592594\ttotal: 6.09s\tremaining: 7.16s\n",
            "253:\tlearn: 98.2438639\ttotal: 6.12s\tremaining: 7.13s\n",
            "254:\tlearn: 98.2276914\ttotal: 6.15s\tremaining: 7.11s\n",
            "255:\tlearn: 98.2166881\ttotal: 6.17s\tremaining: 7.09s\n",
            "256:\tlearn: 98.1739320\ttotal: 6.2s\tremaining: 7.07s\n",
            "257:\tlearn: 98.1575955\ttotal: 6.23s\tremaining: 7.05s\n",
            "258:\tlearn: 98.1354621\ttotal: 6.26s\tremaining: 7.03s\n",
            "259:\tlearn: 98.1214115\ttotal: 6.28s\tremaining: 7.01s\n",
            "260:\tlearn: 98.0850745\ttotal: 6.31s\tremaining: 6.99s\n",
            "261:\tlearn: 98.0575883\ttotal: 6.33s\tremaining: 6.96s\n",
            "262:\tlearn: 98.0294248\ttotal: 6.35s\tremaining: 6.93s\n",
            "263:\tlearn: 98.0008606\ttotal: 6.38s\tremaining: 6.91s\n",
            "264:\tlearn: 97.9896451\ttotal: 6.4s\tremaining: 6.88s\n",
            "265:\tlearn: 97.9604636\ttotal: 6.42s\tremaining: 6.86s\n",
            "266:\tlearn: 97.9258392\ttotal: 6.45s\tremaining: 6.84s\n",
            "267:\tlearn: 97.9010219\ttotal: 6.47s\tremaining: 6.81s\n",
            "268:\tlearn: 97.8853470\ttotal: 6.5s\tremaining: 6.79s\n",
            "269:\tlearn: 97.8609942\ttotal: 6.52s\tremaining: 6.76s\n",
            "270:\tlearn: 97.8357931\ttotal: 6.54s\tremaining: 6.74s\n",
            "271:\tlearn: 97.8123997\ttotal: 6.57s\tremaining: 6.71s\n",
            "272:\tlearn: 97.7910356\ttotal: 6.59s\tremaining: 6.69s\n",
            "273:\tlearn: 97.7735970\ttotal: 6.62s\tremaining: 6.67s\n",
            "274:\tlearn: 97.7445779\ttotal: 6.64s\tremaining: 6.64s\n",
            "275:\tlearn: 97.7155285\ttotal: 6.66s\tremaining: 6.61s\n",
            "276:\tlearn: 97.7043831\ttotal: 6.68s\tremaining: 6.59s\n",
            "277:\tlearn: 97.6914117\ttotal: 6.7s\tremaining: 6.56s\n",
            "278:\tlearn: 97.6611336\ttotal: 6.72s\tremaining: 6.53s\n",
            "279:\tlearn: 97.6429933\ttotal: 6.74s\tremaining: 6.5s\n",
            "280:\tlearn: 97.6181157\ttotal: 6.77s\tremaining: 6.48s\n",
            "281:\tlearn: 97.5758522\ttotal: 6.79s\tremaining: 6.45s\n",
            "282:\tlearn: 97.5446166\ttotal: 6.82s\tremaining: 6.43s\n",
            "283:\tlearn: 97.5206142\ttotal: 6.84s\tremaining: 6.41s\n",
            "284:\tlearn: 97.5017513\ttotal: 6.87s\tremaining: 6.39s\n",
            "285:\tlearn: 97.4733421\ttotal: 6.89s\tremaining: 6.36s\n",
            "286:\tlearn: 97.4622964\ttotal: 6.92s\tremaining: 6.34s\n",
            "287:\tlearn: 97.4394625\ttotal: 6.94s\tremaining: 6.32s\n",
            "288:\tlearn: 97.4312229\ttotal: 6.97s\tremaining: 6.29s\n",
            "289:\tlearn: 97.4134429\ttotal: 6.99s\tremaining: 6.27s\n",
            "290:\tlearn: 97.3882065\ttotal: 7.01s\tremaining: 6.24s\n",
            "291:\tlearn: 97.3637966\ttotal: 7.03s\tremaining: 6.21s\n",
            "292:\tlearn: 97.3508775\ttotal: 7.05s\tremaining: 6.19s\n",
            "293:\tlearn: 97.3444763\ttotal: 7.08s\tremaining: 6.16s\n",
            "294:\tlearn: 97.3264653\ttotal: 7.11s\tremaining: 6.14s\n",
            "295:\tlearn: 97.3253602\ttotal: 7.13s\tremaining: 6.12s\n",
            "296:\tlearn: 97.2925139\ttotal: 7.16s\tremaining: 6.1s\n",
            "297:\tlearn: 97.2631584\ttotal: 7.18s\tremaining: 6.07s\n",
            "298:\tlearn: 97.2541873\ttotal: 7.21s\tremaining: 6.05s\n",
            "299:\tlearn: 97.2147381\ttotal: 7.23s\tremaining: 6.02s\n",
            "300:\tlearn: 97.1911554\ttotal: 7.25s\tremaining: 6s\n",
            "301:\tlearn: 97.1790676\ttotal: 7.27s\tremaining: 5.97s\n",
            "302:\tlearn: 97.1623781\ttotal: 7.29s\tremaining: 5.95s\n",
            "303:\tlearn: 97.1417044\ttotal: 7.32s\tremaining: 5.92s\n",
            "304:\tlearn: 97.1309744\ttotal: 7.34s\tremaining: 5.89s\n",
            "305:\tlearn: 97.0903977\ttotal: 7.36s\tremaining: 5.87s\n",
            "306:\tlearn: 97.0846325\ttotal: 7.38s\tremaining: 5.84s\n",
            "307:\tlearn: 97.0635240\ttotal: 7.39s\tremaining: 5.81s\n",
            "308:\tlearn: 97.0364854\ttotal: 7.42s\tremaining: 5.78s\n",
            "309:\tlearn: 97.0045868\ttotal: 7.44s\tremaining: 5.76s\n",
            "310:\tlearn: 96.9774584\ttotal: 7.46s\tremaining: 5.73s\n",
            "311:\tlearn: 96.9488137\ttotal: 7.48s\tremaining: 5.7s\n",
            "312:\tlearn: 96.9357024\ttotal: 7.5s\tremaining: 5.68s\n",
            "313:\tlearn: 96.9120667\ttotal: 7.52s\tremaining: 5.65s\n",
            "314:\tlearn: 96.9027680\ttotal: 7.54s\tremaining: 5.63s\n",
            "315:\tlearn: 96.8714248\ttotal: 7.57s\tremaining: 5.6s\n",
            "316:\tlearn: 96.8528175\ttotal: 7.58s\tremaining: 5.58s\n",
            "317:\tlearn: 96.8119025\ttotal: 7.61s\tremaining: 5.55s\n",
            "318:\tlearn: 96.7936116\ttotal: 7.63s\tremaining: 5.52s\n",
            "319:\tlearn: 96.7683769\ttotal: 7.65s\tremaining: 5.5s\n",
            "320:\tlearn: 96.7511152\ttotal: 7.67s\tremaining: 5.47s\n",
            "321:\tlearn: 96.7169598\ttotal: 7.69s\tremaining: 5.44s\n",
            "322:\tlearn: 96.7027121\ttotal: 7.71s\tremaining: 5.42s\n",
            "323:\tlearn: 96.6978855\ttotal: 7.73s\tremaining: 5.39s\n",
            "324:\tlearn: 96.6730250\ttotal: 7.75s\tremaining: 5.37s\n",
            "325:\tlearn: 96.6714585\ttotal: 7.77s\tremaining: 5.34s\n",
            "326:\tlearn: 96.6524422\ttotal: 7.79s\tremaining: 5.31s\n",
            "327:\tlearn: 96.6285962\ttotal: 7.81s\tremaining: 5.29s\n",
            "328:\tlearn: 96.6057804\ttotal: 7.83s\tremaining: 5.26s\n",
            "329:\tlearn: 96.5936002\ttotal: 7.85s\tremaining: 5.23s\n",
            "330:\tlearn: 96.5724978\ttotal: 7.87s\tremaining: 5.21s\n",
            "331:\tlearn: 96.5323188\ttotal: 7.89s\tremaining: 5.18s\n",
            "332:\tlearn: 96.5192634\ttotal: 7.91s\tremaining: 5.15s\n",
            "333:\tlearn: 96.4856663\ttotal: 7.93s\tremaining: 5.13s\n",
            "334:\tlearn: 96.4571053\ttotal: 7.95s\tremaining: 5.1s\n",
            "335:\tlearn: 96.4452557\ttotal: 7.97s\tremaining: 5.08s\n",
            "336:\tlearn: 96.4192165\ttotal: 8.01s\tremaining: 5.06s\n",
            "337:\tlearn: 96.3959993\ttotal: 8.04s\tremaining: 5.04s\n",
            "338:\tlearn: 96.3552692\ttotal: 8.07s\tremaining: 5.02s\n",
            "339:\tlearn: 96.3222026\ttotal: 8.1s\tremaining: 5s\n",
            "340:\tlearn: 96.2886040\ttotal: 8.13s\tremaining: 4.98s\n",
            "341:\tlearn: 96.2547459\ttotal: 8.16s\tremaining: 4.96s\n",
            "342:\tlearn: 96.2522149\ttotal: 8.2s\tremaining: 4.95s\n",
            "343:\tlearn: 96.2172022\ttotal: 8.23s\tremaining: 4.93s\n",
            "344:\tlearn: 96.2089406\ttotal: 8.25s\tremaining: 4.9s\n",
            "345:\tlearn: 96.1988498\ttotal: 8.28s\tremaining: 4.88s\n",
            "346:\tlearn: 96.1756888\ttotal: 8.3s\tremaining: 4.86s\n",
            "347:\tlearn: 96.1635554\ttotal: 8.32s\tremaining: 4.83s\n",
            "348:\tlearn: 96.1368614\ttotal: 8.35s\tremaining: 4.81s\n",
            "349:\tlearn: 96.1165986\ttotal: 8.38s\tremaining: 4.79s\n",
            "350:\tlearn: 96.1160415\ttotal: 8.4s\tremaining: 4.76s\n",
            "351:\tlearn: 96.0990377\ttotal: 8.42s\tremaining: 4.74s\n",
            "352:\tlearn: 96.0702922\ttotal: 8.44s\tremaining: 4.71s\n",
            "353:\tlearn: 96.0692475\ttotal: 8.46s\tremaining: 4.68s\n",
            "354:\tlearn: 96.0368609\ttotal: 8.48s\tremaining: 4.66s\n",
            "355:\tlearn: 96.0148238\ttotal: 8.5s\tremaining: 4.63s\n",
            "356:\tlearn: 95.9957927\ttotal: 8.52s\tremaining: 4.61s\n",
            "357:\tlearn: 95.9950609\ttotal: 8.54s\tremaining: 4.58s\n",
            "358:\tlearn: 95.9922141\ttotal: 8.56s\tremaining: 4.55s\n",
            "359:\tlearn: 95.9842269\ttotal: 8.58s\tremaining: 4.53s\n",
            "360:\tlearn: 95.9696120\ttotal: 8.6s\tremaining: 4.5s\n",
            "361:\tlearn: 95.9406042\ttotal: 8.62s\tremaining: 4.48s\n",
            "362:\tlearn: 95.9280355\ttotal: 8.64s\tremaining: 4.45s\n",
            "363:\tlearn: 95.9052866\ttotal: 8.66s\tremaining: 4.43s\n",
            "364:\tlearn: 95.8831379\ttotal: 8.68s\tremaining: 4.4s\n",
            "365:\tlearn: 95.8640857\ttotal: 8.71s\tremaining: 4.38s\n",
            "366:\tlearn: 95.8615520\ttotal: 8.72s\tremaining: 4.35s\n",
            "367:\tlearn: 95.8495194\ttotal: 8.74s\tremaining: 4.32s\n",
            "368:\tlearn: 95.8283499\ttotal: 8.76s\tremaining: 4.3s\n",
            "369:\tlearn: 95.7915814\ttotal: 8.78s\tremaining: 4.27s\n",
            "370:\tlearn: 95.7800561\ttotal: 8.8s\tremaining: 4.25s\n",
            "371:\tlearn: 95.7408366\ttotal: 8.82s\tremaining: 4.22s\n",
            "372:\tlearn: 95.7212708\ttotal: 8.84s\tremaining: 4.2s\n",
            "373:\tlearn: 95.6969074\ttotal: 8.86s\tremaining: 4.17s\n",
            "374:\tlearn: 95.6868109\ttotal: 8.88s\tremaining: 4.14s\n",
            "375:\tlearn: 95.6798119\ttotal: 8.89s\tremaining: 4.12s\n",
            "376:\tlearn: 95.6627261\ttotal: 8.92s\tremaining: 4.09s\n",
            "377:\tlearn: 95.6424157\ttotal: 8.94s\tremaining: 4.07s\n",
            "378:\tlearn: 95.6305211\ttotal: 8.96s\tremaining: 4.04s\n",
            "379:\tlearn: 95.6199461\ttotal: 8.98s\tremaining: 4.02s\n",
            "380:\tlearn: 95.5977439\ttotal: 9s\tremaining: 3.99s\n",
            "381:\tlearn: 95.5625260\ttotal: 9.02s\tremaining: 3.97s\n",
            "382:\tlearn: 95.5488994\ttotal: 9.05s\tremaining: 3.94s\n",
            "383:\tlearn: 95.5265447\ttotal: 9.07s\tremaining: 3.92s\n",
            "384:\tlearn: 95.4999646\ttotal: 9.1s\tremaining: 3.9s\n",
            "385:\tlearn: 95.4809523\ttotal: 9.12s\tremaining: 3.87s\n",
            "386:\tlearn: 95.4683296\ttotal: 9.14s\tremaining: 3.85s\n",
            "387:\tlearn: 95.4630842\ttotal: 9.16s\tremaining: 3.82s\n",
            "388:\tlearn: 95.4333625\ttotal: 9.18s\tremaining: 3.8s\n",
            "389:\tlearn: 95.4217482\ttotal: 9.2s\tremaining: 3.77s\n",
            "390:\tlearn: 95.3855709\ttotal: 9.22s\tremaining: 3.75s\n",
            "391:\tlearn: 95.3767369\ttotal: 9.24s\tremaining: 3.72s\n",
            "392:\tlearn: 95.3649988\ttotal: 9.26s\tremaining: 3.7s\n",
            "393:\tlearn: 95.3552385\ttotal: 9.28s\tremaining: 3.67s\n",
            "394:\tlearn: 95.3400643\ttotal: 9.3s\tremaining: 3.65s\n",
            "395:\tlearn: 95.3156996\ttotal: 9.32s\tremaining: 3.62s\n",
            "396:\tlearn: 95.2948029\ttotal: 9.34s\tremaining: 3.6s\n",
            "397:\tlearn: 95.2880854\ttotal: 9.36s\tremaining: 3.58s\n",
            "398:\tlearn: 95.2774625\ttotal: 9.38s\tremaining: 3.55s\n",
            "399:\tlearn: 95.2556609\ttotal: 9.4s\tremaining: 3.52s\n",
            "400:\tlearn: 95.2387277\ttotal: 9.42s\tremaining: 3.5s\n",
            "401:\tlearn: 95.2326128\ttotal: 9.44s\tremaining: 3.48s\n",
            "402:\tlearn: 95.2151170\ttotal: 9.46s\tremaining: 3.45s\n",
            "403:\tlearn: 95.1963851\ttotal: 9.48s\tremaining: 3.43s\n",
            "404:\tlearn: 95.1813519\ttotal: 9.5s\tremaining: 3.4s\n",
            "405:\tlearn: 95.1697977\ttotal: 9.52s\tremaining: 3.38s\n",
            "406:\tlearn: 95.1462793\ttotal: 9.54s\tremaining: 3.35s\n",
            "407:\tlearn: 95.1303631\ttotal: 9.55s\tremaining: 3.33s\n",
            "408:\tlearn: 95.1027198\ttotal: 9.57s\tremaining: 3.3s\n",
            "409:\tlearn: 95.0921986\ttotal: 9.59s\tremaining: 3.28s\n",
            "410:\tlearn: 95.0774159\ttotal: 9.61s\tremaining: 3.25s\n",
            "411:\tlearn: 95.0490179\ttotal: 9.63s\tremaining: 3.23s\n",
            "412:\tlearn: 95.0410650\ttotal: 9.65s\tremaining: 3.2s\n",
            "413:\tlearn: 95.0207579\ttotal: 9.67s\tremaining: 3.18s\n",
            "414:\tlearn: 95.0001078\ttotal: 9.69s\tremaining: 3.15s\n",
            "415:\tlearn: 94.9869001\ttotal: 9.71s\tremaining: 3.13s\n",
            "416:\tlearn: 94.9632342\ttotal: 9.73s\tremaining: 3.1s\n",
            "417:\tlearn: 94.9325591\ttotal: 9.74s\tremaining: 3.08s\n",
            "418:\tlearn: 94.9113286\ttotal: 9.77s\tremaining: 3.05s\n",
            "419:\tlearn: 94.8887673\ttotal: 9.79s\tremaining: 3.03s\n",
            "420:\tlearn: 94.8741302\ttotal: 9.81s\tremaining: 3s\n",
            "421:\tlearn: 94.8574995\ttotal: 9.83s\tremaining: 2.98s\n",
            "422:\tlearn: 94.8460325\ttotal: 9.85s\tremaining: 2.96s\n",
            "423:\tlearn: 94.8281722\ttotal: 9.87s\tremaining: 2.93s\n",
            "424:\tlearn: 94.8122613\ttotal: 9.89s\tremaining: 2.91s\n",
            "425:\tlearn: 94.8115541\ttotal: 9.9s\tremaining: 2.88s\n",
            "426:\tlearn: 94.7871698\ttotal: 9.93s\tremaining: 2.86s\n",
            "427:\tlearn: 94.7712775\ttotal: 9.95s\tremaining: 2.83s\n",
            "428:\tlearn: 94.7406380\ttotal: 9.97s\tremaining: 2.81s\n",
            "429:\tlearn: 94.7239305\ttotal: 9.99s\tremaining: 2.79s\n",
            "430:\tlearn: 94.7146146\ttotal: 10s\tremaining: 2.76s\n",
            "431:\tlearn: 94.6830436\ttotal: 10s\tremaining: 2.74s\n",
            "432:\tlearn: 94.6672888\ttotal: 10s\tremaining: 2.71s\n",
            "433:\tlearn: 94.6522434\ttotal: 10.1s\tremaining: 2.69s\n",
            "434:\tlearn: 94.6409783\ttotal: 10.1s\tremaining: 2.67s\n",
            "435:\tlearn: 94.6132822\ttotal: 10.1s\tremaining: 2.64s\n",
            "436:\tlearn: 94.5897751\ttotal: 10.1s\tremaining: 2.62s\n",
            "437:\tlearn: 94.5838689\ttotal: 10.2s\tremaining: 2.6s\n",
            "438:\tlearn: 94.5669682\ttotal: 10.2s\tremaining: 2.57s\n",
            "439:\tlearn: 94.5519562\ttotal: 10.2s\tremaining: 2.55s\n",
            "440:\tlearn: 94.5248357\ttotal: 10.2s\tremaining: 2.52s\n",
            "441:\tlearn: 94.4980221\ttotal: 10.2s\tremaining: 2.5s\n",
            "442:\tlearn: 94.4725765\ttotal: 10.3s\tremaining: 2.48s\n",
            "443:\tlearn: 94.4614526\ttotal: 10.3s\tremaining: 2.45s\n",
            "444:\tlearn: 94.4480845\ttotal: 10.3s\tremaining: 2.43s\n",
            "445:\tlearn: 94.4234474\ttotal: 10.3s\tremaining: 2.4s\n",
            "446:\tlearn: 94.4063584\ttotal: 10.3s\tremaining: 2.38s\n",
            "447:\tlearn: 94.3981903\ttotal: 10.3s\tremaining: 2.36s\n",
            "448:\tlearn: 94.3859340\ttotal: 10.4s\tremaining: 2.33s\n",
            "449:\tlearn: 94.3698012\ttotal: 10.4s\tremaining: 2.31s\n",
            "450:\tlearn: 94.3463011\ttotal: 10.4s\tremaining: 2.29s\n",
            "451:\tlearn: 94.3415391\ttotal: 10.4s\tremaining: 2.26s\n",
            "452:\tlearn: 94.3189943\ttotal: 10.4s\tremaining: 2.24s\n",
            "453:\tlearn: 94.2876850\ttotal: 10.5s\tremaining: 2.21s\n",
            "454:\tlearn: 94.2829995\ttotal: 10.5s\tremaining: 2.19s\n",
            "455:\tlearn: 94.2629342\ttotal: 10.5s\tremaining: 2.17s\n",
            "456:\tlearn: 94.2555479\ttotal: 10.5s\tremaining: 2.14s\n",
            "457:\tlearn: 94.2395188\ttotal: 10.5s\tremaining: 2.12s\n",
            "458:\tlearn: 94.2151614\ttotal: 10.6s\tremaining: 2.09s\n",
            "459:\tlearn: 94.1976989\ttotal: 10.6s\tremaining: 2.07s\n",
            "460:\tlearn: 94.1881847\ttotal: 10.6s\tremaining: 2.05s\n",
            "461:\tlearn: 94.1621258\ttotal: 10.6s\tremaining: 2.02s\n",
            "462:\tlearn: 94.1518282\ttotal: 10.7s\tremaining: 2s\n",
            "463:\tlearn: 94.1319102\ttotal: 10.7s\tremaining: 1.98s\n",
            "464:\tlearn: 94.1168694\ttotal: 10.7s\tremaining: 1.96s\n",
            "465:\tlearn: 94.0996902\ttotal: 10.7s\tremaining: 1.93s\n",
            "466:\tlearn: 94.0797104\ttotal: 10.7s\tremaining: 1.91s\n",
            "467:\tlearn: 94.0636728\ttotal: 10.8s\tremaining: 1.89s\n",
            "468:\tlearn: 94.0433031\ttotal: 10.8s\tremaining: 1.86s\n",
            "469:\tlearn: 94.0244445\ttotal: 10.8s\tremaining: 1.84s\n",
            "470:\tlearn: 94.0181162\ttotal: 10.8s\tremaining: 1.81s\n",
            "471:\tlearn: 94.0031789\ttotal: 10.8s\tremaining: 1.79s\n",
            "472:\tlearn: 93.9744312\ttotal: 10.9s\tremaining: 1.77s\n",
            "473:\tlearn: 93.9638413\ttotal: 10.9s\tremaining: 1.75s\n",
            "474:\tlearn: 93.9548758\ttotal: 10.9s\tremaining: 1.73s\n",
            "475:\tlearn: 93.9228347\ttotal: 11s\tremaining: 1.7s\n",
            "476:\tlearn: 93.9052354\ttotal: 11s\tremaining: 1.68s\n",
            "477:\tlearn: 93.8901402\ttotal: 11s\tremaining: 1.66s\n",
            "478:\tlearn: 93.8740692\ttotal: 11s\tremaining: 1.63s\n",
            "479:\tlearn: 93.8483946\ttotal: 11s\tremaining: 1.61s\n",
            "480:\tlearn: 93.8274758\ttotal: 11.1s\tremaining: 1.59s\n",
            "481:\tlearn: 93.8174504\ttotal: 11.1s\tremaining: 1.56s\n",
            "482:\tlearn: 93.7809596\ttotal: 11.1s\tremaining: 1.54s\n",
            "483:\tlearn: 93.7645370\ttotal: 11.1s\tremaining: 1.52s\n",
            "484:\tlearn: 93.7518096\ttotal: 11.2s\tremaining: 1.5s\n",
            "485:\tlearn: 93.7430105\ttotal: 11.2s\tremaining: 1.47s\n",
            "486:\tlearn: 93.7253554\ttotal: 11.2s\tremaining: 1.45s\n",
            "487:\tlearn: 93.7063184\ttotal: 11.2s\tremaining: 1.43s\n",
            "488:\tlearn: 93.6935201\ttotal: 11.3s\tremaining: 1.4s\n",
            "489:\tlearn: 93.6873289\ttotal: 11.3s\tremaining: 1.38s\n",
            "490:\tlearn: 93.6765924\ttotal: 11.3s\tremaining: 1.36s\n",
            "491:\tlearn: 93.6689168\ttotal: 11.3s\tremaining: 1.33s\n",
            "492:\tlearn: 93.6661553\ttotal: 11.3s\tremaining: 1.31s\n",
            "493:\tlearn: 93.6508394\ttotal: 11.4s\tremaining: 1.29s\n",
            "494:\tlearn: 93.6415263\ttotal: 11.4s\tremaining: 1.26s\n",
            "495:\tlearn: 93.6349891\ttotal: 11.4s\tremaining: 1.24s\n",
            "496:\tlearn: 93.6197334\ttotal: 11.4s\tremaining: 1.22s\n",
            "497:\tlearn: 93.6107816\ttotal: 11.5s\tremaining: 1.2s\n",
            "498:\tlearn: 93.5916520\ttotal: 11.5s\tremaining: 1.17s\n",
            "499:\tlearn: 93.5739467\ttotal: 11.5s\tremaining: 1.15s\n",
            "500:\tlearn: 93.5594653\ttotal: 11.5s\tremaining: 1.13s\n",
            "501:\tlearn: 93.5399242\ttotal: 11.5s\tremaining: 1.1s\n",
            "502:\tlearn: 93.5212681\ttotal: 11.6s\tremaining: 1.08s\n",
            "503:\tlearn: 93.4909258\ttotal: 11.6s\tremaining: 1.06s\n",
            "504:\tlearn: 93.4571113\ttotal: 11.6s\tremaining: 1.03s\n",
            "505:\tlearn: 93.4427373\ttotal: 11.6s\tremaining: 1.01s\n",
            "506:\tlearn: 93.4235167\ttotal: 11.7s\tremaining: 988ms\n",
            "507:\tlearn: 93.3941947\ttotal: 11.7s\tremaining: 966ms\n",
            "508:\tlearn: 93.3818481\ttotal: 11.7s\tremaining: 943ms\n",
            "509:\tlearn: 93.3602592\ttotal: 11.7s\tremaining: 920ms\n",
            "510:\tlearn: 93.3397295\ttotal: 11.7s\tremaining: 897ms\n",
            "511:\tlearn: 93.3122025\ttotal: 11.8s\tremaining: 873ms\n",
            "512:\tlearn: 93.3046568\ttotal: 11.8s\tremaining: 850ms\n",
            "513:\tlearn: 93.2790552\ttotal: 11.8s\tremaining: 827ms\n",
            "514:\tlearn: 93.2641493\ttotal: 11.8s\tremaining: 804ms\n",
            "515:\tlearn: 93.2491506\ttotal: 11.8s\tremaining: 781ms\n",
            "516:\tlearn: 93.2426809\ttotal: 11.9s\tremaining: 758ms\n",
            "517:\tlearn: 93.2221109\ttotal: 11.9s\tremaining: 735ms\n",
            "518:\tlearn: 93.2027578\ttotal: 11.9s\tremaining: 712ms\n",
            "519:\tlearn: 93.1933848\ttotal: 11.9s\tremaining: 688ms\n",
            "520:\tlearn: 93.1857508\ttotal: 12s\tremaining: 665ms\n",
            "521:\tlearn: 93.1694907\ttotal: 12s\tremaining: 642ms\n",
            "522:\tlearn: 93.1658509\ttotal: 12s\tremaining: 619ms\n",
            "523:\tlearn: 93.1448037\ttotal: 12s\tremaining: 596ms\n",
            "524:\tlearn: 93.1378828\ttotal: 12s\tremaining: 573ms\n",
            "525:\tlearn: 93.1269874\ttotal: 12.1s\tremaining: 550ms\n",
            "526:\tlearn: 93.1125181\ttotal: 12.1s\tremaining: 528ms\n",
            "527:\tlearn: 93.1026389\ttotal: 12.1s\tremaining: 505ms\n",
            "528:\tlearn: 93.0782809\ttotal: 12.1s\tremaining: 482ms\n",
            "529:\tlearn: 93.0661345\ttotal: 12.2s\tremaining: 459ms\n",
            "530:\tlearn: 93.0426806\ttotal: 12.2s\tremaining: 436ms\n",
            "531:\tlearn: 93.0368663\ttotal: 12.2s\tremaining: 413ms\n",
            "532:\tlearn: 93.0214392\ttotal: 12.2s\tremaining: 390ms\n",
            "533:\tlearn: 93.0148026\ttotal: 12.2s\tremaining: 367ms\n",
            "534:\tlearn: 93.0027387\ttotal: 12.3s\tremaining: 344ms\n",
            "535:\tlearn: 92.9835249\ttotal: 12.3s\tremaining: 321ms\n",
            "536:\tlearn: 92.9751057\ttotal: 12.3s\tremaining: 298ms\n",
            "537:\tlearn: 92.9614044\ttotal: 12.3s\tremaining: 275ms\n",
            "538:\tlearn: 92.9578258\ttotal: 12.4s\tremaining: 252ms\n",
            "539:\tlearn: 92.9429789\ttotal: 12.4s\tremaining: 229ms\n",
            "540:\tlearn: 92.9220874\ttotal: 12.4s\tremaining: 206ms\n",
            "541:\tlearn: 92.8983110\ttotal: 12.4s\tremaining: 183ms\n",
            "542:\tlearn: 92.8798274\ttotal: 12.4s\tremaining: 160ms\n",
            "543:\tlearn: 92.8742286\ttotal: 12.5s\tremaining: 137ms\n",
            "544:\tlearn: 92.8498621\ttotal: 12.5s\tremaining: 114ms\n",
            "545:\tlearn: 92.8469264\ttotal: 12.5s\tremaining: 91.6ms\n",
            "546:\tlearn: 92.8185418\ttotal: 12.5s\tremaining: 68.6ms\n",
            "547:\tlearn: 92.8085580\ttotal: 12.5s\tremaining: 45.8ms\n",
            "548:\tlearn: 92.7878104\ttotal: 12.6s\tremaining: 22.9ms\n",
            "549:\tlearn: 92.7651909\ttotal: 12.6s\tremaining: 0us\n",
            "\n",
            "Hyperopt завершен за 705.08 секунд\n",
            "Лучшие параметры: {'iterations': 550, 'depth': 5, 'learning_rate': 0.10083522391139502, 'l2_leaf_reg': 3.0, 'bagging_temperature': 0.0, 'cat_features': ['location_cluster', 'location', 'type_house'], 'od_wait': 100}\n",
            "Лучший CV MSE: 10631.0119\n",
            "MSE на тестовых данных: 10119.8663\n"
          ]
        }
      ],
      "source": [
        "import time\n",
        "import numpy as np\n",
        "from catboost import CatBoostRegressor\n",
        "from hyperopt import hp, fmin, tpe, STATUS_OK, Trials\n",
        "from sklearn.model_selection import cross_val_score\n",
        "from sklearn.metrics import mean_squared_error\n",
        "from tqdm import tqdm\n",
        "\n",
        "# Пример: допустим, у вас есть X_train, y_train, X_test, y_test\n",
        "# и список категориальных признаков cat_columns_end\n",
        "\n",
        "print(\"\\nЗапуск Hyperopt...\")\n",
        "start_time_hyperopt = time.time()\n",
        "\n",
        "# Пространство гиперпараметров\n",
        "space = {\n",
        "    'iterations': hp.quniform('iterations', 200, 1000, 50),\n",
        "    'learning_rate': hp.uniform('learning_rate', 0.01, 0.9),\n",
        "    'depth': hp.quniform('depth', 3, 5, 1),\n",
        "    'l2_leaf_reg': hp.quniform('l2_leaf_reg', 0.1, 10.1, 1),\n",
        "    'bagging_temperature': hp.quniform('bagging_temperature', 0.1, 1, 0.4)\n",
        "}\n",
        "\n",
        "# Целевая функция для Hyperopt\n",
        "def objective(params):\n",
        "    # Преобразуем часть параметров к целым\n",
        "    model_params = {\n",
        "        'iterations': int(params['iterations']),\n",
        "        'depth': int(params['depth']),\n",
        "        'learning_rate': params['learning_rate'],\n",
        "        'l2_leaf_reg': params['l2_leaf_reg'],\n",
        "        'bagging_temperature': params['bagging_temperature'],\n",
        "        'cat_features': cat_columns_end,\n",
        "        'od_wait': 100\n",
        "    }\n",
        "\n",
        "    # Создаем регрессионную модель\n",
        "    model = CatBoostRegressor(**model_params)\n",
        "\n",
        "    # Выполняем кросс-валидацию с метрикой 'neg_mean_squared_error'\n",
        "    scores = cross_val_score(model, X_train_cat, y_train,\n",
        "                             cv=5,\n",
        "                             scoring='neg_mean_squared_error',\n",
        "                             n_jobs=-1)\n",
        "\n",
        "    # MSE получается со знаком «-», берём среднее и переворачиваем знак\n",
        "    mse_mean = -np.mean(scores)\n",
        "\n",
        "    # Обновляем прогресс-бар\n",
        "    hyperopt_pbar.update(1)\n",
        "\n",
        "    # Возвращаем значение MSE, которое Hyperopt будет минимизировать\n",
        "    return {'loss': mse_mean, 'status': STATUS_OK, 'params': model_params}\n",
        "\n",
        "# Запускаем Hyperopt\n",
        "n_iter_hyperopt = 30\n",
        "hyperopt_pbar = tqdm(total=n_iter_hyperopt, desc=\"Hyperopt\")\n",
        "\n",
        "trials = Trials()\n",
        "best_hyperopt = fmin(\n",
        "    fn=objective,\n",
        "    space=space,\n",
        "    algo=tpe.suggest,\n",
        "    max_evals=n_iter_hyperopt,\n",
        "    trials=trials,\n",
        "    verbose=0\n",
        ")\n",
        "\n",
        "hyperopt_pbar.close()\n",
        "\n",
        "# Находим индекс лучшего trial\n",
        "best_trial_idx = np.argmin([t['result']['loss'] for t in trials.trials])\n",
        "best_params_hyperopt1 = trials.trials[best_trial_idx]['result']['params']\n",
        "\n",
        "# Лучшее значение среднеквадратичной ошибки (MSE) на кросс-валидации\n",
        "best_score_hyperopt = min([t['result']['loss'] for t in trials.trials])\n",
        "time_hyperopt = time.time() - start_time_hyperopt\n",
        "\n",
        "# Обучаем финальную модель на всей обучающей выборке\n",
        "best_model_hyperopt = CatBoostRegressor(**best_params_hyperopt1)\n",
        "best_model_hyperopt.fit(X_train_cat, y_train)\n",
        "\n",
        "# Предсказания на тесте\n",
        "y_test_pred_hyperopt = best_model_hyperopt.predict(X_test_cat)\n",
        "\n",
        "# Считаем MSE на тесте\n",
        "mse_test = mean_squared_error(y_test, y_test_pred_hyperopt)\n",
        "\n",
        "print(f\"\\nHyperopt завершен за {time_hyperopt:.2f} секунд\")\n",
        "print(f\"Лучшие параметры: {best_params_hyperopt1}\")\n",
        "print(f\"Лучший CV MSE: {best_score_hyperopt:.4f}\")\n",
        "print(f\"MSE на тестовых данных: {mse_test:.4f}\")\n"
      ]
    },
    {
      "cell_type": "code",
      "execution_count": null,
      "id": "d18e9f56-117a-4277-b3d4-749f9b510626",
      "metadata": {
        "id": "d18e9f56-117a-4277-b3d4-749f9b510626"
      },
      "outputs": [],
      "source": []
    },
    {
      "cell_type": "code",
      "execution_count": null,
      "id": "f966298a-a4e7-4f70-b1c2-767ea173703d",
      "metadata": {
        "id": "f966298a-a4e7-4f70-b1c2-767ea173703d",
        "outputId": "d7f1435b-1a13-49e9-b260-945a5837b800"
      },
      "outputs": [
        {
          "data": {
            "text/plain": [
              "{'iterations': 550,\n",
              " 'depth': 5,\n",
              " 'learning_rate': 0.10083522391139502,\n",
              " 'l2_leaf_reg': 3.0,\n",
              " 'bagging_temperature': 0.0,\n",
              " 'cat_features': ['location_cluster', 'location', 'type_house'],\n",
              " 'od_wait': 100}"
            ]
          },
          "execution_count": 189,
          "metadata": {},
          "output_type": "execute_result"
        }
      ],
      "source": [
        "best_params_hyperopt1"
      ]
    },
    {
      "cell_type": "code",
      "execution_count": null,
      "id": "fde60b8c-61e3-4fc9-8d9e-db1905b11395",
      "metadata": {
        "id": "fde60b8c-61e3-4fc9-8d9e-db1905b11395",
        "outputId": "662c0c17-a33f-416a-95ea-b466b6bb2e69"
      },
      "outputs": [
        {
          "data": {
            "text/plain": [
              "<catboost.core.CatBoostRegressor at 0x2611cec1b20>"
            ]
          },
          "execution_count": 190,
          "metadata": {},
          "output_type": "execute_result"
        }
      ],
      "source": [
        "cat_clf_tuned = CatBoostRegressor(**best_params_hyperopt1, eval_metric='RMSE', verbose=0)\n",
        "cat_clf_tuned.fit(X_train_cat, y_train)"
      ]
    },
    {
      "cell_type": "code",
      "execution_count": null,
      "id": "5c3cff2c-83d4-4eec-aacf-8c02eac76c0f",
      "metadata": {
        "id": "5c3cff2c-83d4-4eec-aacf-8c02eac76c0f",
        "outputId": "b7f62d03-f321-4f0d-bdee-9bb100987884"
      },
      "outputs": [
        {
          "data": {
            "text/plain": [
              "10119.86632429386"
            ]
          },
          "execution_count": 191,
          "metadata": {},
          "output_type": "execute_result"
        }
      ],
      "source": [
        "cat_clf_tuned = CatBoostRegressor(**best_params_hyperopt1, eval_metric='RMSE', verbose=0)\n",
        "cat_clf_tuned.fit(X_train_cat, y_train)\n",
        "mean_squared_error(y_test,  cat_clf_tuned.predict(X_test_cat))"
      ]
    },
    {
      "cell_type": "code",
      "execution_count": null,
      "id": "f994753b-a109-47a7-81e3-a7f3e5968d73",
      "metadata": {
        "id": "f994753b-a109-47a7-81e3-a7f3e5968d73",
        "outputId": "5865d982-0fa3-466c-b4c4-dd5c4ff64e0a"
      },
      "outputs": [
        {
          "data": {
            "text/plain": [
              "10119.86632429386"
            ]
          },
          "execution_count": 192,
          "metadata": {},
          "output_type": "execute_result"
        }
      ],
      "source": [
        "mean_squared_error(y_test,  cat_clf_tuned.predict(X_test_cat))"
      ]
    },
    {
      "cell_type": "markdown",
      "id": "77d0644f-ca22-471b-8413-a2b286a284d0",
      "metadata": {
        "id": "77d0644f-ca22-471b-8413-a2b286a284d0",
        "jp-MarkdownHeadingCollapsed": true
      },
      "source": [
        "## LGBMRegressor"
      ]
    },
    {
      "cell_type": "code",
      "execution_count": null,
      "id": "db3d97ae-4893-4eda-a956-c7468964e040",
      "metadata": {
        "id": "db3d97ae-4893-4eda-a956-c7468964e040",
        "outputId": "10408d5f-c2d9-43f3-eda6-9cde404967a2",
        "scrolled": true
      },
      "outputs": [
        {
          "name": "stdout",
          "output_type": "stream",
          "text": [
            "\n",
            "Запуск Hyperopt для LGBM...\n"
          ]
        },
        {
          "name": "stderr",
          "output_type": "stream",
          "text": [
            "Hyperopt: 100%|████████████████████████████████████████████████████████████████████████| 30/30 [02:00<00:00,  4.01s/it]\n"
          ]
        },
        {
          "name": "stdout",
          "output_type": "stream",
          "text": [
            "[LightGBM] [Warning] No further splits with positive gain, best gain: -inf\n",
            "[LightGBM] [Warning] No further splits with positive gain, best gain: -inf\n",
            "[LightGBM] [Warning] No further splits with positive gain, best gain: -inf\n",
            "[LightGBM] [Warning] No further splits with positive gain, best gain: -inf\n",
            "[LightGBM] [Warning] No further splits with positive gain, best gain: -inf\n",
            "[LightGBM] [Warning] No further splits with positive gain, best gain: -inf\n",
            "[LightGBM] [Warning] No further splits with positive gain, best gain: -inf\n",
            "[LightGBM] [Warning] No further splits with positive gain, best gain: -inf\n",
            "[LightGBM] [Warning] No further splits with positive gain, best gain: -inf\n",
            "[LightGBM] [Warning] No further splits with positive gain, best gain: -inf\n",
            "[LightGBM] [Warning] No further splits with positive gain, best gain: -inf\n",
            "[LightGBM] [Warning] No further splits with positive gain, best gain: -inf\n",
            "[LightGBM] [Warning] No further splits with positive gain, best gain: -inf\n",
            "[LightGBM] [Warning] No further splits with positive gain, best gain: -inf\n",
            "[LightGBM] [Warning] No further splits with positive gain, best gain: -inf\n",
            "[LightGBM] [Warning] No further splits with positive gain, best gain: -inf\n",
            "[LightGBM] [Warning] No further splits with positive gain, best gain: -inf\n",
            "[LightGBM] [Warning] No further splits with positive gain, best gain: -inf\n",
            "[LightGBM] [Warning] No further splits with positive gain, best gain: -inf\n",
            "[LightGBM] [Warning] No further splits with positive gain, best gain: -inf\n",
            "[LightGBM] [Warning] No further splits with positive gain, best gain: -inf\n",
            "[LightGBM] [Warning] No further splits with positive gain, best gain: -inf\n",
            "[LightGBM] [Warning] No further splits with positive gain, best gain: -inf\n",
            "[LightGBM] [Warning] No further splits with positive gain, best gain: -inf\n",
            "[LightGBM] [Warning] No further splits with positive gain, best gain: -inf\n",
            "[LightGBM] [Warning] No further splits with positive gain, best gain: -inf\n",
            "[LightGBM] [Warning] No further splits with positive gain, best gain: -inf\n",
            "[LightGBM] [Warning] No further splits with positive gain, best gain: -inf\n",
            "[LightGBM] [Warning] No further splits with positive gain, best gain: -inf\n",
            "[LightGBM] [Warning] No further splits with positive gain, best gain: -inf\n",
            "[LightGBM] [Warning] No further splits with positive gain, best gain: -inf\n",
            "[LightGBM] [Warning] No further splits with positive gain, best gain: -inf\n",
            "[LightGBM] [Warning] No further splits with positive gain, best gain: -inf\n",
            "[LightGBM] [Warning] No further splits with positive gain, best gain: -inf\n",
            "[LightGBM] [Warning] No further splits with positive gain, best gain: -inf\n",
            "[LightGBM] [Warning] No further splits with positive gain, best gain: -inf\n",
            "[LightGBM] [Warning] No further splits with positive gain, best gain: -inf\n",
            "[LightGBM] [Warning] No further splits with positive gain, best gain: -inf\n",
            "[LightGBM] [Warning] No further splits with positive gain, best gain: -inf\n",
            "[LightGBM] [Warning] No further splits with positive gain, best gain: -inf\n",
            "[LightGBM] [Warning] No further splits with positive gain, best gain: -inf\n",
            "[LightGBM] [Warning] No further splits with positive gain, best gain: -inf\n",
            "[LightGBM] [Warning] No further splits with positive gain, best gain: -inf\n",
            "[LightGBM] [Warning] No further splits with positive gain, best gain: -inf\n",
            "[LightGBM] [Warning] No further splits with positive gain, best gain: -inf\n",
            "[LightGBM] [Warning] No further splits with positive gain, best gain: -inf\n",
            "[LightGBM] [Warning] No further splits with positive gain, best gain: -inf\n",
            "[LightGBM] [Warning] No further splits with positive gain, best gain: -inf\n",
            "[LightGBM] [Warning] No further splits with positive gain, best gain: -inf\n",
            "[LightGBM] [Warning] No further splits with positive gain, best gain: -inf\n",
            "[LightGBM] [Warning] No further splits with positive gain, best gain: -inf\n",
            "[LightGBM] [Warning] No further splits with positive gain, best gain: -inf\n",
            "[LightGBM] [Warning] No further splits with positive gain, best gain: -inf\n",
            "[LightGBM] [Warning] No further splits with positive gain, best gain: -inf\n",
            "[LightGBM] [Warning] No further splits with positive gain, best gain: -inf\n",
            "[LightGBM] [Warning] No further splits with positive gain, best gain: -inf\n",
            "[LightGBM] [Warning] No further splits with positive gain, best gain: -inf\n",
            "[LightGBM] [Warning] No further splits with positive gain, best gain: -inf\n",
            "[LightGBM] [Warning] No further splits with positive gain, best gain: -inf\n",
            "[LightGBM] [Warning] No further splits with positive gain, best gain: -inf\n",
            "[LightGBM] [Warning] No further splits with positive gain, best gain: -inf\n",
            "[LightGBM] [Warning] No further splits with positive gain, best gain: -inf\n",
            "[LightGBM] [Warning] No further splits with positive gain, best gain: -inf\n",
            "[LightGBM] [Warning] No further splits with positive gain, best gain: -inf\n",
            "[LightGBM] [Warning] No further splits with positive gain, best gain: -inf\n",
            "[LightGBM] [Warning] No further splits with positive gain, best gain: -inf\n",
            "[LightGBM] [Warning] No further splits with positive gain, best gain: -inf\n",
            "[LightGBM] [Warning] No further splits with positive gain, best gain: -inf\n",
            "[LightGBM] [Warning] No further splits with positive gain, best gain: -inf\n",
            "[LightGBM] [Warning] No further splits with positive gain, best gain: -inf\n",
            "[LightGBM] [Warning] No further splits with positive gain, best gain: -inf\n",
            "[LightGBM] [Warning] No further splits with positive gain, best gain: -inf\n",
            "[LightGBM] [Warning] No further splits with positive gain, best gain: -inf\n",
            "[LightGBM] [Warning] No further splits with positive gain, best gain: -inf\n",
            "[LightGBM] [Warning] No further splits with positive gain, best gain: -inf\n",
            "[LightGBM] [Warning] No further splits with positive gain, best gain: -inf\n",
            "[LightGBM] [Warning] No further splits with positive gain, best gain: -inf\n",
            "[LightGBM] [Warning] No further splits with positive gain, best gain: -inf\n",
            "[LightGBM] [Warning] No further splits with positive gain, best gain: -inf\n",
            "[LightGBM] [Warning] No further splits with positive gain, best gain: -inf\n",
            "[LightGBM] [Warning] No further splits with positive gain, best gain: -inf\n",
            "[LightGBM] [Warning] No further splits with positive gain, best gain: -inf\n",
            "[LightGBM] [Warning] No further splits with positive gain, best gain: -inf\n",
            "[LightGBM] [Warning] No further splits with positive gain, best gain: -inf\n",
            "[LightGBM] [Warning] No further splits with positive gain, best gain: -inf\n",
            "[LightGBM] [Warning] No further splits with positive gain, best gain: -inf\n",
            "[LightGBM] [Warning] No further splits with positive gain, best gain: -inf\n",
            "[LightGBM] [Warning] No further splits with positive gain, best gain: -inf\n",
            "[LightGBM] [Warning] No further splits with positive gain, best gain: -inf\n",
            "[LightGBM] [Warning] No further splits with positive gain, best gain: -inf\n",
            "[LightGBM] [Warning] No further splits with positive gain, best gain: -inf\n",
            "[LightGBM] [Warning] No further splits with positive gain, best gain: -inf\n",
            "[LightGBM] [Warning] No further splits with positive gain, best gain: -inf\n",
            "[LightGBM] [Warning] No further splits with positive gain, best gain: -inf\n",
            "[LightGBM] [Warning] No further splits with positive gain, best gain: -inf\n",
            "[LightGBM] [Warning] No further splits with positive gain, best gain: -inf\n",
            "[LightGBM] [Warning] No further splits with positive gain, best gain: -inf\n",
            "[LightGBM] [Warning] No further splits with positive gain, best gain: -inf\n",
            "[LightGBM] [Warning] No further splits with positive gain, best gain: -inf\n",
            "[LightGBM] [Warning] No further splits with positive gain, best gain: -inf\n",
            "[LightGBM] [Warning] No further splits with positive gain, best gain: -inf\n",
            "[LightGBM] [Warning] No further splits with positive gain, best gain: -inf\n",
            "[LightGBM] [Warning] No further splits with positive gain, best gain: -inf\n",
            "[LightGBM] [Warning] No further splits with positive gain, best gain: -inf\n",
            "[LightGBM] [Warning] No further splits with positive gain, best gain: -inf\n",
            "[LightGBM] [Warning] No further splits with positive gain, best gain: -inf\n",
            "[LightGBM] [Warning] No further splits with positive gain, best gain: -inf\n",
            "[LightGBM] [Warning] No further splits with positive gain, best gain: -inf\n",
            "[LightGBM] [Warning] No further splits with positive gain, best gain: -inf\n",
            "[LightGBM] [Warning] No further splits with positive gain, best gain: -inf\n",
            "[LightGBM] [Warning] No further splits with positive gain, best gain: -inf\n",
            "[LightGBM] [Warning] No further splits with positive gain, best gain: -inf\n",
            "[LightGBM] [Warning] No further splits with positive gain, best gain: -inf\n",
            "[LightGBM] [Warning] No further splits with positive gain, best gain: -inf\n",
            "[LightGBM] [Warning] No further splits with positive gain, best gain: -inf\n",
            "[LightGBM] [Warning] No further splits with positive gain, best gain: -inf\n",
            "[LightGBM] [Warning] No further splits with positive gain, best gain: -inf\n",
            "[LightGBM] [Warning] No further splits with positive gain, best gain: -inf\n",
            "[LightGBM] [Warning] No further splits with positive gain, best gain: -inf\n",
            "[LightGBM] [Warning] No further splits with positive gain, best gain: -inf\n",
            "[LightGBM] [Warning] No further splits with positive gain, best gain: -inf\n",
            "[LightGBM] [Warning] No further splits with positive gain, best gain: -inf\n",
            "[LightGBM] [Warning] No further splits with positive gain, best gain: -inf\n",
            "[LightGBM] [Warning] No further splits with positive gain, best gain: -inf\n",
            "[LightGBM] [Warning] No further splits with positive gain, best gain: -inf\n",
            "[LightGBM] [Warning] No further splits with positive gain, best gain: -inf\n",
            "[LightGBM] [Warning] No further splits with positive gain, best gain: -inf\n",
            "[LightGBM] [Warning] No further splits with positive gain, best gain: -inf\n",
            "[LightGBM] [Warning] No further splits with positive gain, best gain: -inf\n",
            "[LightGBM] [Warning] No further splits with positive gain, best gain: -inf\n",
            "[LightGBM] [Warning] No further splits with positive gain, best gain: -inf\n",
            "[LightGBM] [Warning] No further splits with positive gain, best gain: -inf\n",
            "[LightGBM] [Warning] No further splits with positive gain, best gain: -inf\n",
            "[LightGBM] [Warning] No further splits with positive gain, best gain: -inf\n",
            "[LightGBM] [Warning] No further splits with positive gain, best gain: -inf\n",
            "[LightGBM] [Warning] No further splits with positive gain, best gain: -inf\n",
            "[LightGBM] [Warning] No further splits with positive gain, best gain: -inf\n",
            "[LightGBM] [Warning] No further splits with positive gain, best gain: -inf\n",
            "[LightGBM] [Warning] No further splits with positive gain, best gain: -inf\n",
            "[LightGBM] [Warning] No further splits with positive gain, best gain: -inf\n",
            "[LightGBM] [Warning] No further splits with positive gain, best gain: -inf\n",
            "[LightGBM] [Warning] No further splits with positive gain, best gain: -inf\n",
            "[LightGBM] [Warning] No further splits with positive gain, best gain: -inf\n",
            "[LightGBM] [Warning] No further splits with positive gain, best gain: -inf\n",
            "[LightGBM] [Warning] No further splits with positive gain, best gain: -inf\n",
            "[LightGBM] [Warning] No further splits with positive gain, best gain: -inf\n",
            "[LightGBM] [Warning] No further splits with positive gain, best gain: -inf\n",
            "[LightGBM] [Warning] No further splits with positive gain, best gain: -inf\n",
            "[LightGBM] [Warning] No further splits with positive gain, best gain: -inf\n",
            "[LightGBM] [Warning] No further splits with positive gain, best gain: -inf\n",
            "[LightGBM] [Warning] No further splits with positive gain, best gain: -inf\n",
            "[LightGBM] [Warning] No further splits with positive gain, best gain: -inf\n",
            "[LightGBM] [Warning] No further splits with positive gain, best gain: -inf\n",
            "[LightGBM] [Warning] No further splits with positive gain, best gain: -inf\n",
            "[LightGBM] [Warning] No further splits with positive gain, best gain: -inf\n",
            "[LightGBM] [Warning] No further splits with positive gain, best gain: -inf\n",
            "[LightGBM] [Warning] No further splits with positive gain, best gain: -inf\n",
            "[LightGBM] [Warning] No further splits with positive gain, best gain: -inf\n",
            "[LightGBM] [Warning] No further splits with positive gain, best gain: -inf\n",
            "[LightGBM] [Warning] No further splits with positive gain, best gain: -inf\n",
            "[LightGBM] [Warning] No further splits with positive gain, best gain: -inf\n",
            "[LightGBM] [Warning] No further splits with positive gain, best gain: -inf\n",
            "[LightGBM] [Warning] No further splits with positive gain, best gain: -inf\n",
            "[LightGBM] [Warning] No further splits with positive gain, best gain: -inf\n",
            "[LightGBM] [Warning] No further splits with positive gain, best gain: -inf\n",
            "[LightGBM] [Warning] No further splits with positive gain, best gain: -inf\n",
            "[LightGBM] [Warning] No further splits with positive gain, best gain: -inf\n",
            "[LightGBM] [Warning] No further splits with positive gain, best gain: -inf\n",
            "[LightGBM] [Warning] No further splits with positive gain, best gain: -inf\n",
            "[LightGBM] [Warning] No further splits with positive gain, best gain: -inf\n",
            "[LightGBM] [Warning] No further splits with positive gain, best gain: -inf\n",
            "[LightGBM] [Warning] No further splits with positive gain, best gain: -inf\n",
            "[LightGBM] [Warning] No further splits with positive gain, best gain: -inf\n",
            "[LightGBM] [Warning] No further splits with positive gain, best gain: -inf\n",
            "[LightGBM] [Warning] No further splits with positive gain, best gain: -inf\n",
            "[LightGBM] [Warning] No further splits with positive gain, best gain: -inf\n",
            "[LightGBM] [Warning] No further splits with positive gain, best gain: -inf\n",
            "[LightGBM] [Warning] No further splits with positive gain, best gain: -inf\n",
            "[LightGBM] [Warning] No further splits with positive gain, best gain: -inf\n",
            "[LightGBM] [Warning] No further splits with positive gain, best gain: -inf\n",
            "[LightGBM] [Warning] No further splits with positive gain, best gain: -inf\n",
            "[LightGBM] [Warning] No further splits with positive gain, best gain: -inf\n",
            "[LightGBM] [Warning] No further splits with positive gain, best gain: -inf\n",
            "[LightGBM] [Warning] No further splits with positive gain, best gain: -inf\n",
            "[LightGBM] [Warning] No further splits with positive gain, best gain: -inf\n",
            "[LightGBM] [Warning] No further splits with positive gain, best gain: -inf\n",
            "[LightGBM] [Warning] No further splits with positive gain, best gain: -inf\n",
            "[LightGBM] [Warning] No further splits with positive gain, best gain: -inf\n",
            "[LightGBM] [Warning] No further splits with positive gain, best gain: -inf\n",
            "[LightGBM] [Warning] No further splits with positive gain, best gain: -inf\n",
            "[LightGBM] [Warning] No further splits with positive gain, best gain: -inf\n",
            "[LightGBM] [Warning] No further splits with positive gain, best gain: -inf\n",
            "[LightGBM] [Warning] No further splits with positive gain, best gain: -inf\n",
            "[LightGBM] [Warning] No further splits with positive gain, best gain: -inf\n",
            "[LightGBM] [Warning] No further splits with positive gain, best gain: -inf\n",
            "[LightGBM] [Warning] No further splits with positive gain, best gain: -inf\n",
            "[LightGBM] [Warning] No further splits with positive gain, best gain: -inf\n",
            "[LightGBM] [Warning] No further splits with positive gain, best gain: -inf\n",
            "[LightGBM] [Warning] No further splits with positive gain, best gain: -inf\n",
            "[LightGBM] [Warning] No further splits with positive gain, best gain: -inf\n",
            "[LightGBM] [Warning] No further splits with positive gain, best gain: -inf\n",
            "[LightGBM] [Warning] No further splits with positive gain, best gain: -inf\n",
            "[LightGBM] [Warning] No further splits with positive gain, best gain: -inf\n",
            "[LightGBM] [Warning] No further splits with positive gain, best gain: -inf\n",
            "[LightGBM] [Warning] No further splits with positive gain, best gain: -inf\n",
            "[LightGBM] [Warning] No further splits with positive gain, best gain: -inf\n",
            "[LightGBM] [Warning] No further splits with positive gain, best gain: -inf\n",
            "[LightGBM] [Warning] No further splits with positive gain, best gain: -inf\n",
            "[LightGBM] [Warning] No further splits with positive gain, best gain: -inf\n",
            "[LightGBM] [Warning] No further splits with positive gain, best gain: -inf\n",
            "[LightGBM] [Warning] No further splits with positive gain, best gain: -inf\n",
            "[LightGBM] [Warning] No further splits with positive gain, best gain: -inf\n",
            "[LightGBM] [Warning] No further splits with positive gain, best gain: -inf\n",
            "[LightGBM] [Warning] No further splits with positive gain, best gain: -inf\n",
            "[LightGBM] [Warning] No further splits with positive gain, best gain: -inf\n",
            "[LightGBM] [Warning] No further splits with positive gain, best gain: -inf\n",
            "[LightGBM] [Warning] No further splits with positive gain, best gain: -inf\n",
            "[LightGBM] [Warning] No further splits with positive gain, best gain: -inf\n",
            "[LightGBM] [Warning] No further splits with positive gain, best gain: -inf\n",
            "[LightGBM] [Warning] No further splits with positive gain, best gain: -inf\n",
            "[LightGBM] [Warning] No further splits with positive gain, best gain: -inf\n",
            "[LightGBM] [Warning] No further splits with positive gain, best gain: -inf\n",
            "[LightGBM] [Warning] No further splits with positive gain, best gain: -inf\n",
            "[LightGBM] [Warning] No further splits with positive gain, best gain: -inf\n",
            "[LightGBM] [Warning] No further splits with positive gain, best gain: -inf\n",
            "[LightGBM] [Warning] No further splits with positive gain, best gain: -inf\n",
            "[LightGBM] [Warning] No further splits with positive gain, best gain: -inf\n",
            "[LightGBM] [Warning] No further splits with positive gain, best gain: -inf\n",
            "[LightGBM] [Warning] No further splits with positive gain, best gain: -inf\n",
            "[LightGBM] [Warning] No further splits with positive gain, best gain: -inf\n",
            "[LightGBM] [Warning] No further splits with positive gain, best gain: -inf\n",
            "[LightGBM] [Warning] No further splits with positive gain, best gain: -inf\n",
            "[LightGBM] [Warning] No further splits with positive gain, best gain: -inf\n",
            "[LightGBM] [Warning] No further splits with positive gain, best gain: -inf\n",
            "[LightGBM] [Warning] No further splits with positive gain, best gain: -inf\n",
            "[LightGBM] [Warning] No further splits with positive gain, best gain: -inf\n",
            "[LightGBM] [Warning] No further splits with positive gain, best gain: -inf\n",
            "[LightGBM] [Warning] No further splits with positive gain, best gain: -inf\n",
            "[LightGBM] [Warning] No further splits with positive gain, best gain: -inf\n",
            "[LightGBM] [Warning] No further splits with positive gain, best gain: -inf\n",
            "[LightGBM] [Warning] No further splits with positive gain, best gain: -inf\n",
            "[LightGBM] [Warning] No further splits with positive gain, best gain: -inf\n",
            "[LightGBM] [Warning] No further splits with positive gain, best gain: -inf\n",
            "[LightGBM] [Warning] No further splits with positive gain, best gain: -inf\n",
            "[LightGBM] [Warning] No further splits with positive gain, best gain: -inf\n",
            "[LightGBM] [Warning] No further splits with positive gain, best gain: -inf\n",
            "[LightGBM] [Warning] No further splits with positive gain, best gain: -inf\n",
            "[LightGBM] [Warning] No further splits with positive gain, best gain: -inf\n",
            "[LightGBM] [Warning] No further splits with positive gain, best gain: -inf\n",
            "[LightGBM] [Warning] No further splits with positive gain, best gain: -inf\n",
            "[LightGBM] [Warning] No further splits with positive gain, best gain: -inf\n",
            "[LightGBM] [Warning] No further splits with positive gain, best gain: -inf\n",
            "[LightGBM] [Warning] No further splits with positive gain, best gain: -inf\n",
            "[LightGBM] [Warning] No further splits with positive gain, best gain: -inf\n",
            "[LightGBM] [Warning] No further splits with positive gain, best gain: -inf\n",
            "[LightGBM] [Warning] No further splits with positive gain, best gain: -inf\n",
            "[LightGBM] [Warning] No further splits with positive gain, best gain: -inf\n",
            "[LightGBM] [Warning] No further splits with positive gain, best gain: -inf\n",
            "[LightGBM] [Warning] No further splits with positive gain, best gain: -inf\n",
            "[LightGBM] [Warning] No further splits with positive gain, best gain: -inf\n",
            "[LightGBM] [Warning] No further splits with positive gain, best gain: -inf\n",
            "[LightGBM] [Warning] No further splits with positive gain, best gain: -inf\n",
            "[LightGBM] [Warning] No further splits with positive gain, best gain: -inf\n",
            "[LightGBM] [Warning] No further splits with positive gain, best gain: -inf\n",
            "[LightGBM] [Warning] No further splits with positive gain, best gain: -inf\n",
            "[LightGBM] [Warning] No further splits with positive gain, best gain: -inf\n",
            "[LightGBM] [Warning] No further splits with positive gain, best gain: -inf\n",
            "[LightGBM] [Warning] No further splits with positive gain, best gain: -inf\n",
            "[LightGBM] [Warning] No further splits with positive gain, best gain: -inf\n",
            "[LightGBM] [Warning] No further splits with positive gain, best gain: -inf\n",
            "[LightGBM] [Warning] No further splits with positive gain, best gain: -inf\n",
            "[LightGBM] [Warning] No further splits with positive gain, best gain: -inf\n",
            "[LightGBM] [Warning] No further splits with positive gain, best gain: -inf\n",
            "[LightGBM] [Warning] No further splits with positive gain, best gain: -inf\n",
            "[LightGBM] [Warning] No further splits with positive gain, best gain: -inf\n",
            "[LightGBM] [Warning] No further splits with positive gain, best gain: -inf\n",
            "[LightGBM] [Warning] No further splits with positive gain, best gain: -inf\n",
            "[LightGBM] [Warning] No further splits with positive gain, best gain: -inf\n",
            "[LightGBM] [Warning] No further splits with positive gain, best gain: -inf\n",
            "[LightGBM] [Warning] No further splits with positive gain, best gain: -inf\n",
            "[LightGBM] [Warning] No further splits with positive gain, best gain: -inf\n",
            "[LightGBM] [Warning] No further splits with positive gain, best gain: -inf\n",
            "[LightGBM] [Warning] No further splits with positive gain, best gain: -inf\n",
            "[LightGBM] [Warning] No further splits with positive gain, best gain: -inf\n",
            "[LightGBM] [Warning] No further splits with positive gain, best gain: -inf\n",
            "[LightGBM] [Warning] No further splits with positive gain, best gain: -inf\n",
            "[LightGBM] [Warning] No further splits with positive gain, best gain: -inf\n",
            "[LightGBM] [Warning] No further splits with positive gain, best gain: -inf\n",
            "[LightGBM] [Warning] No further splits with positive gain, best gain: -inf\n",
            "[LightGBM] [Warning] No further splits with positive gain, best gain: -inf\n",
            "[LightGBM] [Warning] No further splits with positive gain, best gain: -inf\n",
            "[LightGBM] [Warning] No further splits with positive gain, best gain: -inf\n",
            "[LightGBM] [Warning] No further splits with positive gain, best gain: -inf\n",
            "[LightGBM] [Warning] No further splits with positive gain, best gain: -inf\n",
            "[LightGBM] [Warning] No further splits with positive gain, best gain: -inf\n",
            "[LightGBM] [Warning] No further splits with positive gain, best gain: -inf\n",
            "[LightGBM] [Warning] No further splits with positive gain, best gain: -inf\n",
            "[LightGBM] [Warning] No further splits with positive gain, best gain: -inf\n",
            "[LightGBM] [Warning] No further splits with positive gain, best gain: -inf\n",
            "[LightGBM] [Warning] No further splits with positive gain, best gain: -inf\n",
            "[LightGBM] [Warning] No further splits with positive gain, best gain: -inf\n",
            "[LightGBM] [Warning] No further splits with positive gain, best gain: -inf\n",
            "[LightGBM] [Warning] No further splits with positive gain, best gain: -inf\n",
            "[LightGBM] [Warning] No further splits with positive gain, best gain: -inf\n",
            "[LightGBM] [Warning] No further splits with positive gain, best gain: -inf\n",
            "[LightGBM] [Warning] No further splits with positive gain, best gain: -inf\n",
            "[LightGBM] [Warning] No further splits with positive gain, best gain: -inf\n",
            "[LightGBM] [Warning] No further splits with positive gain, best gain: -inf\n",
            "[LightGBM] [Warning] No further splits with positive gain, best gain: -inf\n",
            "[LightGBM] [Warning] No further splits with positive gain, best gain: -inf\n",
            "[LightGBM] [Warning] No further splits with positive gain, best gain: -inf\n",
            "[LightGBM] [Warning] No further splits with positive gain, best gain: -inf\n",
            "[LightGBM] [Warning] No further splits with positive gain, best gain: -inf\n",
            "[LightGBM] [Warning] No further splits with positive gain, best gain: -inf\n",
            "[LightGBM] [Warning] No further splits with positive gain, best gain: -inf\n",
            "[LightGBM] [Warning] No further splits with positive gain, best gain: -inf\n",
            "[LightGBM] [Warning] No further splits with positive gain, best gain: -inf\n",
            "[LightGBM] [Warning] No further splits with positive gain, best gain: -inf\n",
            "[LightGBM] [Warning] No further splits with positive gain, best gain: -inf\n",
            "[LightGBM] [Warning] No further splits with positive gain, best gain: -inf\n",
            "[LightGBM] [Warning] No further splits with positive gain, best gain: -inf\n",
            "[LightGBM] [Warning] No further splits with positive gain, best gain: -inf\n",
            "[LightGBM] [Warning] No further splits with positive gain, best gain: -inf\n",
            "[LightGBM] [Warning] No further splits with positive gain, best gain: -inf\n",
            "[LightGBM] [Warning] No further splits with positive gain, best gain: -inf\n",
            "[LightGBM] [Warning] No further splits with positive gain, best gain: -inf\n",
            "[LightGBM] [Warning] No further splits with positive gain, best gain: -inf\n",
            "[LightGBM] [Warning] No further splits with positive gain, best gain: -inf\n",
            "[LightGBM] [Warning] No further splits with positive gain, best gain: -inf\n",
            "[LightGBM] [Warning] No further splits with positive gain, best gain: -inf\n",
            "[LightGBM] [Warning] No further splits with positive gain, best gain: -inf\n",
            "[LightGBM] [Warning] No further splits with positive gain, best gain: -inf\n",
            "[LightGBM] [Warning] No further splits with positive gain, best gain: -inf\n",
            "[LightGBM] [Warning] No further splits with positive gain, best gain: -inf\n",
            "[LightGBM] [Warning] No further splits with positive gain, best gain: -inf\n",
            "[LightGBM] [Warning] No further splits with positive gain, best gain: -inf\n",
            "[LightGBM] [Warning] No further splits with positive gain, best gain: -inf\n",
            "[LightGBM] [Warning] No further splits with positive gain, best gain: -inf\n",
            "[LightGBM] [Warning] No further splits with positive gain, best gain: -inf\n",
            "[LightGBM] [Warning] No further splits with positive gain, best gain: -inf\n",
            "[LightGBM] [Warning] No further splits with positive gain, best gain: -inf\n",
            "[LightGBM] [Warning] No further splits with positive gain, best gain: -inf\n",
            "[LightGBM] [Warning] No further splits with positive gain, best gain: -inf\n",
            "[LightGBM] [Warning] No further splits with positive gain, best gain: -inf\n",
            "[LightGBM] [Warning] No further splits with positive gain, best gain: -inf\n",
            "[LightGBM] [Warning] No further splits with positive gain, best gain: -inf\n",
            "[LightGBM] [Warning] No further splits with positive gain, best gain: -inf\n",
            "[LightGBM] [Warning] No further splits with positive gain, best gain: -inf\n",
            "[LightGBM] [Warning] No further splits with positive gain, best gain: -inf\n",
            "[LightGBM] [Warning] No further splits with positive gain, best gain: -inf\n",
            "[LightGBM] [Warning] No further splits with positive gain, best gain: -inf\n",
            "[LightGBM] [Warning] No further splits with positive gain, best gain: -inf\n",
            "[LightGBM] [Warning] No further splits with positive gain, best gain: -inf\n",
            "[LightGBM] [Warning] No further splits with positive gain, best gain: -inf\n",
            "[LightGBM] [Warning] No further splits with positive gain, best gain: -inf\n",
            "[LightGBM] [Warning] No further splits with positive gain, best gain: -inf\n",
            "[LightGBM] [Warning] No further splits with positive gain, best gain: -inf\n",
            "[LightGBM] [Warning] No further splits with positive gain, best gain: -inf\n",
            "[LightGBM] [Warning] No further splits with positive gain, best gain: -inf\n",
            "[LightGBM] [Warning] No further splits with positive gain, best gain: -inf\n",
            "[LightGBM] [Warning] No further splits with positive gain, best gain: -inf\n",
            "[LightGBM] [Warning] No further splits with positive gain, best gain: -inf\n",
            "[LightGBM] [Warning] No further splits with positive gain, best gain: -inf\n",
            "[LightGBM] [Warning] No further splits with positive gain, best gain: -inf\n",
            "[LightGBM] [Warning] No further splits with positive gain, best gain: -inf\n",
            "[LightGBM] [Warning] No further splits with positive gain, best gain: -inf\n",
            "[LightGBM] [Warning] No further splits with positive gain, best gain: -inf\n",
            "[LightGBM] [Warning] No further splits with positive gain, best gain: -inf\n",
            "[LightGBM] [Warning] No further splits with positive gain, best gain: -inf\n",
            "[LightGBM] [Warning] No further splits with positive gain, best gain: -inf\n",
            "[LightGBM] [Warning] No further splits with positive gain, best gain: -inf\n",
            "[LightGBM] [Warning] No further splits with positive gain, best gain: -inf\n",
            "[LightGBM] [Warning] No further splits with positive gain, best gain: -inf\n",
            "[LightGBM] [Warning] No further splits with positive gain, best gain: -inf\n",
            "[LightGBM] [Warning] No further splits with positive gain, best gain: -inf\n",
            "[LightGBM] [Warning] No further splits with positive gain, best gain: -inf\n",
            "[LightGBM] [Warning] No further splits with positive gain, best gain: -inf\n",
            "[LightGBM] [Warning] No further splits with positive gain, best gain: -inf\n",
            "[LightGBM] [Warning] No further splits with positive gain, best gain: -inf\n",
            "[LightGBM] [Warning] No further splits with positive gain, best gain: -inf\n",
            "[LightGBM] [Warning] No further splits with positive gain, best gain: -inf\n",
            "[LightGBM] [Warning] No further splits with positive gain, best gain: -inf\n",
            "[LightGBM] [Warning] No further splits with positive gain, best gain: -inf\n",
            "[LightGBM] [Warning] No further splits with positive gain, best gain: -inf\n",
            "[LightGBM] [Warning] No further splits with positive gain, best gain: -inf\n",
            "[LightGBM] [Warning] No further splits with positive gain, best gain: -inf\n",
            "[LightGBM] [Warning] No further splits with positive gain, best gain: -inf\n",
            "[LightGBM] [Warning] No further splits with positive gain, best gain: -inf\n",
            "[LightGBM] [Warning] No further splits with positive gain, best gain: -inf\n",
            "[LightGBM] [Warning] No further splits with positive gain, best gain: -inf\n",
            "[LightGBM] [Warning] No further splits with positive gain, best gain: -inf\n",
            "[LightGBM] [Warning] No further splits with positive gain, best gain: -inf\n",
            "[LightGBM] [Warning] No further splits with positive gain, best gain: -inf\n",
            "[LightGBM] [Warning] No further splits with positive gain, best gain: -inf\n",
            "[LightGBM] [Warning] No further splits with positive gain, best gain: -inf\n",
            "[LightGBM] [Warning] No further splits with positive gain, best gain: -inf\n",
            "[LightGBM] [Warning] No further splits with positive gain, best gain: -inf\n",
            "[LightGBM] [Warning] No further splits with positive gain, best gain: -inf\n",
            "[LightGBM] [Warning] No further splits with positive gain, best gain: -inf\n",
            "[LightGBM] [Warning] No further splits with positive gain, best gain: -inf\n",
            "[LightGBM] [Warning] No further splits with positive gain, best gain: -inf\n",
            "[LightGBM] [Warning] No further splits with positive gain, best gain: -inf\n",
            "[LightGBM] [Warning] No further splits with positive gain, best gain: -inf\n",
            "[LightGBM] [Warning] No further splits with positive gain, best gain: -inf\n",
            "[LightGBM] [Warning] No further splits with positive gain, best gain: -inf\n",
            "[LightGBM] [Warning] No further splits with positive gain, best gain: -inf\n",
            "[LightGBM] [Warning] No further splits with positive gain, best gain: -inf\n",
            "[LightGBM] [Warning] No further splits with positive gain, best gain: -inf\n",
            "[LightGBM] [Warning] No further splits with positive gain, best gain: -inf\n",
            "[LightGBM] [Warning] No further splits with positive gain, best gain: -inf\n",
            "[LightGBM] [Warning] No further splits with positive gain, best gain: -inf\n",
            "[LightGBM] [Warning] No further splits with positive gain, best gain: -inf\n",
            "[LightGBM] [Warning] No further splits with positive gain, best gain: -inf\n",
            "[LightGBM] [Warning] No further splits with positive gain, best gain: -inf\n",
            "[LightGBM] [Warning] No further splits with positive gain, best gain: -inf\n",
            "[LightGBM] [Warning] No further splits with positive gain, best gain: -inf\n",
            "[LightGBM] [Warning] No further splits with positive gain, best gain: -inf\n",
            "[LightGBM] [Warning] No further splits with positive gain, best gain: -inf\n",
            "[LightGBM] [Warning] No further splits with positive gain, best gain: -inf\n",
            "[LightGBM] [Warning] No further splits with positive gain, best gain: -inf\n",
            "[LightGBM] [Warning] No further splits with positive gain, best gain: -inf\n",
            "[LightGBM] [Warning] No further splits with positive gain, best gain: -inf\n",
            "[LightGBM] [Warning] No further splits with positive gain, best gain: -inf\n",
            "[LightGBM] [Warning] No further splits with positive gain, best gain: -inf\n",
            "[LightGBM] [Warning] No further splits with positive gain, best gain: -inf\n",
            "[LightGBM] [Warning] No further splits with positive gain, best gain: -inf\n",
            "[LightGBM] [Warning] No further splits with positive gain, best gain: -inf\n",
            "[LightGBM] [Warning] No further splits with positive gain, best gain: -inf\n",
            "[LightGBM] [Warning] No further splits with positive gain, best gain: -inf\n",
            "[LightGBM] [Warning] No further splits with positive gain, best gain: -inf\n",
            "[LightGBM] [Warning] No further splits with positive gain, best gain: -inf\n",
            "[LightGBM] [Warning] No further splits with positive gain, best gain: -inf\n",
            "[LightGBM] [Warning] No further splits with positive gain, best gain: -inf\n",
            "[LightGBM] [Warning] No further splits with positive gain, best gain: -inf\n",
            "[LightGBM] [Warning] No further splits with positive gain, best gain: -inf\n",
            "[LightGBM] [Warning] No further splits with positive gain, best gain: -inf\n",
            "[LightGBM] [Warning] No further splits with positive gain, best gain: -inf\n",
            "[LightGBM] [Warning] No further splits with positive gain, best gain: -inf\n",
            "[LightGBM] [Warning] No further splits with positive gain, best gain: -inf\n",
            "[LightGBM] [Warning] No further splits with positive gain, best gain: -inf\n",
            "[LightGBM] [Warning] No further splits with positive gain, best gain: -inf\n",
            "[LightGBM] [Warning] No further splits with positive gain, best gain: -inf\n",
            "[LightGBM] [Warning] No further splits with positive gain, best gain: -inf\n",
            "[LightGBM] [Warning] No further splits with positive gain, best gain: -inf\n",
            "[LightGBM] [Warning] No further splits with positive gain, best gain: -inf\n",
            "[LightGBM] [Warning] No further splits with positive gain, best gain: -inf\n",
            "[LightGBM] [Warning] No further splits with positive gain, best gain: -inf\n",
            "[LightGBM] [Warning] No further splits with positive gain, best gain: -inf\n",
            "[LightGBM] [Warning] No further splits with positive gain, best gain: -inf\n",
            "[LightGBM] [Warning] No further splits with positive gain, best gain: -inf\n",
            "[LightGBM] [Warning] No further splits with positive gain, best gain: -inf\n",
            "[LightGBM] [Warning] No further splits with positive gain, best gain: -inf\n",
            "[LightGBM] [Warning] No further splits with positive gain, best gain: -inf\n",
            "[LightGBM] [Warning] No further splits with positive gain, best gain: -inf\n",
            "[LightGBM] [Warning] No further splits with positive gain, best gain: -inf\n",
            "[LightGBM] [Warning] No further splits with positive gain, best gain: -inf\n",
            "[LightGBM] [Warning] No further splits with positive gain, best gain: -inf\n",
            "[LightGBM] [Warning] No further splits with positive gain, best gain: -inf\n",
            "[LightGBM] [Warning] No further splits with positive gain, best gain: -inf\n",
            "[LightGBM] [Warning] No further splits with positive gain, best gain: -inf\n",
            "[LightGBM] [Warning] No further splits with positive gain, best gain: -inf\n",
            "[LightGBM] [Warning] No further splits with positive gain, best gain: -inf\n",
            "[LightGBM] [Warning] No further splits with positive gain, best gain: -inf\n",
            "[LightGBM] [Warning] No further splits with positive gain, best gain: -inf\n",
            "[LightGBM] [Warning] No further splits with positive gain, best gain: -inf\n",
            "[LightGBM] [Warning] No further splits with positive gain, best gain: -inf\n",
            "[LightGBM] [Warning] No further splits with positive gain, best gain: -inf\n",
            "[LightGBM] [Warning] No further splits with positive gain, best gain: -inf\n",
            "[LightGBM] [Warning] No further splits with positive gain, best gain: -inf\n",
            "[LightGBM] [Warning] No further splits with positive gain, best gain: -inf\n",
            "[LightGBM] [Warning] No further splits with positive gain, best gain: -inf\n",
            "[LightGBM] [Warning] No further splits with positive gain, best gain: -inf\n",
            "[LightGBM] [Warning] No further splits with positive gain, best gain: -inf\n",
            "[LightGBM] [Warning] No further splits with positive gain, best gain: -inf\n",
            "[LightGBM] [Warning] No further splits with positive gain, best gain: -inf\n",
            "[LightGBM] [Warning] No further splits with positive gain, best gain: -inf\n",
            "[LightGBM] [Warning] No further splits with positive gain, best gain: -inf\n",
            "[LightGBM] [Warning] No further splits with positive gain, best gain: -inf\n",
            "[LightGBM] [Warning] No further splits with positive gain, best gain: -inf\n",
            "[LightGBM] [Warning] No further splits with positive gain, best gain: -inf\n",
            "[LightGBM] [Warning] No further splits with positive gain, best gain: -inf\n",
            "[LightGBM] [Warning] No further splits with positive gain, best gain: -inf\n",
            "[LightGBM] [Warning] No further splits with positive gain, best gain: -inf\n",
            "[LightGBM] [Warning] No further splits with positive gain, best gain: -inf\n",
            "[LightGBM] [Warning] No further splits with positive gain, best gain: -inf\n",
            "[LightGBM] [Warning] No further splits with positive gain, best gain: -inf\n",
            "[LightGBM] [Warning] No further splits with positive gain, best gain: -inf\n",
            "[LightGBM] [Warning] No further splits with positive gain, best gain: -inf\n",
            "[LightGBM] [Warning] No further splits with positive gain, best gain: -inf\n",
            "[LightGBM] [Warning] No further splits with positive gain, best gain: -inf\n",
            "[LightGBM] [Warning] No further splits with positive gain, best gain: -inf\n",
            "[LightGBM] [Warning] No further splits with positive gain, best gain: -inf\n",
            "[LightGBM] [Warning] No further splits with positive gain, best gain: -inf\n",
            "[LightGBM] [Warning] No further splits with positive gain, best gain: -inf\n",
            "[LightGBM] [Warning] No further splits with positive gain, best gain: -inf\n",
            "[LightGBM] [Warning] No further splits with positive gain, best gain: -inf\n",
            "[LightGBM] [Warning] No further splits with positive gain, best gain: -inf\n",
            "[LightGBM] [Warning] No further splits with positive gain, best gain: -inf\n",
            "[LightGBM] [Warning] No further splits with positive gain, best gain: -inf\n",
            "[LightGBM] [Warning] No further splits with positive gain, best gain: -inf\n",
            "[LightGBM] [Warning] No further splits with positive gain, best gain: -inf\n",
            "[LightGBM] [Warning] No further splits with positive gain, best gain: -inf\n",
            "[LightGBM] [Warning] No further splits with positive gain, best gain: -inf\n",
            "[LightGBM] [Warning] No further splits with positive gain, best gain: -inf\n",
            "[LightGBM] [Warning] No further splits with positive gain, best gain: -inf\n",
            "[LightGBM] [Warning] No further splits with positive gain, best gain: -inf\n",
            "[LightGBM] [Warning] No further splits with positive gain, best gain: -inf\n",
            "[LightGBM] [Warning] No further splits with positive gain, best gain: -inf\n",
            "[LightGBM] [Warning] No further splits with positive gain, best gain: -inf\n",
            "[LightGBM] [Warning] No further splits with positive gain, best gain: -inf\n",
            "[LightGBM] [Warning] No further splits with positive gain, best gain: -inf\n",
            "[LightGBM] [Warning] No further splits with positive gain, best gain: -inf\n",
            "[LightGBM] [Warning] No further splits with positive gain, best gain: -inf\n",
            "[LightGBM] [Warning] No further splits with positive gain, best gain: -inf\n",
            "[LightGBM] [Warning] No further splits with positive gain, best gain: -inf\n",
            "[LightGBM] [Warning] No further splits with positive gain, best gain: -inf\n",
            "[LightGBM] [Warning] No further splits with positive gain, best gain: -inf\n",
            "[LightGBM] [Warning] No further splits with positive gain, best gain: -inf\n",
            "[LightGBM] [Warning] No further splits with positive gain, best gain: -inf\n",
            "[LightGBM] [Warning] No further splits with positive gain, best gain: -inf\n",
            "[LightGBM] [Warning] No further splits with positive gain, best gain: -inf\n",
            "[LightGBM] [Warning] No further splits with positive gain, best gain: -inf\n",
            "[LightGBM] [Warning] No further splits with positive gain, best gain: -inf\n",
            "[LightGBM] [Warning] No further splits with positive gain, best gain: -inf\n",
            "[LightGBM] [Warning] No further splits with positive gain, best gain: -inf\n",
            "[LightGBM] [Warning] No further splits with positive gain, best gain: -inf\n",
            "[LightGBM] [Warning] No further splits with positive gain, best gain: -inf\n",
            "[LightGBM] [Warning] No further splits with positive gain, best gain: -inf\n",
            "[LightGBM] [Warning] No further splits with positive gain, best gain: -inf\n",
            "[LightGBM] [Warning] No further splits with positive gain, best gain: -inf\n",
            "[LightGBM] [Warning] No further splits with positive gain, best gain: -inf\n",
            "[LightGBM] [Warning] No further splits with positive gain, best gain: -inf\n",
            "[LightGBM] [Warning] No further splits with positive gain, best gain: -inf\n",
            "[LightGBM] [Warning] No further splits with positive gain, best gain: -inf\n",
            "[LightGBM] [Warning] No further splits with positive gain, best gain: -inf\n",
            "[LightGBM] [Warning] No further splits with positive gain, best gain: -inf\n",
            "[LightGBM] [Warning] No further splits with positive gain, best gain: -inf\n",
            "[LightGBM] [Warning] No further splits with positive gain, best gain: -inf\n",
            "[LightGBM] [Warning] No further splits with positive gain, best gain: -inf\n",
            "[LightGBM] [Warning] No further splits with positive gain, best gain: -inf\n",
            "[LightGBM] [Warning] No further splits with positive gain, best gain: -inf\n",
            "[LightGBM] [Warning] No further splits with positive gain, best gain: -inf\n",
            "[LightGBM] [Warning] No further splits with positive gain, best gain: -inf\n",
            "[LightGBM] [Warning] No further splits with positive gain, best gain: -inf\n",
            "[LightGBM] [Warning] No further splits with positive gain, best gain: -inf\n",
            "[LightGBM] [Warning] No further splits with positive gain, best gain: -inf\n",
            "[LightGBM] [Warning] No further splits with positive gain, best gain: -inf\n",
            "[LightGBM] [Warning] No further splits with positive gain, best gain: -inf\n",
            "[LightGBM] [Warning] No further splits with positive gain, best gain: -inf\n",
            "[LightGBM] [Warning] No further splits with positive gain, best gain: -inf\n",
            "[LightGBM] [Warning] No further splits with positive gain, best gain: -inf\n",
            "[LightGBM] [Warning] No further splits with positive gain, best gain: -inf\n",
            "[LightGBM] [Warning] No further splits with positive gain, best gain: -inf\n",
            "[LightGBM] [Warning] No further splits with positive gain, best gain: -inf\n",
            "[LightGBM] [Warning] No further splits with positive gain, best gain: -inf\n",
            "[LightGBM] [Warning] No further splits with positive gain, best gain: -inf\n",
            "[LightGBM] [Warning] No further splits with positive gain, best gain: -inf\n",
            "[LightGBM] [Warning] No further splits with positive gain, best gain: -inf\n",
            "[LightGBM] [Warning] No further splits with positive gain, best gain: -inf\n",
            "[LightGBM] [Warning] No further splits with positive gain, best gain: -inf\n",
            "[LightGBM] [Warning] No further splits with positive gain, best gain: -inf\n",
            "[LightGBM] [Warning] No further splits with positive gain, best gain: -inf\n",
            "[LightGBM] [Warning] No further splits with positive gain, best gain: -inf\n",
            "[LightGBM] [Warning] No further splits with positive gain, best gain: -inf\n",
            "[LightGBM] [Warning] No further splits with positive gain, best gain: -inf\n",
            "[LightGBM] [Warning] No further splits with positive gain, best gain: -inf\n",
            "[LightGBM] [Warning] No further splits with positive gain, best gain: -inf\n",
            "[LightGBM] [Warning] No further splits with positive gain, best gain: -inf\n",
            "[LightGBM] [Warning] No further splits with positive gain, best gain: -inf\n",
            "[LightGBM] [Warning] No further splits with positive gain, best gain: -inf\n",
            "[LightGBM] [Warning] No further splits with positive gain, best gain: -inf\n",
            "[LightGBM] [Warning] No further splits with positive gain, best gain: -inf\n",
            "[LightGBM] [Warning] No further splits with positive gain, best gain: -inf\n",
            "[LightGBM] [Warning] No further splits with positive gain, best gain: -inf\n",
            "[LightGBM] [Warning] No further splits with positive gain, best gain: -inf\n",
            "[LightGBM] [Warning] No further splits with positive gain, best gain: -inf\n",
            "[LightGBM] [Warning] No further splits with positive gain, best gain: -inf\n",
            "[LightGBM] [Warning] No further splits with positive gain, best gain: -inf\n",
            "[LightGBM] [Warning] No further splits with positive gain, best gain: -inf\n",
            "[LightGBM] [Warning] No further splits with positive gain, best gain: -inf\n",
            "[LightGBM] [Warning] No further splits with positive gain, best gain: -inf\n",
            "[LightGBM] [Warning] No further splits with positive gain, best gain: -inf\n",
            "[LightGBM] [Warning] No further splits with positive gain, best gain: -inf\n",
            "[LightGBM] [Warning] No further splits with positive gain, best gain: -inf\n",
            "[LightGBM] [Warning] No further splits with positive gain, best gain: -inf\n",
            "[LightGBM] [Warning] No further splits with positive gain, best gain: -inf\n",
            "[LightGBM] [Warning] No further splits with positive gain, best gain: -inf\n",
            "[LightGBM] [Warning] No further splits with positive gain, best gain: -inf\n",
            "[LightGBM] [Warning] No further splits with positive gain, best gain: -inf\n",
            "[LightGBM] [Warning] No further splits with positive gain, best gain: -inf\n",
            "[LightGBM] [Warning] No further splits with positive gain, best gain: -inf\n",
            "[LightGBM] [Warning] No further splits with positive gain, best gain: -inf\n",
            "[LightGBM] [Warning] No further splits with positive gain, best gain: -inf\n",
            "[LightGBM] [Warning] No further splits with positive gain, best gain: -inf\n",
            "[LightGBM] [Warning] No further splits with positive gain, best gain: -inf\n",
            "[LightGBM] [Warning] No further splits with positive gain, best gain: -inf\n",
            "[LightGBM] [Warning] No further splits with positive gain, best gain: -inf\n",
            "[LightGBM] [Warning] No further splits with positive gain, best gain: -inf\n",
            "[LightGBM] [Warning] No further splits with positive gain, best gain: -inf\n",
            "[LightGBM] [Warning] No further splits with positive gain, best gain: -inf\n",
            "[LightGBM] [Warning] No further splits with positive gain, best gain: -inf\n",
            "[LightGBM] [Warning] No further splits with positive gain, best gain: -inf\n",
            "[LightGBM] [Warning] No further splits with positive gain, best gain: -inf\n",
            "[LightGBM] [Warning] No further splits with positive gain, best gain: -inf\n",
            "[LightGBM] [Warning] No further splits with positive gain, best gain: -inf\n",
            "[LightGBM] [Warning] No further splits with positive gain, best gain: -inf\n",
            "[LightGBM] [Warning] No further splits with positive gain, best gain: -inf\n",
            "[LightGBM] [Warning] No further splits with positive gain, best gain: -inf\n",
            "[LightGBM] [Warning] No further splits with positive gain, best gain: -inf\n",
            "[LightGBM] [Warning] No further splits with positive gain, best gain: -inf\n",
            "[LightGBM] [Warning] No further splits with positive gain, best gain: -inf\n",
            "[LightGBM] [Warning] No further splits with positive gain, best gain: -inf\n",
            "[LightGBM] [Warning] No further splits with positive gain, best gain: -inf\n",
            "[LightGBM] [Warning] No further splits with positive gain, best gain: -inf\n",
            "[LightGBM] [Warning] No further splits with positive gain, best gain: -inf\n",
            "[LightGBM] [Warning] No further splits with positive gain, best gain: -inf\n",
            "[LightGBM] [Warning] No further splits with positive gain, best gain: -inf\n",
            "[LightGBM] [Warning] No further splits with positive gain, best gain: -inf\n",
            "[LightGBM] [Warning] No further splits with positive gain, best gain: -inf\n",
            "[LightGBM] [Warning] No further splits with positive gain, best gain: -inf\n",
            "[LightGBM] [Warning] No further splits with positive gain, best gain: -inf\n",
            "[LightGBM] [Warning] No further splits with positive gain, best gain: -inf\n",
            "[LightGBM] [Warning] No further splits with positive gain, best gain: -inf\n",
            "[LightGBM] [Warning] No further splits with positive gain, best gain: -inf\n",
            "[LightGBM] [Warning] No further splits with positive gain, best gain: -inf\n",
            "[LightGBM] [Warning] No further splits with positive gain, best gain: -inf\n",
            "[LightGBM] [Warning] No further splits with positive gain, best gain: -inf\n",
            "[LightGBM] [Warning] No further splits with positive gain, best gain: -inf\n",
            "[LightGBM] [Warning] No further splits with positive gain, best gain: -inf\n",
            "[LightGBM] [Warning] No further splits with positive gain, best gain: -inf\n",
            "[LightGBM] [Warning] No further splits with positive gain, best gain: -inf\n",
            "[LightGBM] [Warning] No further splits with positive gain, best gain: -inf\n",
            "[LightGBM] [Warning] No further splits with positive gain, best gain: -inf\n",
            "[LightGBM] [Warning] No further splits with positive gain, best gain: -inf\n",
            "[LightGBM] [Warning] No further splits with positive gain, best gain: -inf\n",
            "[LightGBM] [Warning] No further splits with positive gain, best gain: -inf\n",
            "[LightGBM] [Warning] No further splits with positive gain, best gain: -inf\n",
            "[LightGBM] [Warning] No further splits with positive gain, best gain: -inf\n",
            "[LightGBM] [Warning] No further splits with positive gain, best gain: -inf\n",
            "[LightGBM] [Warning] No further splits with positive gain, best gain: -inf\n",
            "[LightGBM] [Warning] No further splits with positive gain, best gain: -inf\n",
            "[LightGBM] [Warning] No further splits with positive gain, best gain: -inf\n",
            "[LightGBM] [Warning] No further splits with positive gain, best gain: -inf\n",
            "[LightGBM] [Warning] No further splits with positive gain, best gain: -inf\n",
            "[LightGBM] [Warning] No further splits with positive gain, best gain: -inf\n",
            "[LightGBM] [Warning] No further splits with positive gain, best gain: -inf\n",
            "[LightGBM] [Warning] No further splits with positive gain, best gain: -inf\n",
            "[LightGBM] [Warning] No further splits with positive gain, best gain: -inf\n",
            "[LightGBM] [Warning] No further splits with positive gain, best gain: -inf\n",
            "[LightGBM] [Warning] No further splits with positive gain, best gain: -inf\n",
            "[LightGBM] [Warning] No further splits with positive gain, best gain: -inf\n",
            "[LightGBM] [Warning] No further splits with positive gain, best gain: -inf\n",
            "[LightGBM] [Warning] No further splits with positive gain, best gain: -inf\n",
            "[LightGBM] [Warning] No further splits with positive gain, best gain: -inf\n",
            "[LightGBM] [Warning] No further splits with positive gain, best gain: -inf\n",
            "[LightGBM] [Warning] No further splits with positive gain, best gain: -inf\n",
            "[LightGBM] [Warning] No further splits with positive gain, best gain: -inf\n",
            "[LightGBM] [Warning] No further splits with positive gain, best gain: -inf\n",
            "[LightGBM] [Warning] No further splits with positive gain, best gain: -inf\n",
            "[LightGBM] [Warning] No further splits with positive gain, best gain: -inf\n",
            "[LightGBM] [Warning] No further splits with positive gain, best gain: -inf\n",
            "[LightGBM] [Warning] No further splits with positive gain, best gain: -inf\n",
            "[LightGBM] [Warning] No further splits with positive gain, best gain: -inf\n",
            "[LightGBM] [Warning] No further splits with positive gain, best gain: -inf\n",
            "[LightGBM] [Warning] No further splits with positive gain, best gain: -inf\n",
            "[LightGBM] [Warning] No further splits with positive gain, best gain: -inf\n",
            "[LightGBM] [Warning] No further splits with positive gain, best gain: -inf\n",
            "[LightGBM] [Warning] No further splits with positive gain, best gain: -inf\n",
            "[LightGBM] [Warning] No further splits with positive gain, best gain: -inf\n",
            "[LightGBM] [Warning] No further splits with positive gain, best gain: -inf\n",
            "[LightGBM] [Warning] No further splits with positive gain, best gain: -inf\n",
            "[LightGBM] [Warning] No further splits with positive gain, best gain: -inf\n",
            "[LightGBM] [Warning] No further splits with positive gain, best gain: -inf\n",
            "[LightGBM] [Warning] No further splits with positive gain, best gain: -inf\n",
            "[LightGBM] [Warning] No further splits with positive gain, best gain: -inf\n",
            "[LightGBM] [Warning] No further splits with positive gain, best gain: -inf\n",
            "[LightGBM] [Warning] No further splits with positive gain, best gain: -inf\n",
            "[LightGBM] [Warning] No further splits with positive gain, best gain: -inf\n",
            "[LightGBM] [Warning] No further splits with positive gain, best gain: -inf\n",
            "[LightGBM] [Warning] No further splits with positive gain, best gain: -inf\n",
            "[LightGBM] [Warning] No further splits with positive gain, best gain: -inf\n",
            "[LightGBM] [Warning] No further splits with positive gain, best gain: -inf\n",
            "[LightGBM] [Warning] No further splits with positive gain, best gain: -inf\n",
            "[LightGBM] [Warning] No further splits with positive gain, best gain: -inf\n",
            "[LightGBM] [Warning] No further splits with positive gain, best gain: -inf\n",
            "[LightGBM] [Warning] No further splits with positive gain, best gain: -inf\n",
            "[LightGBM] [Warning] No further splits with positive gain, best gain: -inf\n",
            "[LightGBM] [Warning] No further splits with positive gain, best gain: -inf\n",
            "[LightGBM] [Warning] No further splits with positive gain, best gain: -inf\n",
            "[LightGBM] [Warning] No further splits with positive gain, best gain: -inf\n",
            "[LightGBM] [Warning] No further splits with positive gain, best gain: -inf\n",
            "[LightGBM] [Warning] No further splits with positive gain, best gain: -inf\n",
            "[LightGBM] [Warning] No further splits with positive gain, best gain: -inf\n",
            "[LightGBM] [Warning] No further splits with positive gain, best gain: -inf\n",
            "[LightGBM] [Warning] No further splits with positive gain, best gain: -inf\n",
            "[LightGBM] [Warning] No further splits with positive gain, best gain: -inf\n",
            "[LightGBM] [Warning] No further splits with positive gain, best gain: -inf\n",
            "[LightGBM] [Warning] No further splits with positive gain, best gain: -inf\n",
            "[LightGBM] [Warning] No further splits with positive gain, best gain: -inf\n",
            "[LightGBM] [Warning] No further splits with positive gain, best gain: -inf\n",
            "[LightGBM] [Warning] No further splits with positive gain, best gain: -inf\n",
            "[LightGBM] [Warning] No further splits with positive gain, best gain: -inf\n",
            "[LightGBM] [Warning] No further splits with positive gain, best gain: -inf\n",
            "[LightGBM] [Warning] No further splits with positive gain, best gain: -inf\n",
            "[LightGBM] [Warning] No further splits with positive gain, best gain: -inf\n",
            "[LightGBM] [Warning] No further splits with positive gain, best gain: -inf\n",
            "[LightGBM] [Warning] No further splits with positive gain, best gain: -inf\n",
            "[LightGBM] [Warning] No further splits with positive gain, best gain: -inf\n",
            "[LightGBM] [Warning] No further splits with positive gain, best gain: -inf\n",
            "[LightGBM] [Warning] No further splits with positive gain, best gain: -inf\n",
            "[LightGBM] [Warning] No further splits with positive gain, best gain: -inf\n",
            "[LightGBM] [Warning] No further splits with positive gain, best gain: -inf\n",
            "[LightGBM] [Warning] No further splits with positive gain, best gain: -inf\n",
            "[LightGBM] [Warning] No further splits with positive gain, best gain: -inf\n",
            "[LightGBM] [Warning] No further splits with positive gain, best gain: -inf\n",
            "[LightGBM] [Warning] No further splits with positive gain, best gain: -inf\n",
            "[LightGBM] [Warning] No further splits with positive gain, best gain: -inf\n",
            "[LightGBM] [Warning] No further splits with positive gain, best gain: -inf\n",
            "[LightGBM] [Warning] No further splits with positive gain, best gain: -inf\n",
            "[LightGBM] [Warning] No further splits with positive gain, best gain: -inf\n",
            "[LightGBM] [Warning] No further splits with positive gain, best gain: -inf\n",
            "[LightGBM] [Warning] No further splits with positive gain, best gain: -inf\n",
            "[LightGBM] [Warning] No further splits with positive gain, best gain: -inf\n",
            "[LightGBM] [Warning] No further splits with positive gain, best gain: -inf\n",
            "[LightGBM] [Warning] No further splits with positive gain, best gain: -inf\n",
            "[LightGBM] [Warning] No further splits with positive gain, best gain: -inf\n",
            "[LightGBM] [Warning] No further splits with positive gain, best gain: -inf\n",
            "[LightGBM] [Warning] No further splits with positive gain, best gain: -inf\n",
            "[LightGBM] [Warning] No further splits with positive gain, best gain: -inf\n",
            "[LightGBM] [Warning] No further splits with positive gain, best gain: -inf\n",
            "[LightGBM] [Warning] No further splits with positive gain, best gain: -inf\n",
            "[LightGBM] [Warning] No further splits with positive gain, best gain: -inf\n",
            "[LightGBM] [Warning] No further splits with positive gain, best gain: -inf\n",
            "[LightGBM] [Warning] No further splits with positive gain, best gain: -inf\n",
            "[LightGBM] [Warning] No further splits with positive gain, best gain: -inf\n",
            "[LightGBM] [Warning] No further splits with positive gain, best gain: -inf\n",
            "[LightGBM] [Warning] No further splits with positive gain, best gain: -inf\n",
            "[LightGBM] [Warning] No further splits with positive gain, best gain: -inf\n",
            "[LightGBM] [Warning] No further splits with positive gain, best gain: -inf\n",
            "[LightGBM] [Warning] No further splits with positive gain, best gain: -inf\n",
            "[LightGBM] [Warning] No further splits with positive gain, best gain: -inf\n",
            "[LightGBM] [Warning] No further splits with positive gain, best gain: -inf\n",
            "[LightGBM] [Warning] No further splits with positive gain, best gain: -inf\n",
            "[LightGBM] [Warning] No further splits with positive gain, best gain: -inf\n",
            "[LightGBM] [Warning] No further splits with positive gain, best gain: -inf\n",
            "[LightGBM] [Warning] No further splits with positive gain, best gain: -inf\n",
            "[LightGBM] [Warning] No further splits with positive gain, best gain: -inf\n",
            "[LightGBM] [Warning] No further splits with positive gain, best gain: -inf\n",
            "[LightGBM] [Warning] No further splits with positive gain, best gain: -inf\n",
            "[LightGBM] [Warning] No further splits with positive gain, best gain: -inf\n",
            "[LightGBM] [Warning] No further splits with positive gain, best gain: -inf\n",
            "[LightGBM] [Warning] No further splits with positive gain, best gain: -inf\n",
            "[LightGBM] [Warning] No further splits with positive gain, best gain: -inf\n",
            "[LightGBM] [Warning] No further splits with positive gain, best gain: -inf\n",
            "[LightGBM] [Warning] No further splits with positive gain, best gain: -inf\n",
            "[LightGBM] [Warning] No further splits with positive gain, best gain: -inf\n",
            "[LightGBM] [Warning] No further splits with positive gain, best gain: -inf\n",
            "[LightGBM] [Warning] No further splits with positive gain, best gain: -inf\n",
            "[LightGBM] [Warning] No further splits with positive gain, best gain: -inf\n",
            "[LightGBM] [Warning] No further splits with positive gain, best gain: -inf\n",
            "[LightGBM] [Warning] No further splits with positive gain, best gain: -inf\n",
            "[LightGBM] [Warning] No further splits with positive gain, best gain: -inf\n",
            "[LightGBM] [Warning] No further splits with positive gain, best gain: -inf\n",
            "[LightGBM] [Warning] No further splits with positive gain, best gain: -inf\n",
            "\n",
            "Hyperopt завершен за 120.34 секунд\n",
            "Лучшие параметры: {'learning_rate': 0.01853368143584387, 'max_depth': 6, 'min_child_samples': 16, 'n_estimators': 950, 'num_leaves': 49}\n",
            "Лучший CV MSE: 10494.3585\n",
            "MSE на тестовых данных: 9996.0199\n"
          ]
        }
      ],
      "source": [
        "import time\n",
        "import numpy as np\n",
        "import pandas as pd\n",
        "from sklearn.model_selection import cross_val_score\n",
        "from sklearn.metrics import mean_squared_error\n",
        "from hyperopt import hp, fmin, tpe, STATUS_OK, Trials\n",
        "from tqdm import tqdm\n",
        "import lightgbm as lgb\n",
        "\n",
        "# Допустим, у нас есть:\n",
        "# X_train, y_train, X_test, y_test — обучающая и тестовая выборки\n",
        "# Пример кода для оптимизации\n",
        "\n",
        "print(\"\\nЗапуск Hyperopt для LGBM...\")\n",
        "start_time_hyperopt = time.time()\n",
        "\n",
        "# Пространство гиперпараметров LGBM\n",
        "space = {\n",
        "    'n_estimators': hp.quniform('n_estimators', 200, 1000, 50),\n",
        "    'learning_rate': hp.uniform('learning_rate', 0.01, 0.9),\n",
        "    'num_leaves': hp.quniform('num_leaves', 31, 63, 1),\n",
        "    'max_depth': hp.quniform('max_depth', 3, 6, 1),\n",
        "    'min_child_samples': hp.quniform('min_child_samples', 5, 50, 1),\n",
        "    # при необходимости добавляйте другие параметры (subsample, colsample_bytree и т.д.)\n",
        "}\n",
        "\n",
        "# Целевая функция для Hyperopt\n",
        "def objective(params):\n",
        "    # Округляем часть параметров до целых значений\n",
        "    params['n_estimators'] = int(params['n_estimators'])\n",
        "    params['num_leaves'] = int(params['num_leaves'])\n",
        "    params['max_depth'] = int(params['max_depth'])\n",
        "    params['min_child_samples'] = int(params['min_child_samples'])\n",
        "\n",
        "    # Создаём модель LGBMRegressor\n",
        "    model = lgb.LGBMRegressor(**params)\n",
        "\n",
        "    # Кросс-валидация с метрикой MSE\n",
        "    scores = cross_val_score(model, X_train_other, y_train,\n",
        "                             cv=5,\n",
        "                             scoring='neg_mean_squared_error',\n",
        "                             n_jobs=-1)\n",
        "    # Из-за 'neg_mean_squared_error' результат scores будет отрицательным,\n",
        "    # поэтому берём со знаком «-», чтобы получить MSE\n",
        "    mse_mean = -np.mean(scores)\n",
        "\n",
        "    # Обновляем прогресс-бар\n",
        "    hyperopt_pbar.update(1)\n",
        "\n",
        "    # Возвращаем MSE, которое Hyperopt будет минимизировать\n",
        "    return {'loss': mse_mean, 'status': STATUS_OK, 'params': params}\n",
        "\n",
        "# Запускаем оптимизацию Hyperopt\n",
        "n_iter_hyperopt = 30\n",
        "hyperopt_pbar = tqdm(total=n_iter_hyperopt, desc=\"Hyperopt\")\n",
        "\n",
        "trials = Trials()\n",
        "best_hyperopt = fmin(\n",
        "    fn=objective,\n",
        "    space=space,\n",
        "    algo=tpe.suggest,\n",
        "    max_evals=n_iter_hyperopt,\n",
        "    trials=trials,\n",
        "    verbose=0\n",
        ")\n",
        "\n",
        "hyperopt_pbar.close()\n",
        "\n",
        "# Находим индекс лучшего набора параметров\n",
        "best_trial_idx = np.argmin([t['result']['loss'] for t in trials.trials])\n",
        "best_params_hyperopt2 = trials.trials[best_trial_idx]['result']['params']\n",
        "\n",
        "# Лучшее значение MSE по кросс-валидации\n",
        "best_score_hyperopt = min([t['result']['loss'] for t in trials.trials])\n",
        "time_hyperopt = time.time() - start_time_hyperopt\n",
        "\n",
        "# Обучаем финальную модель на всей обучающей выборке\n",
        "best_model_hyperopt = lgb.LGBMRegressor(**best_params_hyperopt2, verbose=0)\n",
        "best_model_hyperopt.fit(X_train_other, y_train)\n",
        "\n",
        "# Предсказание на тестовой выборке и вычисление MSE\n",
        "y_test_pred_hyperopt = best_model_hyperopt.predict(X_test_other)\n",
        "mse_test = mean_squared_error(y_test, y_test_pred_hyperopt)\n",
        "\n",
        "print(f\"\\nHyperopt завершен за {time_hyperopt:.2f} секунд\")\n",
        "print(f\"Лучшие параметры: {best_params_hyperopt2}\")\n",
        "print(f\"Лучший CV MSE: {best_score_hyperopt:.4f}\")\n",
        "print(f\"MSE на тестовых данных: {mse_test:.4f}\")\n"
      ]
    },
    {
      "cell_type": "code",
      "execution_count": null,
      "id": "b7dd2050-e835-436b-ba57-91c69aaa1057",
      "metadata": {
        "id": "b7dd2050-e835-436b-ba57-91c69aaa1057"
      },
      "outputs": [],
      "source": []
    },
    {
      "cell_type": "code",
      "execution_count": null,
      "id": "7dde7b88-d004-45b5-b39a-14682d1cff33",
      "metadata": {
        "id": "7dde7b88-d004-45b5-b39a-14682d1cff33",
        "outputId": "31af7c44-eae4-4d8d-808c-eb3f65695d38"
      },
      "outputs": [
        {
          "data": {
            "text/plain": [
              "{'learning_rate': 0.01853368143584387,\n",
              " 'max_depth': 6,\n",
              " 'min_child_samples': 16,\n",
              " 'n_estimators': 950,\n",
              " 'num_leaves': 49}"
            ]
          },
          "execution_count": 196,
          "metadata": {},
          "output_type": "execute_result"
        }
      ],
      "source": [
        "best_params_hyperopt2"
      ]
    },
    {
      "cell_type": "code",
      "execution_count": null,
      "id": "82a6b068-114c-48db-9a1b-963700d8091d",
      "metadata": {
        "id": "82a6b068-114c-48db-9a1b-963700d8091d",
        "outputId": "cf60c2a2-2715-437e-fb5f-786fd1bda016"
      },
      "outputs": [
        {
          "data": {
            "text/html": [
              "<style>#sk-container-id-1 {\n",
              "  /* Definition of color scheme common for light and dark mode */\n",
              "  --sklearn-color-text: #000;\n",
              "  --sklearn-color-text-muted: #666;\n",
              "  --sklearn-color-line: gray;\n",
              "  /* Definition of color scheme for unfitted estimators */\n",
              "  --sklearn-color-unfitted-level-0: #fff5e6;\n",
              "  --sklearn-color-unfitted-level-1: #f6e4d2;\n",
              "  --sklearn-color-unfitted-level-2: #ffe0b3;\n",
              "  --sklearn-color-unfitted-level-3: chocolate;\n",
              "  /* Definition of color scheme for fitted estimators */\n",
              "  --sklearn-color-fitted-level-0: #f0f8ff;\n",
              "  --sklearn-color-fitted-level-1: #d4ebff;\n",
              "  --sklearn-color-fitted-level-2: #b3dbfd;\n",
              "  --sklearn-color-fitted-level-3: cornflowerblue;\n",
              "\n",
              "  /* Specific color for light theme */\n",
              "  --sklearn-color-text-on-default-background: var(--sg-text-color, var(--theme-code-foreground, var(--jp-content-font-color1, black)));\n",
              "  --sklearn-color-background: var(--sg-background-color, var(--theme-background, var(--jp-layout-color0, white)));\n",
              "  --sklearn-color-border-box: var(--sg-text-color, var(--theme-code-foreground, var(--jp-content-font-color1, black)));\n",
              "  --sklearn-color-icon: #696969;\n",
              "\n",
              "  @media (prefers-color-scheme: dark) {\n",
              "    /* Redefinition of color scheme for dark theme */\n",
              "    --sklearn-color-text-on-default-background: var(--sg-text-color, var(--theme-code-foreground, var(--jp-content-font-color1, white)));\n",
              "    --sklearn-color-background: var(--sg-background-color, var(--theme-background, var(--jp-layout-color0, #111)));\n",
              "    --sklearn-color-border-box: var(--sg-text-color, var(--theme-code-foreground, var(--jp-content-font-color1, white)));\n",
              "    --sklearn-color-icon: #878787;\n",
              "  }\n",
              "}\n",
              "\n",
              "#sk-container-id-1 {\n",
              "  color: var(--sklearn-color-text);\n",
              "}\n",
              "\n",
              "#sk-container-id-1 pre {\n",
              "  padding: 0;\n",
              "}\n",
              "\n",
              "#sk-container-id-1 input.sk-hidden--visually {\n",
              "  border: 0;\n",
              "  clip: rect(1px 1px 1px 1px);\n",
              "  clip: rect(1px, 1px, 1px, 1px);\n",
              "  height: 1px;\n",
              "  margin: -1px;\n",
              "  overflow: hidden;\n",
              "  padding: 0;\n",
              "  position: absolute;\n",
              "  width: 1px;\n",
              "}\n",
              "\n",
              "#sk-container-id-1 div.sk-dashed-wrapped {\n",
              "  border: 1px dashed var(--sklearn-color-line);\n",
              "  margin: 0 0.4em 0.5em 0.4em;\n",
              "  box-sizing: border-box;\n",
              "  padding-bottom: 0.4em;\n",
              "  background-color: var(--sklearn-color-background);\n",
              "}\n",
              "\n",
              "#sk-container-id-1 div.sk-container {\n",
              "  /* jupyter's `normalize.less` sets `[hidden] { display: none; }`\n",
              "     but bootstrap.min.css set `[hidden] { display: none !important; }`\n",
              "     so we also need the `!important` here to be able to override the\n",
              "     default hidden behavior on the sphinx rendered scikit-learn.org.\n",
              "     See: https://github.com/scikit-learn/scikit-learn/issues/21755 */\n",
              "  display: inline-block !important;\n",
              "  position: relative;\n",
              "}\n",
              "\n",
              "#sk-container-id-1 div.sk-text-repr-fallback {\n",
              "  display: none;\n",
              "}\n",
              "\n",
              "div.sk-parallel-item,\n",
              "div.sk-serial,\n",
              "div.sk-item {\n",
              "  /* draw centered vertical line to link estimators */\n",
              "  background-image: linear-gradient(var(--sklearn-color-text-on-default-background), var(--sklearn-color-text-on-default-background));\n",
              "  background-size: 2px 100%;\n",
              "  background-repeat: no-repeat;\n",
              "  background-position: center center;\n",
              "}\n",
              "\n",
              "/* Parallel-specific style estimator block */\n",
              "\n",
              "#sk-container-id-1 div.sk-parallel-item::after {\n",
              "  content: \"\";\n",
              "  width: 100%;\n",
              "  border-bottom: 2px solid var(--sklearn-color-text-on-default-background);\n",
              "  flex-grow: 1;\n",
              "}\n",
              "\n",
              "#sk-container-id-1 div.sk-parallel {\n",
              "  display: flex;\n",
              "  align-items: stretch;\n",
              "  justify-content: center;\n",
              "  background-color: var(--sklearn-color-background);\n",
              "  position: relative;\n",
              "}\n",
              "\n",
              "#sk-container-id-1 div.sk-parallel-item {\n",
              "  display: flex;\n",
              "  flex-direction: column;\n",
              "}\n",
              "\n",
              "#sk-container-id-1 div.sk-parallel-item:first-child::after {\n",
              "  align-self: flex-end;\n",
              "  width: 50%;\n",
              "}\n",
              "\n",
              "#sk-container-id-1 div.sk-parallel-item:last-child::after {\n",
              "  align-self: flex-start;\n",
              "  width: 50%;\n",
              "}\n",
              "\n",
              "#sk-container-id-1 div.sk-parallel-item:only-child::after {\n",
              "  width: 0;\n",
              "}\n",
              "\n",
              "/* Serial-specific style estimator block */\n",
              "\n",
              "#sk-container-id-1 div.sk-serial {\n",
              "  display: flex;\n",
              "  flex-direction: column;\n",
              "  align-items: center;\n",
              "  background-color: var(--sklearn-color-background);\n",
              "  padding-right: 1em;\n",
              "  padding-left: 1em;\n",
              "}\n",
              "\n",
              "\n",
              "/* Toggleable style: style used for estimator/Pipeline/ColumnTransformer box that is\n",
              "clickable and can be expanded/collapsed.\n",
              "- Pipeline and ColumnTransformer use this feature and define the default style\n",
              "- Estimators will overwrite some part of the style using the `sk-estimator` class\n",
              "*/\n",
              "\n",
              "/* Pipeline and ColumnTransformer style (default) */\n",
              "\n",
              "#sk-container-id-1 div.sk-toggleable {\n",
              "  /* Default theme specific background. It is overwritten whether we have a\n",
              "  specific estimator or a Pipeline/ColumnTransformer */\n",
              "  background-color: var(--sklearn-color-background);\n",
              "}\n",
              "\n",
              "/* Toggleable label */\n",
              "#sk-container-id-1 label.sk-toggleable__label {\n",
              "  cursor: pointer;\n",
              "  display: flex;\n",
              "  width: 100%;\n",
              "  margin-bottom: 0;\n",
              "  padding: 0.5em;\n",
              "  box-sizing: border-box;\n",
              "  text-align: center;\n",
              "  align-items: start;\n",
              "  justify-content: space-between;\n",
              "  gap: 0.5em;\n",
              "}\n",
              "\n",
              "#sk-container-id-1 label.sk-toggleable__label .caption {\n",
              "  font-size: 0.6rem;\n",
              "  font-weight: lighter;\n",
              "  color: var(--sklearn-color-text-muted);\n",
              "}\n",
              "\n",
              "#sk-container-id-1 label.sk-toggleable__label-arrow:before {\n",
              "  /* Arrow on the left of the label */\n",
              "  content: \"▸\";\n",
              "  float: left;\n",
              "  margin-right: 0.25em;\n",
              "  color: var(--sklearn-color-icon);\n",
              "}\n",
              "\n",
              "#sk-container-id-1 label.sk-toggleable__label-arrow:hover:before {\n",
              "  color: var(--sklearn-color-text);\n",
              "}\n",
              "\n",
              "/* Toggleable content - dropdown */\n",
              "\n",
              "#sk-container-id-1 div.sk-toggleable__content {\n",
              "  max-height: 0;\n",
              "  max-width: 0;\n",
              "  overflow: hidden;\n",
              "  text-align: left;\n",
              "  /* unfitted */\n",
              "  background-color: var(--sklearn-color-unfitted-level-0);\n",
              "}\n",
              "\n",
              "#sk-container-id-1 div.sk-toggleable__content.fitted {\n",
              "  /* fitted */\n",
              "  background-color: var(--sklearn-color-fitted-level-0);\n",
              "}\n",
              "\n",
              "#sk-container-id-1 div.sk-toggleable__content pre {\n",
              "  margin: 0.2em;\n",
              "  border-radius: 0.25em;\n",
              "  color: var(--sklearn-color-text);\n",
              "  /* unfitted */\n",
              "  background-color: var(--sklearn-color-unfitted-level-0);\n",
              "}\n",
              "\n",
              "#sk-container-id-1 div.sk-toggleable__content.fitted pre {\n",
              "  /* unfitted */\n",
              "  background-color: var(--sklearn-color-fitted-level-0);\n",
              "}\n",
              "\n",
              "#sk-container-id-1 input.sk-toggleable__control:checked~div.sk-toggleable__content {\n",
              "  /* Expand drop-down */\n",
              "  max-height: 200px;\n",
              "  max-width: 100%;\n",
              "  overflow: auto;\n",
              "}\n",
              "\n",
              "#sk-container-id-1 input.sk-toggleable__control:checked~label.sk-toggleable__label-arrow:before {\n",
              "  content: \"▾\";\n",
              "}\n",
              "\n",
              "/* Pipeline/ColumnTransformer-specific style */\n",
              "\n",
              "#sk-container-id-1 div.sk-label input.sk-toggleable__control:checked~label.sk-toggleable__label {\n",
              "  color: var(--sklearn-color-text);\n",
              "  background-color: var(--sklearn-color-unfitted-level-2);\n",
              "}\n",
              "\n",
              "#sk-container-id-1 div.sk-label.fitted input.sk-toggleable__control:checked~label.sk-toggleable__label {\n",
              "  background-color: var(--sklearn-color-fitted-level-2);\n",
              "}\n",
              "\n",
              "/* Estimator-specific style */\n",
              "\n",
              "/* Colorize estimator box */\n",
              "#sk-container-id-1 div.sk-estimator input.sk-toggleable__control:checked~label.sk-toggleable__label {\n",
              "  /* unfitted */\n",
              "  background-color: var(--sklearn-color-unfitted-level-2);\n",
              "}\n",
              "\n",
              "#sk-container-id-1 div.sk-estimator.fitted input.sk-toggleable__control:checked~label.sk-toggleable__label {\n",
              "  /* fitted */\n",
              "  background-color: var(--sklearn-color-fitted-level-2);\n",
              "}\n",
              "\n",
              "#sk-container-id-1 div.sk-label label.sk-toggleable__label,\n",
              "#sk-container-id-1 div.sk-label label {\n",
              "  /* The background is the default theme color */\n",
              "  color: var(--sklearn-color-text-on-default-background);\n",
              "}\n",
              "\n",
              "/* On hover, darken the color of the background */\n",
              "#sk-container-id-1 div.sk-label:hover label.sk-toggleable__label {\n",
              "  color: var(--sklearn-color-text);\n",
              "  background-color: var(--sklearn-color-unfitted-level-2);\n",
              "}\n",
              "\n",
              "/* Label box, darken color on hover, fitted */\n",
              "#sk-container-id-1 div.sk-label.fitted:hover label.sk-toggleable__label.fitted {\n",
              "  color: var(--sklearn-color-text);\n",
              "  background-color: var(--sklearn-color-fitted-level-2);\n",
              "}\n",
              "\n",
              "/* Estimator label */\n",
              "\n",
              "#sk-container-id-1 div.sk-label label {\n",
              "  font-family: monospace;\n",
              "  font-weight: bold;\n",
              "  display: inline-block;\n",
              "  line-height: 1.2em;\n",
              "}\n",
              "\n",
              "#sk-container-id-1 div.sk-label-container {\n",
              "  text-align: center;\n",
              "}\n",
              "\n",
              "/* Estimator-specific */\n",
              "#sk-container-id-1 div.sk-estimator {\n",
              "  font-family: monospace;\n",
              "  border: 1px dotted var(--sklearn-color-border-box);\n",
              "  border-radius: 0.25em;\n",
              "  box-sizing: border-box;\n",
              "  margin-bottom: 0.5em;\n",
              "  /* unfitted */\n",
              "  background-color: var(--sklearn-color-unfitted-level-0);\n",
              "}\n",
              "\n",
              "#sk-container-id-1 div.sk-estimator.fitted {\n",
              "  /* fitted */\n",
              "  background-color: var(--sklearn-color-fitted-level-0);\n",
              "}\n",
              "\n",
              "/* on hover */\n",
              "#sk-container-id-1 div.sk-estimator:hover {\n",
              "  /* unfitted */\n",
              "  background-color: var(--sklearn-color-unfitted-level-2);\n",
              "}\n",
              "\n",
              "#sk-container-id-1 div.sk-estimator.fitted:hover {\n",
              "  /* fitted */\n",
              "  background-color: var(--sklearn-color-fitted-level-2);\n",
              "}\n",
              "\n",
              "/* Specification for estimator info (e.g. \"i\" and \"?\") */\n",
              "\n",
              "/* Common style for \"i\" and \"?\" */\n",
              "\n",
              ".sk-estimator-doc-link,\n",
              "a:link.sk-estimator-doc-link,\n",
              "a:visited.sk-estimator-doc-link {\n",
              "  float: right;\n",
              "  font-size: smaller;\n",
              "  line-height: 1em;\n",
              "  font-family: monospace;\n",
              "  background-color: var(--sklearn-color-background);\n",
              "  border-radius: 1em;\n",
              "  height: 1em;\n",
              "  width: 1em;\n",
              "  text-decoration: none !important;\n",
              "  margin-left: 0.5em;\n",
              "  text-align: center;\n",
              "  /* unfitted */\n",
              "  border: var(--sklearn-color-unfitted-level-1) 1pt solid;\n",
              "  color: var(--sklearn-color-unfitted-level-1);\n",
              "}\n",
              "\n",
              ".sk-estimator-doc-link.fitted,\n",
              "a:link.sk-estimator-doc-link.fitted,\n",
              "a:visited.sk-estimator-doc-link.fitted {\n",
              "  /* fitted */\n",
              "  border: var(--sklearn-color-fitted-level-1) 1pt solid;\n",
              "  color: var(--sklearn-color-fitted-level-1);\n",
              "}\n",
              "\n",
              "/* On hover */\n",
              "div.sk-estimator:hover .sk-estimator-doc-link:hover,\n",
              ".sk-estimator-doc-link:hover,\n",
              "div.sk-label-container:hover .sk-estimator-doc-link:hover,\n",
              ".sk-estimator-doc-link:hover {\n",
              "  /* unfitted */\n",
              "  background-color: var(--sklearn-color-unfitted-level-3);\n",
              "  color: var(--sklearn-color-background);\n",
              "  text-decoration: none;\n",
              "}\n",
              "\n",
              "div.sk-estimator.fitted:hover .sk-estimator-doc-link.fitted:hover,\n",
              ".sk-estimator-doc-link.fitted:hover,\n",
              "div.sk-label-container:hover .sk-estimator-doc-link.fitted:hover,\n",
              ".sk-estimator-doc-link.fitted:hover {\n",
              "  /* fitted */\n",
              "  background-color: var(--sklearn-color-fitted-level-3);\n",
              "  color: var(--sklearn-color-background);\n",
              "  text-decoration: none;\n",
              "}\n",
              "\n",
              "/* Span, style for the box shown on hovering the info icon */\n",
              ".sk-estimator-doc-link span {\n",
              "  display: none;\n",
              "  z-index: 9999;\n",
              "  position: relative;\n",
              "  font-weight: normal;\n",
              "  right: .2ex;\n",
              "  padding: .5ex;\n",
              "  margin: .5ex;\n",
              "  width: min-content;\n",
              "  min-width: 20ex;\n",
              "  max-width: 50ex;\n",
              "  color: var(--sklearn-color-text);\n",
              "  box-shadow: 2pt 2pt 4pt #999;\n",
              "  /* unfitted */\n",
              "  background: var(--sklearn-color-unfitted-level-0);\n",
              "  border: .5pt solid var(--sklearn-color-unfitted-level-3);\n",
              "}\n",
              "\n",
              ".sk-estimator-doc-link.fitted span {\n",
              "  /* fitted */\n",
              "  background: var(--sklearn-color-fitted-level-0);\n",
              "  border: var(--sklearn-color-fitted-level-3);\n",
              "}\n",
              "\n",
              ".sk-estimator-doc-link:hover span {\n",
              "  display: block;\n",
              "}\n",
              "\n",
              "/* \"?\"-specific style due to the `<a>` HTML tag */\n",
              "\n",
              "#sk-container-id-1 a.estimator_doc_link {\n",
              "  float: right;\n",
              "  font-size: 1rem;\n",
              "  line-height: 1em;\n",
              "  font-family: monospace;\n",
              "  background-color: var(--sklearn-color-background);\n",
              "  border-radius: 1rem;\n",
              "  height: 1rem;\n",
              "  width: 1rem;\n",
              "  text-decoration: none;\n",
              "  /* unfitted */\n",
              "  color: var(--sklearn-color-unfitted-level-1);\n",
              "  border: var(--sklearn-color-unfitted-level-1) 1pt solid;\n",
              "}\n",
              "\n",
              "#sk-container-id-1 a.estimator_doc_link.fitted {\n",
              "  /* fitted */\n",
              "  border: var(--sklearn-color-fitted-level-1) 1pt solid;\n",
              "  color: var(--sklearn-color-fitted-level-1);\n",
              "}\n",
              "\n",
              "/* On hover */\n",
              "#sk-container-id-1 a.estimator_doc_link:hover {\n",
              "  /* unfitted */\n",
              "  background-color: var(--sklearn-color-unfitted-level-3);\n",
              "  color: var(--sklearn-color-background);\n",
              "  text-decoration: none;\n",
              "}\n",
              "\n",
              "#sk-container-id-1 a.estimator_doc_link.fitted:hover {\n",
              "  /* fitted */\n",
              "  background-color: var(--sklearn-color-fitted-level-3);\n",
              "}\n",
              "</style><div id=\"sk-container-id-1\" class=\"sk-top-container\"><div class=\"sk-text-repr-fallback\"><pre>LGBMRegressor(learning_rate=0.01853368143584387, max_depth=6, metric=&#x27;rmse&#x27;,\n",
              "              min_child_samples=16, n_estimators=950, num_leaves=49,\n",
              "              objective=&#x27;regression&#x27;, verbose=-1)</pre><b>In a Jupyter environment, please rerun this cell to show the HTML representation or trust the notebook. <br />On GitHub, the HTML representation is unable to render, please try loading this page with nbviewer.org.</b></div><div class=\"sk-container\" hidden><div class=\"sk-item\"><div class=\"sk-estimator fitted sk-toggleable\"><input class=\"sk-toggleable__control sk-hidden--visually\" id=\"sk-estimator-id-1\" type=\"checkbox\" checked><label for=\"sk-estimator-id-1\" class=\"sk-toggleable__label fitted sk-toggleable__label-arrow\"><div><div>LGBMRegressor</div></div><div><span class=\"sk-estimator-doc-link fitted\">i<span>Fitted</span></span></div></label><div class=\"sk-toggleable__content fitted\"><pre>LGBMRegressor(learning_rate=0.01853368143584387, max_depth=6, metric=&#x27;rmse&#x27;,\n",
              "              min_child_samples=16, n_estimators=950, num_leaves=49,\n",
              "              objective=&#x27;regression&#x27;, verbose=-1)</pre></div> </div></div></div></div>"
            ],
            "text/plain": [
              "LGBMRegressor(learning_rate=0.01853368143584387, max_depth=6, metric='rmse',\n",
              "              min_child_samples=16, n_estimators=950, num_leaves=49,\n",
              "              objective='regression', verbose=-1)"
            ]
          },
          "execution_count": 197,
          "metadata": {},
          "output_type": "execute_result"
        }
      ],
      "source": [
        "from lightgbm import LGBMRegressor\n",
        "\n",
        "lgbm_clf_tuned = LGBMRegressor(**best_params_hyperopt2, objective='regression', metric='rmse', verbose=-1)\n",
        "lgbm_clf_tuned.fit(X_train_other, y_train)\n"
      ]
    },
    {
      "cell_type": "code",
      "execution_count": null,
      "id": "f257f512-2030-4698-8602-975acfddd1ba",
      "metadata": {
        "id": "f257f512-2030-4698-8602-975acfddd1ba",
        "outputId": "09c6c372-ce98-4978-e0c1-18df9ae57366"
      },
      "outputs": [
        {
          "data": {
            "text/plain": [
              "9996.0198624"
            ]
          },
          "execution_count": 198,
          "metadata": {},
          "output_type": "execute_result"
        }
      ],
      "source": [
        "mean_squared_error(y_test,  lgbm_clf_tuned.predict(X_test_other))"
      ]
    },
    {
      "cell_type": "markdown",
      "id": "fda74f7b-246a-4005-89f0-908c88a6084c",
      "metadata": {
        "id": "fda74f7b-246a-4005-89f0-908c88a6084c",
        "jp-MarkdownHeadingCollapsed": true
      },
      "source": [
        "## XGBRegressor"
      ]
    },
    {
      "cell_type": "code",
      "execution_count": null,
      "id": "254af5c4-bf0b-4341-a5a1-83f1b54d69c5",
      "metadata": {
        "id": "254af5c4-bf0b-4341-a5a1-83f1b54d69c5",
        "outputId": "41122827-d8c7-4e39-b74f-66e421894a39"
      },
      "outputs": [
        {
          "name": "stdout",
          "output_type": "stream",
          "text": [
            "\n",
            "Запуск Hyperopt для XGBoost...\n"
          ]
        },
        {
          "name": "stderr",
          "output_type": "stream",
          "text": [
            "Hyperopt: 100%|████████████████████████████████████████████████████████████████████████| 30/30 [01:29<00:00,  2.99s/it]\n"
          ]
        },
        {
          "name": "stdout",
          "output_type": "stream",
          "text": [
            "\n",
            "Hyperopt завершен за 89.77 секунд\n",
            "Лучшие параметры: {'colsample_bytree': 0.842985430871844, 'learning_rate': 0.02904766504941679, 'max_depth': 5, 'min_child_weight': 4, 'n_estimators': 650, 'subsample': 0.5629115003441212}\n",
            "Лучший CV MSE: 10023.3516\n",
            "MSE на тестовых данных: 10023.3516\n"
          ]
        }
      ],
      "source": [
        "import time\n",
        "import numpy as np\n",
        "from hyperopt import hp, fmin, tpe, STATUS_OK, Trials\n",
        "from tqdm import tqdm\n",
        "from xgboost import XGBRegressor\n",
        "from sklearn.model_selection import cross_val_score\n",
        "from sklearn.metrics import mean_squared_error\n",
        "\n",
        "print(\"\\nЗапуск Hyperopt для XGBoost...\")\n",
        "start_time_hyperopt = time.time()\n",
        "\n",
        "# Допустим, у нас уже есть:\n",
        "# X_train, y_train, X_test, y_test — обучающие и тестовые выборки.\n",
        "\n",
        "# Пространство гиперпараметров для XGBRegressor\n",
        "space = {\n",
        "    'n_estimators': hp.quniform('n_estimators', 200, 1000, 50),\n",
        "    'learning_rate': hp.uniform('learning_rate', 0.01, 0.5),\n",
        "    'max_depth': hp.quniform('max_depth', 2, 6, 1),\n",
        "    'min_child_weight': hp.quniform('min_child_weight', 1, 10, 1),\n",
        "    'subsample': hp.uniform('subsample', 0.5, 1.0),\n",
        "    'colsample_bytree': hp.uniform('colsample_bytree', 0.5, 1.0),\n",
        "    # при необходимости можно добавить 'gamma', 'reg_alpha', 'reg_lambda' и т.д.\n",
        "}\n",
        "\n",
        "# Целевая функция для Hyperopt\n",
        "def objective(params):\n",
        "    # Округляем некоторые параметры, которые должны быть целыми\n",
        "    params['n_estimators'] = int(params['n_estimators'])\n",
        "    params['max_depth'] = int(params['max_depth'])\n",
        "    params['min_child_weight'] = int(params['min_child_weight'])\n",
        "\n",
        "    # Создаем XGBRegressor\n",
        "    model = XGBRegressor(\n",
        "        **params,\n",
        "        # Параметры, улучшающие вывод/обучение\n",
        "        verbosity=0,\n",
        "        use_label_encoder=False,\n",
        "        objective='reg:squarederror'  # регрессия по умолчанию (MSE)\n",
        "    )\n",
        "\n",
        "    # Кросс-валидация (MSE со знаком минус)\n",
        "    scores = cross_val_score(\n",
        "        model,\n",
        "        X_train_other,\n",
        "        y_train,\n",
        "        cv=5,\n",
        "        scoring='neg_mean_squared_error',\n",
        "        n_jobs=-1\n",
        "    )\n",
        "\n",
        "    # Превращаем в положительный MSE\n",
        "    mse_mean = -np.mean(scores)\n",
        "\n",
        "    # Обновляем прогресс-бар\n",
        "    hyperopt_pbar.update(1)\n",
        "\n",
        "    # Возвращаем MSE, которое Hyperopt будет минимизировать\n",
        "    return {'loss': mse_mean, 'status': STATUS_OK, 'params': params}\n",
        "\n",
        "# Запускаем Hyperopt\n",
        "n_iter_hyperopt = 30\n",
        "hyperopt_pbar = tqdm(total=n_iter_hyperopt, desc=\"Hyperopt\")\n",
        "\n",
        "trials = Trials()\n",
        "best_hyperopt = fmin(\n",
        "    fn=objective,\n",
        "    space=space,\n",
        "    algo=tpe.suggest,\n",
        "    max_evals=n_iter_hyperopt,\n",
        "    trials=trials,\n",
        "    verbose=0\n",
        ")\n",
        "\n",
        "hyperopt_pbar.close()\n",
        "\n",
        "# Находим индекс лучшего результата\n",
        "best_trial_idx = np.argmin([t['result']['loss'] for t in trials.trials])\n",
        "best_params_hyperopt3 = trials.trials[best_trial_idx]['result']['params']\n",
        "\n",
        "# Лучшее значение MSE (минимальное) по кросс-валидации\n",
        "best_score_hyperopt = min([t['result']['loss'] for t in trials.trials])\n",
        "time_hyperopt = time.time() - start_time_hyperopt\n",
        "\n",
        "# Обучаем финальную модель на всей обучающей выборке\n",
        "best_model_hyperopt = XGBRegressor(\n",
        "    **best_params_hyperopt3,\n",
        "    verbosity=0,\n",
        "    use_label_encoder=False,\n",
        "    objective='reg:squarederror'\n",
        ")\n",
        "best_model_hyperopt.fit(X_train_other, y_train)\n",
        "\n",
        "# Предсказания на тесте и вычисление MSE\n",
        "y_test_pred_hyperopt = best_model_hyperopt.predict(X_test_other)\n",
        "mse_test = mean_squared_error(y_test, y_test_pred_hyperopt)\n",
        "\n",
        "print(f\"\\nHyperopt завершен за {time_hyperopt:.2f} секунд\")\n",
        "print(f\"Лучшие параметры: {best_params_hyperopt3}\")\n",
        "print(f\"Лучший CV MSE: {mse_test:.4f}\")\n",
        "print(f\"MSE на тестовых данных: {mse_test:.4f}\")\n"
      ]
    },
    {
      "cell_type": "code",
      "execution_count": null,
      "id": "3d981484-a845-47ed-abe1-26492d31b560",
      "metadata": {
        "id": "3d981484-a845-47ed-abe1-26492d31b560",
        "outputId": "5c7b9b68-55a6-46e2-968e-b421e4e6020b"
      },
      "outputs": [
        {
          "data": {
            "text/html": [
              "<style>#sk-container-id-2 {\n",
              "  /* Definition of color scheme common for light and dark mode */\n",
              "  --sklearn-color-text: #000;\n",
              "  --sklearn-color-text-muted: #666;\n",
              "  --sklearn-color-line: gray;\n",
              "  /* Definition of color scheme for unfitted estimators */\n",
              "  --sklearn-color-unfitted-level-0: #fff5e6;\n",
              "  --sklearn-color-unfitted-level-1: #f6e4d2;\n",
              "  --sklearn-color-unfitted-level-2: #ffe0b3;\n",
              "  --sklearn-color-unfitted-level-3: chocolate;\n",
              "  /* Definition of color scheme for fitted estimators */\n",
              "  --sklearn-color-fitted-level-0: #f0f8ff;\n",
              "  --sklearn-color-fitted-level-1: #d4ebff;\n",
              "  --sklearn-color-fitted-level-2: #b3dbfd;\n",
              "  --sklearn-color-fitted-level-3: cornflowerblue;\n",
              "\n",
              "  /* Specific color for light theme */\n",
              "  --sklearn-color-text-on-default-background: var(--sg-text-color, var(--theme-code-foreground, var(--jp-content-font-color1, black)));\n",
              "  --sklearn-color-background: var(--sg-background-color, var(--theme-background, var(--jp-layout-color0, white)));\n",
              "  --sklearn-color-border-box: var(--sg-text-color, var(--theme-code-foreground, var(--jp-content-font-color1, black)));\n",
              "  --sklearn-color-icon: #696969;\n",
              "\n",
              "  @media (prefers-color-scheme: dark) {\n",
              "    /* Redefinition of color scheme for dark theme */\n",
              "    --sklearn-color-text-on-default-background: var(--sg-text-color, var(--theme-code-foreground, var(--jp-content-font-color1, white)));\n",
              "    --sklearn-color-background: var(--sg-background-color, var(--theme-background, var(--jp-layout-color0, #111)));\n",
              "    --sklearn-color-border-box: var(--sg-text-color, var(--theme-code-foreground, var(--jp-content-font-color1, white)));\n",
              "    --sklearn-color-icon: #878787;\n",
              "  }\n",
              "}\n",
              "\n",
              "#sk-container-id-2 {\n",
              "  color: var(--sklearn-color-text);\n",
              "}\n",
              "\n",
              "#sk-container-id-2 pre {\n",
              "  padding: 0;\n",
              "}\n",
              "\n",
              "#sk-container-id-2 input.sk-hidden--visually {\n",
              "  border: 0;\n",
              "  clip: rect(1px 1px 1px 1px);\n",
              "  clip: rect(1px, 1px, 1px, 1px);\n",
              "  height: 1px;\n",
              "  margin: -1px;\n",
              "  overflow: hidden;\n",
              "  padding: 0;\n",
              "  position: absolute;\n",
              "  width: 1px;\n",
              "}\n",
              "\n",
              "#sk-container-id-2 div.sk-dashed-wrapped {\n",
              "  border: 1px dashed var(--sklearn-color-line);\n",
              "  margin: 0 0.4em 0.5em 0.4em;\n",
              "  box-sizing: border-box;\n",
              "  padding-bottom: 0.4em;\n",
              "  background-color: var(--sklearn-color-background);\n",
              "}\n",
              "\n",
              "#sk-container-id-2 div.sk-container {\n",
              "  /* jupyter's `normalize.less` sets `[hidden] { display: none; }`\n",
              "     but bootstrap.min.css set `[hidden] { display: none !important; }`\n",
              "     so we also need the `!important` here to be able to override the\n",
              "     default hidden behavior on the sphinx rendered scikit-learn.org.\n",
              "     See: https://github.com/scikit-learn/scikit-learn/issues/21755 */\n",
              "  display: inline-block !important;\n",
              "  position: relative;\n",
              "}\n",
              "\n",
              "#sk-container-id-2 div.sk-text-repr-fallback {\n",
              "  display: none;\n",
              "}\n",
              "\n",
              "div.sk-parallel-item,\n",
              "div.sk-serial,\n",
              "div.sk-item {\n",
              "  /* draw centered vertical line to link estimators */\n",
              "  background-image: linear-gradient(var(--sklearn-color-text-on-default-background), var(--sklearn-color-text-on-default-background));\n",
              "  background-size: 2px 100%;\n",
              "  background-repeat: no-repeat;\n",
              "  background-position: center center;\n",
              "}\n",
              "\n",
              "/* Parallel-specific style estimator block */\n",
              "\n",
              "#sk-container-id-2 div.sk-parallel-item::after {\n",
              "  content: \"\";\n",
              "  width: 100%;\n",
              "  border-bottom: 2px solid var(--sklearn-color-text-on-default-background);\n",
              "  flex-grow: 1;\n",
              "}\n",
              "\n",
              "#sk-container-id-2 div.sk-parallel {\n",
              "  display: flex;\n",
              "  align-items: stretch;\n",
              "  justify-content: center;\n",
              "  background-color: var(--sklearn-color-background);\n",
              "  position: relative;\n",
              "}\n",
              "\n",
              "#sk-container-id-2 div.sk-parallel-item {\n",
              "  display: flex;\n",
              "  flex-direction: column;\n",
              "}\n",
              "\n",
              "#sk-container-id-2 div.sk-parallel-item:first-child::after {\n",
              "  align-self: flex-end;\n",
              "  width: 50%;\n",
              "}\n",
              "\n",
              "#sk-container-id-2 div.sk-parallel-item:last-child::after {\n",
              "  align-self: flex-start;\n",
              "  width: 50%;\n",
              "}\n",
              "\n",
              "#sk-container-id-2 div.sk-parallel-item:only-child::after {\n",
              "  width: 0;\n",
              "}\n",
              "\n",
              "/* Serial-specific style estimator block */\n",
              "\n",
              "#sk-container-id-2 div.sk-serial {\n",
              "  display: flex;\n",
              "  flex-direction: column;\n",
              "  align-items: center;\n",
              "  background-color: var(--sklearn-color-background);\n",
              "  padding-right: 1em;\n",
              "  padding-left: 1em;\n",
              "}\n",
              "\n",
              "\n",
              "/* Toggleable style: style used for estimator/Pipeline/ColumnTransformer box that is\n",
              "clickable and can be expanded/collapsed.\n",
              "- Pipeline and ColumnTransformer use this feature and define the default style\n",
              "- Estimators will overwrite some part of the style using the `sk-estimator` class\n",
              "*/\n",
              "\n",
              "/* Pipeline and ColumnTransformer style (default) */\n",
              "\n",
              "#sk-container-id-2 div.sk-toggleable {\n",
              "  /* Default theme specific background. It is overwritten whether we have a\n",
              "  specific estimator or a Pipeline/ColumnTransformer */\n",
              "  background-color: var(--sklearn-color-background);\n",
              "}\n",
              "\n",
              "/* Toggleable label */\n",
              "#sk-container-id-2 label.sk-toggleable__label {\n",
              "  cursor: pointer;\n",
              "  display: flex;\n",
              "  width: 100%;\n",
              "  margin-bottom: 0;\n",
              "  padding: 0.5em;\n",
              "  box-sizing: border-box;\n",
              "  text-align: center;\n",
              "  align-items: start;\n",
              "  justify-content: space-between;\n",
              "  gap: 0.5em;\n",
              "}\n",
              "\n",
              "#sk-container-id-2 label.sk-toggleable__label .caption {\n",
              "  font-size: 0.6rem;\n",
              "  font-weight: lighter;\n",
              "  color: var(--sklearn-color-text-muted);\n",
              "}\n",
              "\n",
              "#sk-container-id-2 label.sk-toggleable__label-arrow:before {\n",
              "  /* Arrow on the left of the label */\n",
              "  content: \"▸\";\n",
              "  float: left;\n",
              "  margin-right: 0.25em;\n",
              "  color: var(--sklearn-color-icon);\n",
              "}\n",
              "\n",
              "#sk-container-id-2 label.sk-toggleable__label-arrow:hover:before {\n",
              "  color: var(--sklearn-color-text);\n",
              "}\n",
              "\n",
              "/* Toggleable content - dropdown */\n",
              "\n",
              "#sk-container-id-2 div.sk-toggleable__content {\n",
              "  max-height: 0;\n",
              "  max-width: 0;\n",
              "  overflow: hidden;\n",
              "  text-align: left;\n",
              "  /* unfitted */\n",
              "  background-color: var(--sklearn-color-unfitted-level-0);\n",
              "}\n",
              "\n",
              "#sk-container-id-2 div.sk-toggleable__content.fitted {\n",
              "  /* fitted */\n",
              "  background-color: var(--sklearn-color-fitted-level-0);\n",
              "}\n",
              "\n",
              "#sk-container-id-2 div.sk-toggleable__content pre {\n",
              "  margin: 0.2em;\n",
              "  border-radius: 0.25em;\n",
              "  color: var(--sklearn-color-text);\n",
              "  /* unfitted */\n",
              "  background-color: var(--sklearn-color-unfitted-level-0);\n",
              "}\n",
              "\n",
              "#sk-container-id-2 div.sk-toggleable__content.fitted pre {\n",
              "  /* unfitted */\n",
              "  background-color: var(--sklearn-color-fitted-level-0);\n",
              "}\n",
              "\n",
              "#sk-container-id-2 input.sk-toggleable__control:checked~div.sk-toggleable__content {\n",
              "  /* Expand drop-down */\n",
              "  max-height: 200px;\n",
              "  max-width: 100%;\n",
              "  overflow: auto;\n",
              "}\n",
              "\n",
              "#sk-container-id-2 input.sk-toggleable__control:checked~label.sk-toggleable__label-arrow:before {\n",
              "  content: \"▾\";\n",
              "}\n",
              "\n",
              "/* Pipeline/ColumnTransformer-specific style */\n",
              "\n",
              "#sk-container-id-2 div.sk-label input.sk-toggleable__control:checked~label.sk-toggleable__label {\n",
              "  color: var(--sklearn-color-text);\n",
              "  background-color: var(--sklearn-color-unfitted-level-2);\n",
              "}\n",
              "\n",
              "#sk-container-id-2 div.sk-label.fitted input.sk-toggleable__control:checked~label.sk-toggleable__label {\n",
              "  background-color: var(--sklearn-color-fitted-level-2);\n",
              "}\n",
              "\n",
              "/* Estimator-specific style */\n",
              "\n",
              "/* Colorize estimator box */\n",
              "#sk-container-id-2 div.sk-estimator input.sk-toggleable__control:checked~label.sk-toggleable__label {\n",
              "  /* unfitted */\n",
              "  background-color: var(--sklearn-color-unfitted-level-2);\n",
              "}\n",
              "\n",
              "#sk-container-id-2 div.sk-estimator.fitted input.sk-toggleable__control:checked~label.sk-toggleable__label {\n",
              "  /* fitted */\n",
              "  background-color: var(--sklearn-color-fitted-level-2);\n",
              "}\n",
              "\n",
              "#sk-container-id-2 div.sk-label label.sk-toggleable__label,\n",
              "#sk-container-id-2 div.sk-label label {\n",
              "  /* The background is the default theme color */\n",
              "  color: var(--sklearn-color-text-on-default-background);\n",
              "}\n",
              "\n",
              "/* On hover, darken the color of the background */\n",
              "#sk-container-id-2 div.sk-label:hover label.sk-toggleable__label {\n",
              "  color: var(--sklearn-color-text);\n",
              "  background-color: var(--sklearn-color-unfitted-level-2);\n",
              "}\n",
              "\n",
              "/* Label box, darken color on hover, fitted */\n",
              "#sk-container-id-2 div.sk-label.fitted:hover label.sk-toggleable__label.fitted {\n",
              "  color: var(--sklearn-color-text);\n",
              "  background-color: var(--sklearn-color-fitted-level-2);\n",
              "}\n",
              "\n",
              "/* Estimator label */\n",
              "\n",
              "#sk-container-id-2 div.sk-label label {\n",
              "  font-family: monospace;\n",
              "  font-weight: bold;\n",
              "  display: inline-block;\n",
              "  line-height: 1.2em;\n",
              "}\n",
              "\n",
              "#sk-container-id-2 div.sk-label-container {\n",
              "  text-align: center;\n",
              "}\n",
              "\n",
              "/* Estimator-specific */\n",
              "#sk-container-id-2 div.sk-estimator {\n",
              "  font-family: monospace;\n",
              "  border: 1px dotted var(--sklearn-color-border-box);\n",
              "  border-radius: 0.25em;\n",
              "  box-sizing: border-box;\n",
              "  margin-bottom: 0.5em;\n",
              "  /* unfitted */\n",
              "  background-color: var(--sklearn-color-unfitted-level-0);\n",
              "}\n",
              "\n",
              "#sk-container-id-2 div.sk-estimator.fitted {\n",
              "  /* fitted */\n",
              "  background-color: var(--sklearn-color-fitted-level-0);\n",
              "}\n",
              "\n",
              "/* on hover */\n",
              "#sk-container-id-2 div.sk-estimator:hover {\n",
              "  /* unfitted */\n",
              "  background-color: var(--sklearn-color-unfitted-level-2);\n",
              "}\n",
              "\n",
              "#sk-container-id-2 div.sk-estimator.fitted:hover {\n",
              "  /* fitted */\n",
              "  background-color: var(--sklearn-color-fitted-level-2);\n",
              "}\n",
              "\n",
              "/* Specification for estimator info (e.g. \"i\" and \"?\") */\n",
              "\n",
              "/* Common style for \"i\" and \"?\" */\n",
              "\n",
              ".sk-estimator-doc-link,\n",
              "a:link.sk-estimator-doc-link,\n",
              "a:visited.sk-estimator-doc-link {\n",
              "  float: right;\n",
              "  font-size: smaller;\n",
              "  line-height: 1em;\n",
              "  font-family: monospace;\n",
              "  background-color: var(--sklearn-color-background);\n",
              "  border-radius: 1em;\n",
              "  height: 1em;\n",
              "  width: 1em;\n",
              "  text-decoration: none !important;\n",
              "  margin-left: 0.5em;\n",
              "  text-align: center;\n",
              "  /* unfitted */\n",
              "  border: var(--sklearn-color-unfitted-level-1) 1pt solid;\n",
              "  color: var(--sklearn-color-unfitted-level-1);\n",
              "}\n",
              "\n",
              ".sk-estimator-doc-link.fitted,\n",
              "a:link.sk-estimator-doc-link.fitted,\n",
              "a:visited.sk-estimator-doc-link.fitted {\n",
              "  /* fitted */\n",
              "  border: var(--sklearn-color-fitted-level-1) 1pt solid;\n",
              "  color: var(--sklearn-color-fitted-level-1);\n",
              "}\n",
              "\n",
              "/* On hover */\n",
              "div.sk-estimator:hover .sk-estimator-doc-link:hover,\n",
              ".sk-estimator-doc-link:hover,\n",
              "div.sk-label-container:hover .sk-estimator-doc-link:hover,\n",
              ".sk-estimator-doc-link:hover {\n",
              "  /* unfitted */\n",
              "  background-color: var(--sklearn-color-unfitted-level-3);\n",
              "  color: var(--sklearn-color-background);\n",
              "  text-decoration: none;\n",
              "}\n",
              "\n",
              "div.sk-estimator.fitted:hover .sk-estimator-doc-link.fitted:hover,\n",
              ".sk-estimator-doc-link.fitted:hover,\n",
              "div.sk-label-container:hover .sk-estimator-doc-link.fitted:hover,\n",
              ".sk-estimator-doc-link.fitted:hover {\n",
              "  /* fitted */\n",
              "  background-color: var(--sklearn-color-fitted-level-3);\n",
              "  color: var(--sklearn-color-background);\n",
              "  text-decoration: none;\n",
              "}\n",
              "\n",
              "/* Span, style for the box shown on hovering the info icon */\n",
              ".sk-estimator-doc-link span {\n",
              "  display: none;\n",
              "  z-index: 9999;\n",
              "  position: relative;\n",
              "  font-weight: normal;\n",
              "  right: .2ex;\n",
              "  padding: .5ex;\n",
              "  margin: .5ex;\n",
              "  width: min-content;\n",
              "  min-width: 20ex;\n",
              "  max-width: 50ex;\n",
              "  color: var(--sklearn-color-text);\n",
              "  box-shadow: 2pt 2pt 4pt #999;\n",
              "  /* unfitted */\n",
              "  background: var(--sklearn-color-unfitted-level-0);\n",
              "  border: .5pt solid var(--sklearn-color-unfitted-level-3);\n",
              "}\n",
              "\n",
              ".sk-estimator-doc-link.fitted span {\n",
              "  /* fitted */\n",
              "  background: var(--sklearn-color-fitted-level-0);\n",
              "  border: var(--sklearn-color-fitted-level-3);\n",
              "}\n",
              "\n",
              ".sk-estimator-doc-link:hover span {\n",
              "  display: block;\n",
              "}\n",
              "\n",
              "/* \"?\"-specific style due to the `<a>` HTML tag */\n",
              "\n",
              "#sk-container-id-2 a.estimator_doc_link {\n",
              "  float: right;\n",
              "  font-size: 1rem;\n",
              "  line-height: 1em;\n",
              "  font-family: monospace;\n",
              "  background-color: var(--sklearn-color-background);\n",
              "  border-radius: 1rem;\n",
              "  height: 1rem;\n",
              "  width: 1rem;\n",
              "  text-decoration: none;\n",
              "  /* unfitted */\n",
              "  color: var(--sklearn-color-unfitted-level-1);\n",
              "  border: var(--sklearn-color-unfitted-level-1) 1pt solid;\n",
              "}\n",
              "\n",
              "#sk-container-id-2 a.estimator_doc_link.fitted {\n",
              "  /* fitted */\n",
              "  border: var(--sklearn-color-fitted-level-1) 1pt solid;\n",
              "  color: var(--sklearn-color-fitted-level-1);\n",
              "}\n",
              "\n",
              "/* On hover */\n",
              "#sk-container-id-2 a.estimator_doc_link:hover {\n",
              "  /* unfitted */\n",
              "  background-color: var(--sklearn-color-unfitted-level-3);\n",
              "  color: var(--sklearn-color-background);\n",
              "  text-decoration: none;\n",
              "}\n",
              "\n",
              "#sk-container-id-2 a.estimator_doc_link.fitted:hover {\n",
              "  /* fitted */\n",
              "  background-color: var(--sklearn-color-fitted-level-3);\n",
              "}\n",
              "</style><div id=\"sk-container-id-2\" class=\"sk-top-container\"><div class=\"sk-text-repr-fallback\"><pre>XGBRegressor(base_score=None, booster=None, callbacks=None,\n",
              "             colsample_bylevel=None, colsample_bynode=None,\n",
              "             colsample_bytree=0.842985430871844, device=None,\n",
              "             early_stopping_rounds=None, enable_categorical=False,\n",
              "             eval_metric=&#x27;rmse&#x27;, feature_types=None, gamma=None,\n",
              "             grow_policy=None, importance_type=None,\n",
              "             interaction_constraints=None, learning_rate=0.02904766504941679,\n",
              "             max_bin=None, max_cat_threshold=None, max_cat_to_onehot=None,\n",
              "             max_delta_step=None, max_depth=5, max_leaves=None,\n",
              "             min_child_weight=4, missing=nan, monotone_constraints=None,\n",
              "             multi_strategy=None, n_estimators=650, n_jobs=None,\n",
              "             num_parallel_tree=None, random_state=None, ...)</pre><b>In a Jupyter environment, please rerun this cell to show the HTML representation or trust the notebook. <br />On GitHub, the HTML representation is unable to render, please try loading this page with nbviewer.org.</b></div><div class=\"sk-container\" hidden><div class=\"sk-item\"><div class=\"sk-estimator fitted sk-toggleable\"><input class=\"sk-toggleable__control sk-hidden--visually\" id=\"sk-estimator-id-2\" type=\"checkbox\" checked><label for=\"sk-estimator-id-2\" class=\"sk-toggleable__label fitted sk-toggleable__label-arrow\"><div><div>XGBRegressor</div></div><div><span class=\"sk-estimator-doc-link fitted\">i<span>Fitted</span></span></div></label><div class=\"sk-toggleable__content fitted\"><pre>XGBRegressor(base_score=None, booster=None, callbacks=None,\n",
              "             colsample_bylevel=None, colsample_bynode=None,\n",
              "             colsample_bytree=0.842985430871844, device=None,\n",
              "             early_stopping_rounds=None, enable_categorical=False,\n",
              "             eval_metric=&#x27;rmse&#x27;, feature_types=None, gamma=None,\n",
              "             grow_policy=None, importance_type=None,\n",
              "             interaction_constraints=None, learning_rate=0.02904766504941679,\n",
              "             max_bin=None, max_cat_threshold=None, max_cat_to_onehot=None,\n",
              "             max_delta_step=None, max_depth=5, max_leaves=None,\n",
              "             min_child_weight=4, missing=nan, monotone_constraints=None,\n",
              "             multi_strategy=None, n_estimators=650, n_jobs=None,\n",
              "             num_parallel_tree=None, random_state=None, ...)</pre></div> </div></div></div></div>"
            ],
            "text/plain": [
              "XGBRegressor(base_score=None, booster=None, callbacks=None,\n",
              "             colsample_bylevel=None, colsample_bynode=None,\n",
              "             colsample_bytree=0.842985430871844, device=None,\n",
              "             early_stopping_rounds=None, enable_categorical=False,\n",
              "             eval_metric='rmse', feature_types=None, gamma=None,\n",
              "             grow_policy=None, importance_type=None,\n",
              "             interaction_constraints=None, learning_rate=0.02904766504941679,\n",
              "             max_bin=None, max_cat_threshold=None, max_cat_to_onehot=None,\n",
              "             max_delta_step=None, max_depth=5, max_leaves=None,\n",
              "             min_child_weight=4, missing=nan, monotone_constraints=None,\n",
              "             multi_strategy=None, n_estimators=650, n_jobs=None,\n",
              "             num_parallel_tree=None, random_state=None, ...)"
            ]
          },
          "execution_count": 201,
          "metadata": {},
          "output_type": "execute_result"
        }
      ],
      "source": [
        "from xgboost import XGBRegressor\n",
        "\n",
        "xgb_clf_tuned = XGBRegressor(**best_params_hyperopt3, eval_metric='rmse', verbosity=0)\n",
        "xgb_clf_tuned.fit(X_train_other, y_train)\n"
      ]
    },
    {
      "cell_type": "code",
      "execution_count": null,
      "id": "a0fbb616-e48a-4346-a1bf-1deacb8339b1",
      "metadata": {
        "id": "a0fbb616-e48a-4346-a1bf-1deacb8339b1",
        "outputId": "2db8c2c5-cfef-40b8-9e83-94df2dcf2ccb"
      },
      "outputs": [
        {
          "data": {
            "text/plain": [
              "10023.3515625"
            ]
          },
          "execution_count": 202,
          "metadata": {},
          "output_type": "execute_result"
        }
      ],
      "source": [
        "mean_squared_error(y_test,  xgb_clf_tuned.predict(X_test_other))"
      ]
    },
    {
      "cell_type": "markdown",
      "id": "2b110289-e23c-4501-a20d-64b026991ec0",
      "metadata": {
        "id": "2b110289-e23c-4501-a20d-64b026991ec0"
      },
      "source": [
        "## Ещё несколько моделей первого уровня"
      ]
    },
    {
      "cell_type": "code",
      "execution_count": null,
      "id": "8eab5c81-05c0-459d-a10b-0d4837bcdb7d",
      "metadata": {
        "id": "8eab5c81-05c0-459d-a10b-0d4837bcdb7d"
      },
      "outputs": [],
      "source": [
        "from sklearn.ensemble import ExtraTreesRegressor\n"
      ]
    },
    {
      "cell_type": "code",
      "execution_count": null,
      "id": "d05e894c-e745-4f53-9bea-420b47469921",
      "metadata": {
        "id": "d05e894c-e745-4f53-9bea-420b47469921"
      },
      "outputs": [],
      "source": [
        "models_many = [Ridge(), Lasso(), RandomForestRegressor(max_depth=6), GradientBoostingRegressor(), ExtraTreesRegressor(max_depth=6)]"
      ]
    },
    {
      "cell_type": "code",
      "execution_count": null,
      "id": "608f3c01-6da4-4e4c-bcbd-8f573f95ac0f",
      "metadata": {
        "id": "608f3c01-6da4-4e4c-bcbd-8f573f95ac0f",
        "outputId": "d009b2ae-a15c-4bb4-c007-ba3f465cf29a"
      },
      "outputs": [
        {
          "name": "stdout",
          "output_type": "stream",
          "text": [
            "0\n",
            "13332.646410141479\n",
            "1\n",
            "13414.73601041049\n",
            "2\n",
            "11054.276096748988\n",
            "3\n",
            "10640.247002850887\n",
            "4\n",
            "12152.223460799358\n"
          ]
        }
      ],
      "source": [
        "i = 0\n",
        "arr_i = []\n",
        "preds = []\n",
        "for model_zero in models_many:\n",
        "    print(i)\n",
        "    model_zero.fit(X_train_other, y_train)\n",
        "    print(mean_squared_error(y_test, model_zero.predict(X_test_other)))\n",
        "    preds.append(mean_squared_error(y_test, model_zero.predict(X_test_other)))\n",
        "    i+=1"
      ]
    },
    {
      "cell_type": "code",
      "execution_count": null,
      "id": "a9021d2e-4b69-40c1-b925-a9a2dc1c54c6",
      "metadata": {
        "id": "a9021d2e-4b69-40c1-b925-a9a2dc1c54c6"
      },
      "outputs": [],
      "source": [
        "base_models = [cat_clf_tuned, lgbm_clf_tuned, xgb_clf_tuned]\n"
      ]
    },
    {
      "cell_type": "code",
      "execution_count": null,
      "id": "dc93ce21-2867-42d9-9eed-ef56a8a67b97",
      "metadata": {
        "id": "dc93ce21-2867-42d9-9eed-ef56a8a67b97"
      },
      "outputs": [],
      "source": [
        "for model_zero in models_many:\n",
        "    base_models.append(model_zero)"
      ]
    },
    {
      "cell_type": "markdown",
      "id": "8b4932b9-14ea-4678-96de-2ab2ed92e4ce",
      "metadata": {
        "id": "8b4932b9-14ea-4678-96de-2ab2ed92e4ce"
      },
      "source": [
        "## Обучение ансамбля"
      ]
    },
    {
      "cell_type": "code",
      "execution_count": null,
      "id": "caf7d4c4-63e3-4f66-a45d-df1a29033930",
      "metadata": {
        "id": "caf7d4c4-63e3-4f66-a45d-df1a29033930",
        "outputId": "44fd07e4-968b-4a7a-d3a5-3dcbd63a65ca"
      },
      "outputs": [
        {
          "name": "stdout",
          "output_type": "stream",
          "text": [
            "0\n",
            "1\n",
            "2\n",
            "3\n",
            "4\n",
            "5\n",
            "6\n",
            "7\n"
          ]
        }
      ],
      "source": [
        "preds_val = []\n",
        "preds_test = []\n",
        "preds_main_test = []\n",
        "\n",
        "for i in range(len(base_models)):\n",
        "    print(i)\n",
        "    try:\n",
        "        if i==0:\n",
        "            preds_val.append(base_models[i].predict(X_val_cat).reshape(-1,1))\n",
        "            preds_test.append(base_models[i].predict(X_test_cat).reshape(-1,1))\n",
        "            preds_main_test.append(base_models[i].predict(main_test_cat).reshape(-1,1))\n",
        "        else:\n",
        "            preds_val.append(base_models[i].predict(X_val_other).reshape(-1,1))\n",
        "            preds_test.append(base_models[i].predict(X_test_other).reshape(-1,1))\n",
        "            preds_main_test.append(base_models[i].predict(main_test_other).reshape(-1,1))\n",
        "    except AttributeError:\n",
        "        continue"
      ]
    },
    {
      "cell_type": "code",
      "execution_count": null,
      "id": "597a4668-ff52-4738-a7c7-f5d46795b461",
      "metadata": {
        "id": "597a4668-ff52-4738-a7c7-f5d46795b461"
      },
      "outputs": [],
      "source": [
        "stacked_preds_val = np.hstack(preds_val)\n",
        "stacked_preds_test = np.hstack(preds_test)\n",
        "stacked_preds_main_test = np.hstack(preds_main_test)"
      ]
    },
    {
      "cell_type": "code",
      "execution_count": null,
      "id": "9512b09a-7344-4f5c-aa1c-d08669fb4246",
      "metadata": {
        "id": "9512b09a-7344-4f5c-aa1c-d08669fb4246"
      },
      "outputs": [],
      "source": [
        "from sklearn.linear_model import Ridge\n",
        "from sklearn.ensemble import RandomForestRegressor\n",
        "from sklearn.linear_model import Lasso\n",
        "from sklearn.ensemble import GradientBoostingRegressor\n"
      ]
    },
    {
      "cell_type": "code",
      "execution_count": null,
      "id": "2ec34983-15d1-4c89-b5ff-cf5d70613657",
      "metadata": {
        "id": "2ec34983-15d1-4c89-b5ff-cf5d70613657",
        "outputId": "50b4f649-5198-403b-83d6-6144e087bcae"
      },
      "outputs": [
        {
          "name": "stdout",
          "output_type": "stream",
          "text": [
            "RMSE финального ансамбля на data_3: 9919.8148\n"
          ]
        }
      ],
      "source": [
        "meta_model = Ridge()\n",
        "meta_model.fit(stacked_preds_val, y_val)\n",
        "\n",
        "final_preds = meta_model.predict(stacked_preds_test)\n",
        "\n",
        "mse = mean_squared_error(y_test, final_preds)\n",
        "\n",
        "\n",
        "print(f\"RMSE финального ансамбля на data_3: {mse:.4f}\")"
      ]
    },
    {
      "cell_type": "code",
      "execution_count": null,
      "id": "36d32b0b-e31b-492d-ad08-bea8ccb8a310",
      "metadata": {
        "id": "36d32b0b-e31b-492d-ad08-bea8ccb8a310"
      },
      "outputs": [],
      "source": []
    },
    {
      "cell_type": "markdown",
      "id": "9849025b-5d30-4cd7-9f69-c307751dcd29",
      "metadata": {
        "id": "9849025b-5d30-4cd7-9f69-c307751dcd29",
        "jp-MarkdownHeadingCollapsed": true
      },
      "source": [
        "# Один catbost"
      ]
    },
    {
      "cell_type": "code",
      "execution_count": null,
      "id": "3789126e-5356-4b49-b532-af18a12cdeb3",
      "metadata": {
        "id": "3789126e-5356-4b49-b532-af18a12cdeb3"
      },
      "outputs": [],
      "source": [
        "cat_columns_end = []\n",
        "for i in range(len(cat_columns)):\n",
        "    if cat_columns[i] in model_features_cat:\n",
        "        cat_columns_end.append(cat_columns[i])"
      ]
    },
    {
      "cell_type": "code",
      "execution_count": null,
      "id": "83831b9e-3da9-4d97-92a7-2b3c7bb1cb48",
      "metadata": {
        "id": "83831b9e-3da9-4d97-92a7-2b3c7bb1cb48"
      },
      "outputs": [],
      "source": [
        "from sklearn.model_selection import TimeSeriesSplit\n",
        "\n",
        "tscv = TimeSeriesSplit(n_splits=5)"
      ]
    },
    {
      "cell_type": "code",
      "execution_count": null,
      "id": "dcc2cfe1-b0ba-408f-8eef-fe331d6293b9",
      "metadata": {
        "id": "dcc2cfe1-b0ba-408f-8eef-fe331d6293b9"
      },
      "outputs": [],
      "source": [
        "X_train_onlu_cat1, X_test_onlu_cat1, y_train_onlu_cat, y_test_onlu_cat = train_test_split(X, y, test_size=0.1, random_state=2025)"
      ]
    },
    {
      "cell_type": "code",
      "execution_count": null,
      "id": "7f2282af-56d0-4156-9c8b-3abfb2dcad27",
      "metadata": {
        "id": "7f2282af-56d0-4156-9c8b-3abfb2dcad27"
      },
      "outputs": [],
      "source": [
        "X_train_onlu_cat = X_train_onlu_cat1.loc[::, model_features_cat].copy()\n",
        "X_test_onlu_cat = X_test_onlu_cat1.loc[::, model_features_cat].copy()"
      ]
    },
    {
      "cell_type": "code",
      "execution_count": null,
      "id": "446973fb-f811-4717-a5e7-30d9f959b368",
      "metadata": {
        "id": "446973fb-f811-4717-a5e7-30d9f959b368"
      },
      "outputs": [],
      "source": [
        "X_train_onlu_other = X_train_onlu_cat1.loc[::, model_features_other].copy()\n",
        "X_test_onlu_other = X_test_onlu_cat1.loc[::, model_features_other].copy()"
      ]
    },
    {
      "cell_type": "code",
      "execution_count": null,
      "id": "cb357b93-47da-4705-90db-db27d2057742",
      "metadata": {
        "id": "cb357b93-47da-4705-90db-db27d2057742",
        "outputId": "f980c8dc-8bb1-4b81-ee44-050423b8aaa4"
      },
      "outputs": [
        {
          "name": "stdout",
          "output_type": "stream",
          "text": [
            "\n",
            "Запуск Hyperopt...\n"
          ]
        },
        {
          "name": "stderr",
          "output_type": "stream",
          "text": [
            "\n",
            "Hyperopt:   0%|                                                                                 | 0/30 [00:23<?, ?it/s]\u001b[A\n",
            "\n",
            "Hyperopt:   3%|██▍                                                                      | 1/30 [00:22<10:39, 22.06s/it]\u001b[A\n",
            "Hyperopt:   7%|████▊                                                                    | 2/30 [00:38<08:46, 18.82s/it]\u001b[A\n",
            "Hyperopt:  10%|███████▎                                                                 | 3/30 [01:29<15:02, 33.42s/it]\u001b[A\n",
            "Hyperopt:  13%|█████████▋                                                               | 4/30 [01:45<11:34, 26.71s/it]\u001b[A\n",
            "Hyperopt:  17%|████████████▏                                                            | 5/30 [02:22<12:36, 30.25s/it]\u001b[A\n",
            "Hyperopt:  20%|██████████████▌                                                          | 6/30 [02:58<12:57, 32.41s/it]\u001b[A\n",
            "Hyperopt:  23%|█████████████████                                                        | 7/30 [03:13<10:12, 26.61s/it]\u001b[A\n",
            "Hyperopt:  27%|███████████████████▍                                                     | 8/30 [03:20<07:24, 20.20s/it]\u001b[A\n",
            "Hyperopt:  30%|█████████████████████▉                                                   | 9/30 [03:44<07:33, 21.62s/it]\u001b[A\n",
            "Hyperopt:  33%|████████████████████████                                                | 10/30 [04:20<08:38, 25.92s/it]\u001b[A\n",
            "Hyperopt:  37%|██████████████████████████▍                                             | 11/30 [04:41<07:41, 24.30s/it]\u001b[A\n",
            "Hyperopt:  40%|████████████████████████████▊                                           | 12/30 [05:42<10:43, 35.76s/it]\u001b[A\n",
            "Hyperopt:  43%|███████████████████████████████▏                                        | 13/30 [06:09<09:19, 32.89s/it]\u001b[A\n",
            "Hyperopt:  47%|█████████████████████████████████▌                                      | 14/30 [07:05<10:38, 39.93s/it]\u001b[A\n",
            "Hyperopt:  50%|████████████████████████████████████                                    | 15/30 [07:29<08:46, 35.09s/it]\u001b[A\n",
            "Hyperopt:  53%|██████████████████████████████████████▍                                 | 16/30 [07:57<07:41, 32.93s/it]\u001b[A\n",
            "Hyperopt:  57%|████████████████████████████████████████▊                               | 17/30 [08:10<05:49, 26.90s/it]\u001b[A\n",
            "Hyperopt:  60%|███████████████████████████████████████████▏                            | 18/30 [08:24<04:37, 23.12s/it]\u001b[A\n",
            "Hyperopt:  63%|█████████████████████████████████████████████▌                          | 19/30 [08:55<04:39, 25.40s/it]\u001b[A\n",
            "Hyperopt:  67%|████████████████████████████████████████████████                        | 20/30 [09:07<03:36, 21.63s/it]\u001b[A\n",
            "Hyperopt:  70%|██████████████████████████████████████████████████▍                     | 21/30 [09:20<02:50, 18.90s/it]\u001b[A\n",
            "Hyperopt:  73%|████████████████████████████████████████████████████▊                   | 22/30 [09:27<02:01, 15.23s/it]\u001b[A\n",
            "Hyperopt:  77%|███████████████████████████████████████████████████████▏                | 23/30 [09:36<01:33, 13.37s/it]\u001b[A\n",
            "Hyperopt:  80%|█████████████████████████████████████████████████████████▌              | 24/30 [10:20<02:15, 22.54s/it]\u001b[A\n",
            "Hyperopt:  83%|████████████████████████████████████████████████████████████            | 25/30 [10:32<01:36, 19.33s/it]\u001b[A\n",
            "Hyperopt:  87%|██████████████████████████████████████████████████████████████▍         | 26/30 [10:47<01:12, 18.24s/it]\u001b[A\n",
            "Hyperopt:  90%|████████████████████████████████████████████████████████████████▊       | 27/30 [11:05<00:54, 18.25s/it]\u001b[A\n",
            "Hyperopt:  93%|███████████████████████████████████████████████████████████████████▏    | 28/30 [11:20<00:34, 17.03s/it]\u001b[A\n",
            "Hyperopt:  97%|█████████████████████████████████████████████████████████████████████▌  | 29/30 [12:11<00:27, 27.32s/it]\u001b[A\n",
            "Hyperopt: 100%|████████████████████████████████████████████████████████████████████████| 30/30 [12:38<00:00, 25.29s/it]\u001b[A\n"
          ]
        },
        {
          "name": "stdout",
          "output_type": "stream",
          "text": [
            "0:\tlearn: 124.0528093\ttotal: 184ms\tremaining: 45.7s\n",
            "1:\tlearn: 119.0179374\ttotal: 211ms\tremaining: 26.1s\n",
            "2:\tlearn: 115.4387989\ttotal: 238ms\tremaining: 19.6s\n",
            "3:\tlearn: 113.1152853\ttotal: 266ms\tremaining: 16.3s\n",
            "4:\tlearn: 111.3642400\ttotal: 306ms\tremaining: 15s\n",
            "5:\tlearn: 110.1728910\ttotal: 345ms\tremaining: 14s\n",
            "6:\tlearn: 109.2606206\ttotal: 373ms\tremaining: 13s\n",
            "7:\tlearn: 108.6923273\ttotal: 400ms\tremaining: 12.1s\n",
            "8:\tlearn: 108.0592188\ttotal: 434ms\tremaining: 11.6s\n",
            "9:\tlearn: 107.6084467\ttotal: 464ms\tremaining: 11.1s\n",
            "10:\tlearn: 107.1480556\ttotal: 493ms\tremaining: 10.7s\n",
            "11:\tlearn: 106.8558865\ttotal: 520ms\tremaining: 10.3s\n",
            "12:\tlearn: 106.6332608\ttotal: 545ms\tremaining: 9.94s\n",
            "13:\tlearn: 106.2785399\ttotal: 571ms\tremaining: 9.63s\n",
            "14:\tlearn: 106.0399400\ttotal: 597ms\tremaining: 9.36s\n",
            "15:\tlearn: 105.8481136\ttotal: 626ms\tremaining: 9.15s\n",
            "16:\tlearn: 105.6444806\ttotal: 657ms\tremaining: 9s\n",
            "17:\tlearn: 105.5062754\ttotal: 680ms\tremaining: 8.77s\n",
            "18:\tlearn: 105.3249313\ttotal: 710ms\tremaining: 8.63s\n",
            "19:\tlearn: 105.0681523\ttotal: 737ms\tremaining: 8.47s\n",
            "20:\tlearn: 104.8799473\ttotal: 765ms\tremaining: 8.34s\n",
            "21:\tlearn: 104.7551800\ttotal: 792ms\tremaining: 8.21s\n",
            "22:\tlearn: 104.6788855\ttotal: 819ms\tremaining: 8.08s\n",
            "23:\tlearn: 104.5053111\ttotal: 845ms\tremaining: 7.96s\n",
            "24:\tlearn: 104.4218381\ttotal: 875ms\tremaining: 7.87s\n",
            "25:\tlearn: 104.3205921\ttotal: 901ms\tremaining: 7.76s\n",
            "26:\tlearn: 104.1806005\ttotal: 928ms\tremaining: 7.66s\n",
            "27:\tlearn: 104.0908067\ttotal: 954ms\tremaining: 7.56s\n",
            "28:\tlearn: 103.9770787\ttotal: 981ms\tremaining: 7.47s\n",
            "29:\tlearn: 103.9140574\ttotal: 1.01s\tremaining: 7.4s\n",
            "30:\tlearn: 103.8470397\ttotal: 1.04s\tremaining: 7.32s\n",
            "31:\tlearn: 103.7716188\ttotal: 1.06s\tremaining: 7.23s\n",
            "32:\tlearn: 103.6858972\ttotal: 1.09s\tremaining: 7.19s\n",
            "33:\tlearn: 103.6003100\ttotal: 1.12s\tremaining: 7.12s\n",
            "34:\tlearn: 103.4838370\ttotal: 1.15s\tremaining: 7.06s\n",
            "35:\tlearn: 103.4355777\ttotal: 1.18s\tremaining: 6.98s\n",
            "36:\tlearn: 103.3786294\ttotal: 1.2s\tremaining: 6.93s\n",
            "37:\tlearn: 103.3220721\ttotal: 1.23s\tremaining: 6.87s\n",
            "38:\tlearn: 103.2411615\ttotal: 1.26s\tremaining: 6.82s\n",
            "39:\tlearn: 103.1792302\ttotal: 1.29s\tremaining: 6.78s\n",
            "40:\tlearn: 103.0721989\ttotal: 1.33s\tremaining: 6.76s\n",
            "41:\tlearn: 102.9992157\ttotal: 1.36s\tremaining: 6.73s\n",
            "42:\tlearn: 102.8992104\ttotal: 1.39s\tremaining: 6.7s\n",
            "43:\tlearn: 102.7620846\ttotal: 1.42s\tremaining: 6.65s\n",
            "44:\tlearn: 102.6904884\ttotal: 1.45s\tremaining: 6.6s\n",
            "45:\tlearn: 102.6375462\ttotal: 1.48s\tremaining: 6.55s\n",
            "46:\tlearn: 102.5682666\ttotal: 1.51s\tremaining: 6.51s\n",
            "47:\tlearn: 102.5333187\ttotal: 1.54s\tremaining: 6.49s\n",
            "48:\tlearn: 102.4641737\ttotal: 1.57s\tremaining: 6.45s\n",
            "49:\tlearn: 102.3992306\ttotal: 1.6s\tremaining: 6.41s\n",
            "50:\tlearn: 102.3040682\ttotal: 1.64s\tremaining: 6.38s\n",
            "51:\tlearn: 102.2027478\ttotal: 1.67s\tremaining: 6.34s\n",
            "52:\tlearn: 102.1474972\ttotal: 1.69s\tremaining: 6.3s\n",
            "53:\tlearn: 102.0455213\ttotal: 1.72s\tremaining: 6.25s\n",
            "54:\tlearn: 101.9398264\ttotal: 1.76s\tremaining: 6.23s\n",
            "55:\tlearn: 101.8898697\ttotal: 1.79s\tremaining: 6.19s\n",
            "56:\tlearn: 101.8043149\ttotal: 1.82s\tremaining: 6.16s\n",
            "57:\tlearn: 101.7253699\ttotal: 1.85s\tremaining: 6.11s\n",
            "58:\tlearn: 101.6253729\ttotal: 1.88s\tremaining: 6.07s\n",
            "59:\tlearn: 101.5762573\ttotal: 1.9s\tremaining: 6.03s\n",
            "60:\tlearn: 101.5451779\ttotal: 1.94s\tremaining: 6.02s\n",
            "61:\tlearn: 101.5023204\ttotal: 1.98s\tremaining: 6s\n",
            "62:\tlearn: 101.3775016\ttotal: 2.01s\tremaining: 5.96s\n",
            "63:\tlearn: 101.3311765\ttotal: 2.04s\tremaining: 5.93s\n",
            "64:\tlearn: 101.2421522\ttotal: 2.07s\tremaining: 5.89s\n",
            "65:\tlearn: 101.1811794\ttotal: 2.1s\tremaining: 5.85s\n",
            "66:\tlearn: 101.1041098\ttotal: 2.13s\tremaining: 5.8s\n",
            "67:\tlearn: 101.0449834\ttotal: 2.15s\tremaining: 5.76s\n",
            "68:\tlearn: 100.9978746\ttotal: 2.18s\tremaining: 5.73s\n",
            "69:\tlearn: 100.9501482\ttotal: 2.21s\tremaining: 5.7s\n",
            "70:\tlearn: 100.8555958\ttotal: 2.24s\tremaining: 5.66s\n",
            "71:\tlearn: 100.8115754\ttotal: 2.27s\tremaining: 5.62s\n",
            "72:\tlearn: 100.7634628\ttotal: 2.31s\tremaining: 5.59s\n",
            "73:\tlearn: 100.6850678\ttotal: 2.34s\tremaining: 5.56s\n",
            "74:\tlearn: 100.6150934\ttotal: 2.37s\tremaining: 5.53s\n",
            "75:\tlearn: 100.5740381\ttotal: 2.4s\tremaining: 5.49s\n",
            "76:\tlearn: 100.5219727\ttotal: 2.44s\tremaining: 5.47s\n",
            "77:\tlearn: 100.5198517\ttotal: 2.46s\tremaining: 5.43s\n",
            "78:\tlearn: 100.4976152\ttotal: 2.5s\tremaining: 5.4s\n",
            "79:\tlearn: 100.4468283\ttotal: 2.52s\tremaining: 5.36s\n",
            "80:\tlearn: 100.3713146\ttotal: 2.55s\tremaining: 5.32s\n",
            "81:\tlearn: 100.2964596\ttotal: 2.58s\tremaining: 5.29s\n",
            "82:\tlearn: 100.2290961\ttotal: 2.61s\tremaining: 5.26s\n",
            "83:\tlearn: 100.1798835\ttotal: 2.65s\tremaining: 5.23s\n",
            "84:\tlearn: 100.1789494\ttotal: 2.68s\tremaining: 5.2s\n",
            "85:\tlearn: 100.1139911\ttotal: 2.71s\tremaining: 5.17s\n",
            "86:\tlearn: 100.0517521\ttotal: 2.75s\tremaining: 5.15s\n",
            "87:\tlearn: 99.9800567\ttotal: 2.78s\tremaining: 5.12s\n",
            "88:\tlearn: 99.9598714\ttotal: 2.81s\tremaining: 5.09s\n",
            "89:\tlearn: 99.9279407\ttotal: 2.85s\tremaining: 5.07s\n",
            "90:\tlearn: 99.8761054\ttotal: 2.88s\tremaining: 5.04s\n",
            "91:\tlearn: 99.8348903\ttotal: 2.91s\tremaining: 5.01s\n",
            "92:\tlearn: 99.8002984\ttotal: 2.94s\tremaining: 4.97s\n",
            "93:\tlearn: 99.7693722\ttotal: 2.97s\tremaining: 4.93s\n",
            "94:\tlearn: 99.7033980\ttotal: 3.01s\tremaining: 4.9s\n",
            "95:\tlearn: 99.6745468\ttotal: 3.04s\tremaining: 4.87s\n",
            "96:\tlearn: 99.6462020\ttotal: 3.07s\tremaining: 4.84s\n",
            "97:\tlearn: 99.5729571\ttotal: 3.1s\tremaining: 4.81s\n",
            "98:\tlearn: 99.5390232\ttotal: 3.14s\tremaining: 4.79s\n",
            "99:\tlearn: 99.4676563\ttotal: 3.17s\tremaining: 4.76s\n",
            "100:\tlearn: 99.4215298\ttotal: 3.21s\tremaining: 4.73s\n",
            "101:\tlearn: 99.3787949\ttotal: 3.24s\tremaining: 4.7s\n",
            "102:\tlearn: 99.3644977\ttotal: 3.27s\tremaining: 4.67s\n",
            "103:\tlearn: 99.3284226\ttotal: 3.3s\tremaining: 4.64s\n",
            "104:\tlearn: 99.2926031\ttotal: 3.34s\tremaining: 4.61s\n",
            "105:\tlearn: 99.2690591\ttotal: 3.37s\tremaining: 4.57s\n",
            "106:\tlearn: 99.2447542\ttotal: 3.4s\tremaining: 4.54s\n",
            "107:\tlearn: 99.2193445\ttotal: 3.43s\tremaining: 4.5s\n",
            "108:\tlearn: 99.1879663\ttotal: 3.46s\tremaining: 4.47s\n",
            "109:\tlearn: 99.1641061\ttotal: 3.49s\tremaining: 4.44s\n",
            "110:\tlearn: 99.1323517\ttotal: 3.53s\tremaining: 4.42s\n",
            "111:\tlearn: 99.1020320\ttotal: 3.56s\tremaining: 4.39s\n",
            "112:\tlearn: 99.0743054\ttotal: 3.59s\tremaining: 4.36s\n",
            "113:\tlearn: 99.0729711\ttotal: 3.63s\tremaining: 4.33s\n",
            "114:\tlearn: 99.0298899\ttotal: 3.67s\tremaining: 4.3s\n",
            "115:\tlearn: 99.0108241\ttotal: 3.7s\tremaining: 4.28s\n",
            "116:\tlearn: 98.9379619\ttotal: 3.74s\tremaining: 4.25s\n",
            "117:\tlearn: 98.8968640\ttotal: 3.77s\tremaining: 4.22s\n",
            "118:\tlearn: 98.8326863\ttotal: 3.8s\tremaining: 4.18s\n",
            "119:\tlearn: 98.7915636\ttotal: 3.83s\tremaining: 4.15s\n",
            "120:\tlearn: 98.7904522\ttotal: 3.85s\tremaining: 4.11s\n",
            "121:\tlearn: 98.7448715\ttotal: 3.88s\tremaining: 4.07s\n",
            "122:\tlearn: 98.6981264\ttotal: 3.91s\tremaining: 4.04s\n",
            "123:\tlearn: 98.6924683\ttotal: 3.94s\tremaining: 4s\n",
            "124:\tlearn: 98.6613452\ttotal: 3.96s\tremaining: 3.96s\n",
            "125:\tlearn: 98.6095691\ttotal: 3.99s\tremaining: 3.93s\n",
            "126:\tlearn: 98.6060071\ttotal: 4.02s\tremaining: 3.89s\n",
            "127:\tlearn: 98.5447561\ttotal: 4.05s\tremaining: 3.86s\n",
            "128:\tlearn: 98.4864563\ttotal: 4.08s\tremaining: 3.82s\n",
            "129:\tlearn: 98.4480446\ttotal: 4.1s\tremaining: 3.79s\n",
            "130:\tlearn: 98.4385981\ttotal: 4.13s\tremaining: 3.75s\n",
            "131:\tlearn: 98.3981953\ttotal: 4.16s\tremaining: 3.72s\n",
            "132:\tlearn: 98.3595760\ttotal: 4.19s\tremaining: 3.68s\n",
            "133:\tlearn: 98.3074834\ttotal: 4.22s\tremaining: 3.65s\n",
            "134:\tlearn: 98.2856644\ttotal: 4.25s\tremaining: 3.62s\n",
            "135:\tlearn: 98.2635895\ttotal: 4.27s\tremaining: 3.58s\n",
            "136:\tlearn: 98.2316513\ttotal: 4.3s\tremaining: 3.55s\n",
            "137:\tlearn: 98.1902514\ttotal: 4.33s\tremaining: 3.51s\n",
            "138:\tlearn: 98.1632213\ttotal: 4.36s\tremaining: 3.48s\n",
            "139:\tlearn: 98.1371635\ttotal: 4.38s\tremaining: 3.44s\n",
            "140:\tlearn: 98.0930300\ttotal: 4.41s\tremaining: 3.41s\n",
            "141:\tlearn: 98.0802574\ttotal: 4.44s\tremaining: 3.38s\n",
            "142:\tlearn: 98.0270884\ttotal: 4.47s\tremaining: 3.34s\n",
            "143:\tlearn: 97.9752244\ttotal: 4.5s\tremaining: 3.31s\n",
            "144:\tlearn: 97.9726485\ttotal: 4.52s\tremaining: 3.28s\n",
            "145:\tlearn: 97.9434441\ttotal: 4.55s\tremaining: 3.24s\n",
            "146:\tlearn: 97.9217369\ttotal: 4.59s\tremaining: 3.21s\n",
            "147:\tlearn: 97.9211555\ttotal: 4.62s\tremaining: 3.18s\n",
            "148:\tlearn: 97.9023649\ttotal: 4.66s\tremaining: 3.16s\n",
            "149:\tlearn: 97.8677128\ttotal: 4.69s\tremaining: 3.13s\n",
            "150:\tlearn: 97.8309719\ttotal: 4.72s\tremaining: 3.1s\n",
            "151:\tlearn: 97.7911204\ttotal: 4.75s\tremaining: 3.07s\n",
            "152:\tlearn: 97.7500520\ttotal: 4.79s\tremaining: 3.04s\n",
            "153:\tlearn: 97.7089135\ttotal: 4.82s\tremaining: 3s\n",
            "154:\tlearn: 97.7066497\ttotal: 4.86s\tremaining: 2.98s\n",
            "155:\tlearn: 97.7061794\ttotal: 4.88s\tremaining: 2.94s\n",
            "156:\tlearn: 97.6762279\ttotal: 4.91s\tremaining: 2.91s\n",
            "157:\tlearn: 97.6542449\ttotal: 4.95s\tremaining: 2.88s\n",
            "158:\tlearn: 97.6150100\ttotal: 4.98s\tremaining: 2.85s\n",
            "159:\tlearn: 97.5659792\ttotal: 5.01s\tremaining: 2.82s\n",
            "160:\tlearn: 97.5439631\ttotal: 5.04s\tremaining: 2.79s\n",
            "161:\tlearn: 97.5387753\ttotal: 5.07s\tremaining: 2.75s\n",
            "162:\tlearn: 97.5103866\ttotal: 5.11s\tremaining: 2.73s\n",
            "163:\tlearn: 97.4642487\ttotal: 5.14s\tremaining: 2.7s\n",
            "164:\tlearn: 97.4320755\ttotal: 5.17s\tremaining: 2.67s\n",
            "165:\tlearn: 97.4044530\ttotal: 5.21s\tremaining: 2.63s\n",
            "166:\tlearn: 97.3660631\ttotal: 5.24s\tremaining: 2.6s\n",
            "167:\tlearn: 97.3206438\ttotal: 5.27s\tremaining: 2.57s\n",
            "168:\tlearn: 97.2783116\ttotal: 5.3s\tremaining: 2.54s\n",
            "169:\tlearn: 97.2492243\ttotal: 5.33s\tremaining: 2.51s\n",
            "170:\tlearn: 97.1939803\ttotal: 5.36s\tremaining: 2.48s\n",
            "171:\tlearn: 97.1503131\ttotal: 5.39s\tremaining: 2.44s\n",
            "172:\tlearn: 97.1136588\ttotal: 5.42s\tremaining: 2.41s\n",
            "173:\tlearn: 97.0910591\ttotal: 5.45s\tremaining: 2.38s\n",
            "174:\tlearn: 97.0416228\ttotal: 5.49s\tremaining: 2.35s\n",
            "175:\tlearn: 97.0200633\ttotal: 5.51s\tremaining: 2.32s\n",
            "176:\tlearn: 96.9811800\ttotal: 5.55s\tremaining: 2.29s\n",
            "177:\tlearn: 96.9499730\ttotal: 5.58s\tremaining: 2.26s\n",
            "178:\tlearn: 96.9330091\ttotal: 5.61s\tremaining: 2.22s\n",
            "179:\tlearn: 96.8949297\ttotal: 5.63s\tremaining: 2.19s\n",
            "180:\tlearn: 96.8639562\ttotal: 5.67s\tremaining: 2.16s\n",
            "181:\tlearn: 96.8245959\ttotal: 5.69s\tremaining: 2.13s\n",
            "182:\tlearn: 96.8071224\ttotal: 5.72s\tremaining: 2.09s\n",
            "183:\tlearn: 96.7777237\ttotal: 5.75s\tremaining: 2.06s\n",
            "184:\tlearn: 96.7411546\ttotal: 5.78s\tremaining: 2.03s\n",
            "185:\tlearn: 96.7114171\ttotal: 5.8s\tremaining: 2s\n",
            "186:\tlearn: 96.6829821\ttotal: 5.83s\tremaining: 1.96s\n",
            "187:\tlearn: 96.6712470\ttotal: 5.85s\tremaining: 1.93s\n",
            "188:\tlearn: 96.6232270\ttotal: 5.88s\tremaining: 1.9s\n",
            "189:\tlearn: 96.6083298\ttotal: 5.91s\tremaining: 1.86s\n",
            "190:\tlearn: 96.5761941\ttotal: 5.93s\tremaining: 1.83s\n",
            "191:\tlearn: 96.5757711\ttotal: 5.96s\tremaining: 1.8s\n",
            "192:\tlearn: 96.5440944\ttotal: 5.99s\tremaining: 1.77s\n",
            "193:\tlearn: 96.5200212\ttotal: 6.01s\tremaining: 1.74s\n",
            "194:\tlearn: 96.5040092\ttotal: 6.04s\tremaining: 1.7s\n",
            "195:\tlearn: 96.4798644\ttotal: 6.07s\tremaining: 1.67s\n",
            "196:\tlearn: 96.4449079\ttotal: 6.09s\tremaining: 1.64s\n",
            "197:\tlearn: 96.4068419\ttotal: 6.12s\tremaining: 1.61s\n",
            "198:\tlearn: 96.3659742\ttotal: 6.15s\tremaining: 1.57s\n",
            "199:\tlearn: 96.3196286\ttotal: 6.17s\tremaining: 1.54s\n",
            "200:\tlearn: 96.2765004\ttotal: 6.2s\tremaining: 1.51s\n",
            "201:\tlearn: 96.2557098\ttotal: 6.22s\tremaining: 1.48s\n",
            "202:\tlearn: 96.2306054\ttotal: 6.26s\tremaining: 1.45s\n",
            "203:\tlearn: 96.2056583\ttotal: 6.28s\tremaining: 1.42s\n",
            "204:\tlearn: 96.1843444\ttotal: 6.31s\tremaining: 1.39s\n",
            "205:\tlearn: 96.1561171\ttotal: 6.34s\tremaining: 1.35s\n",
            "206:\tlearn: 96.1361292\ttotal: 6.36s\tremaining: 1.32s\n",
            "207:\tlearn: 96.1285169\ttotal: 6.39s\tremaining: 1.29s\n",
            "208:\tlearn: 96.0872682\ttotal: 6.42s\tremaining: 1.26s\n",
            "209:\tlearn: 96.0514223\ttotal: 6.45s\tremaining: 1.23s\n",
            "210:\tlearn: 96.0314963\ttotal: 6.48s\tremaining: 1.2s\n",
            "211:\tlearn: 96.0205023\ttotal: 6.51s\tremaining: 1.17s\n",
            "212:\tlearn: 95.9846438\ttotal: 6.54s\tremaining: 1.14s\n",
            "213:\tlearn: 95.9518762\ttotal: 6.56s\tremaining: 1.1s\n",
            "214:\tlearn: 95.9185790\ttotal: 6.59s\tremaining: 1.07s\n",
            "215:\tlearn: 95.8814919\ttotal: 6.62s\tremaining: 1.04s\n",
            "216:\tlearn: 95.8660876\ttotal: 6.65s\tremaining: 1.01s\n",
            "217:\tlearn: 95.8391643\ttotal: 6.67s\tremaining: 980ms\n",
            "218:\tlearn: 95.8176735\ttotal: 6.7s\tremaining: 948ms\n",
            "219:\tlearn: 95.7652291\ttotal: 6.72s\tremaining: 917ms\n",
            "220:\tlearn: 95.7216385\ttotal: 6.75s\tremaining: 886ms\n",
            "221:\tlearn: 95.6940445\ttotal: 6.78s\tremaining: 855ms\n",
            "222:\tlearn: 95.6668721\ttotal: 6.81s\tremaining: 825ms\n",
            "223:\tlearn: 95.6144925\ttotal: 6.84s\tremaining: 794ms\n",
            "224:\tlearn: 95.5790734\ttotal: 6.86s\tremaining: 763ms\n",
            "225:\tlearn: 95.5622968\ttotal: 6.89s\tremaining: 732ms\n",
            "226:\tlearn: 95.5571840\ttotal: 6.92s\tremaining: 701ms\n",
            "227:\tlearn: 95.5223258\ttotal: 6.94s\tremaining: 670ms\n",
            "228:\tlearn: 95.4912399\ttotal: 6.97s\tremaining: 639ms\n",
            "229:\tlearn: 95.4667098\ttotal: 7s\tremaining: 609ms\n",
            "230:\tlearn: 95.4663043\ttotal: 7.02s\tremaining: 578ms\n",
            "231:\tlearn: 95.4648827\ttotal: 7.05s\tremaining: 547ms\n",
            "232:\tlearn: 95.4415508\ttotal: 7.07s\tremaining: 516ms\n",
            "233:\tlearn: 95.4151135\ttotal: 7.1s\tremaining: 486ms\n",
            "234:\tlearn: 95.4147179\ttotal: 7.13s\tremaining: 455ms\n",
            "235:\tlearn: 95.4045051\ttotal: 7.16s\tremaining: 425ms\n",
            "236:\tlearn: 95.4041614\ttotal: 7.18s\tremaining: 394ms\n",
            "237:\tlearn: 95.3799182\ttotal: 7.21s\tremaining: 363ms\n",
            "238:\tlearn: 95.3590222\ttotal: 7.24s\tremaining: 333ms\n",
            "239:\tlearn: 95.3328015\ttotal: 7.26s\tremaining: 303ms\n",
            "240:\tlearn: 95.3312963\ttotal: 7.29s\tremaining: 272ms\n",
            "241:\tlearn: 95.3025375\ttotal: 7.32s\tremaining: 242ms\n",
            "242:\tlearn: 95.2887177\ttotal: 7.34s\tremaining: 212ms\n",
            "243:\tlearn: 95.2782258\ttotal: 7.37s\tremaining: 181ms\n",
            "244:\tlearn: 95.2576465\ttotal: 7.39s\tremaining: 151ms\n",
            "245:\tlearn: 95.2160937\ttotal: 7.42s\tremaining: 121ms\n",
            "246:\tlearn: 95.1874845\ttotal: 7.45s\tremaining: 90.5ms\n",
            "247:\tlearn: 95.1519408\ttotal: 7.47s\tremaining: 60.3ms\n",
            "248:\tlearn: 95.1508711\ttotal: 7.5s\tremaining: 30.1ms\n",
            "249:\tlearn: 95.1106839\ttotal: 7.53s\tremaining: 0us\n",
            "\n",
            "Hyperopt завершен за 758.67 секунд\n",
            "Лучшие параметры: {'iterations': 250, 'depth': 5, 'learning_rate': 0.23280152938859025, 'l2_leaf_reg': 6.0, 'bagging_temperature': 0.4, 'cat_features': ['location_cluster', 'location', 'type_house'], 'od_wait': 100}\n",
            "Лучший CV MSE: 10716.4445\n",
            "MSE на тестовых данных: 10376.7454\n"
          ]
        }
      ],
      "source": [
        "import time\n",
        "import numpy as np\n",
        "from catboost import CatBoostRegressor\n",
        "from hyperopt import hp, fmin, tpe, STATUS_OK, Trials\n",
        "from sklearn.model_selection import cross_val_score\n",
        "from sklearn.metrics import mean_squared_error\n",
        "from tqdm import tqdm\n",
        "\n",
        "# Пример: допустим, у вас есть X_train, y_train, X_test, y_test\n",
        "# и список категориальных признаков cat_columns_end\n",
        "\n",
        "print(\"\\nЗапуск Hyperopt...\")\n",
        "start_time_hyperopt = time.time()\n",
        "\n",
        "# Пространство гиперпараметров\n",
        "space = {\n",
        "    'iterations': hp.quniform('iterations', 200, 1000, 50),\n",
        "    'learning_rate': hp.uniform('learning_rate', 0.01, 0.9),\n",
        "    'depth': hp.quniform('depth', 3, 6, 1),\n",
        "    'l2_leaf_reg': hp.quniform('l2_leaf_reg', 0.1, 10.1, 1),\n",
        "    'bagging_temperature': hp.quniform('bagging_temperature', 0.1, 1, 0.4)\n",
        "}\n",
        "\n",
        "# Целевая функция для Hyperopt\n",
        "def objective(params):\n",
        "    # Преобразуем часть параметров к целым\n",
        "    model_params = {\n",
        "        'iterations': int(params['iterations']),\n",
        "        'depth': int(params['depth']),\n",
        "        'learning_rate': params['learning_rate'],\n",
        "        'l2_leaf_reg': params['l2_leaf_reg'],\n",
        "        'bagging_temperature': params['bagging_temperature'],\n",
        "        'cat_features': cat_columns_end,\n",
        "        'od_wait': 100\n",
        "    }\n",
        "\n",
        "    # Создаем регрессионную модель\n",
        "    model = CatBoostRegressor(**model_params)\n",
        "\n",
        "    # Выполняем кросс-валидацию с метрикой 'neg_mean_squared_error'\n",
        "    scores = cross_val_score(model, X_train_onlu_cat, y_train_onlu_cat,\n",
        "                             cv=tscv,\n",
        "                             scoring='neg_mean_squared_error',\n",
        "                             n_jobs=-1)\n",
        "\n",
        "    # MSE получается со знаком «-», берём среднее и переворачиваем знак\n",
        "    mse_mean = -np.mean(scores)\n",
        "\n",
        "    # Обновляем прогресс-бар\n",
        "    hyperopt_pbar.update(1)\n",
        "\n",
        "    # Возвращаем значение MSE, которое Hyperopt будет минимизировать\n",
        "    return {'loss': mse_mean, 'status': STATUS_OK, 'params': model_params}\n",
        "\n",
        "# Запускаем Hyperopt\n",
        "n_iter_hyperopt = 30\n",
        "hyperopt_pbar = tqdm(total=n_iter_hyperopt, desc=\"Hyperopt\")\n",
        "\n",
        "trials = Trials()\n",
        "best_hyperopt = fmin(\n",
        "    fn=objective,\n",
        "    space=space,\n",
        "    algo=tpe.suggest,\n",
        "    max_evals=n_iter_hyperopt,\n",
        "    trials=trials,\n",
        "    verbose=0\n",
        ")\n",
        "\n",
        "hyperopt_pbar.close()\n",
        "\n",
        "# Находим индекс лучшего trial\n",
        "best_trial_idx = np.argmin([t['result']['loss'] for t in trials.trials])\n",
        "best_params_hyperoptend = trials.trials[best_trial_idx]['result']['params']\n",
        "\n",
        "# Лучшее значение среднеквадратичной ошибки (MSE) на кросс-валидации\n",
        "best_score_hyperopt = min([t['result']['loss'] for t in trials.trials])\n",
        "time_hyperopt = time.time() - start_time_hyperopt\n",
        "\n",
        "# Обучаем финальную модель на всей обучающей выборке\n",
        "best_model_hyperopt = CatBoostRegressor(**best_params_hyperoptend)\n",
        "best_model_hyperopt.fit(X_train_onlu_cat, y_train_onlu_cat)\n",
        "\n",
        "# Предсказания на тесте\n",
        "y_test_pred_hyperopt = best_model_hyperopt.predict(X_test_onlu_cat)\n",
        "\n",
        "# Считаем MSE на тесте\n",
        "mse_test = mean_squared_error(y_test_onlu_cat, y_test_pred_hyperopt)\n",
        "\n",
        "print(f\"\\nHyperopt завершен за {time_hyperopt:.2f} секунд\")\n",
        "print(f\"Лучшие параметры: {best_params_hyperoptend}\")\n",
        "print(f\"Лучший CV MSE: {best_score_hyperopt:.4f}\")\n",
        "print(f\"MSE на тестовых данных: {mse_test:.4f}\")\n"
      ]
    },
    {
      "cell_type": "code",
      "execution_count": null,
      "id": "dd6024a2-19e0-4b0e-8732-0b34c25f5dfc",
      "metadata": {
        "id": "dd6024a2-19e0-4b0e-8732-0b34c25f5dfc"
      },
      "outputs": [],
      "source": []
    },
    {
      "cell_type": "code",
      "execution_count": null,
      "id": "6f778531-c887-4699-9128-650ce5abe435",
      "metadata": {
        "id": "6f778531-c887-4699-9128-650ce5abe435",
        "outputId": "e7f50f20-c1d1-4da5-aff2-77c0e8fd0908"
      },
      "outputs": [
        {
          "data": {
            "text/plain": [
              "10376.745443562657"
            ]
          },
          "execution_count": 211,
          "metadata": {},
          "output_type": "execute_result"
        }
      ],
      "source": [
        "cat_clf_tuned = CatBoostRegressor(**best_params_hyperoptend, eval_metric='RMSE', verbose=0)\n",
        "cat_clf_tuned.fit(X_train_onlu_cat, y_train_onlu_cat)\n",
        "mean_squared_error(y_test_onlu_cat,  cat_clf_tuned.predict(X_test_onlu_cat))"
      ]
    },
    {
      "cell_type": "markdown",
      "id": "42777131-883f-479c-acb7-ec8fe68be322",
      "metadata": {
        "id": "42777131-883f-479c-acb7-ec8fe68be322",
        "jp-MarkdownHeadingCollapsed": true
      },
      "source": [
        "# сабмит"
      ]
    },
    {
      "cell_type": "code",
      "execution_count": null,
      "id": "e271ea02-590a-4072-a104-bff01553000b",
      "metadata": {
        "id": "e271ea02-590a-4072-a104-bff01553000b"
      },
      "outputs": [],
      "source": [
        "submission = pd.read_csv('sample_submition.csv')\n"
      ]
    },
    {
      "cell_type": "code",
      "execution_count": null,
      "id": "515282cc-bdac-4633-a347-1a6eaf3717c4",
      "metadata": {
        "id": "515282cc-bdac-4633-a347-1a6eaf3717c4"
      },
      "outputs": [],
      "source": [
        "test = test.sort_values(by='index')"
      ]
    },
    {
      "cell_type": "code",
      "execution_count": null,
      "id": "1e374c0c-9b30-46ae-9cfa-2de3b103820a",
      "metadata": {
        "id": "1e374c0c-9b30-46ae-9cfa-2de3b103820a"
      },
      "outputs": [],
      "source": [
        "X_test = test[model_features_cat]"
      ]
    },
    {
      "cell_type": "code",
      "execution_count": null,
      "id": "21a62abe-dcb1-4984-8205-ec541e455013",
      "metadata": {
        "id": "21a62abe-dcb1-4984-8205-ec541e455013",
        "outputId": "aa37f20c-e2a8-4af7-a3de-8f92adc1a925"
      },
      "outputs": [
        {
          "data": {
            "text/plain": [
              "1410216"
            ]
          },
          "execution_count": 293,
          "metadata": {},
          "output_type": "execute_result"
        }
      ],
      "source": [
        "submission[\"prediction\"] = meta_model.predict(stacked_preds_main_test)\n",
        "submission[\"prediction\"] = submission[\"prediction\"].astype(int)\n",
        "submission.to_csv(\"sample_submition_res_many.csv\", index=False)\n",
        "submission['prediction'].sum()"
      ]
    },
    {
      "cell_type": "code",
      "execution_count": null,
      "id": "092c87a3-fd66-491a-b16f-7d7d2dfac98b",
      "metadata": {
        "id": "092c87a3-fd66-491a-b16f-7d7d2dfac98b"
      },
      "outputs": [],
      "source": [
        "sub = pd.read_csv('sample_submition_res12.csv')\n"
      ]
    },
    {
      "cell_type": "code",
      "execution_count": null,
      "id": "1079a9db-d7ba-4d6d-b257-1483c4dd2e03",
      "metadata": {
        "id": "1079a9db-d7ba-4d6d-b257-1483c4dd2e03"
      },
      "outputs": [],
      "source": [
        "sub.columns =['index', 'prediction_norm']"
      ]
    },
    {
      "cell_type": "code",
      "execution_count": null,
      "id": "736208c7-7fad-47e1-acbf-43b76bdb3d1b",
      "metadata": {
        "id": "736208c7-7fad-47e1-acbf-43b76bdb3d1b"
      },
      "outputs": [],
      "source": [
        "test_clown = submission.merge(sub, how='inner', on='index')"
      ]
    },
    {
      "cell_type": "code",
      "execution_count": null,
      "id": "2aa8d577-bbd7-4dca-90b1-21125d426aae",
      "metadata": {
        "id": "2aa8d577-bbd7-4dca-90b1-21125d426aae",
        "outputId": "f68a88dd-69e4-47d4-9bd0-6a5da9feae38"
      },
      "outputs": [
        {
          "data": {
            "text/plain": [
              "index              74706976\n",
              "prediction          1410216\n",
              "prediction_norm     1368534\n",
              "dtype: int64"
            ]
          },
          "execution_count": 300,
          "metadata": {},
          "output_type": "execute_result"
        }
      ],
      "source": [
        "test_clown.sum()"
      ]
    },
    {
      "cell_type": "code",
      "execution_count": null,
      "id": "7db16371-42b5-46ea-b8b7-20ff5b494503",
      "metadata": {
        "id": "7db16371-42b5-46ea-b8b7-20ff5b494503",
        "outputId": "e7d438f3-2ac3-4c98-84c9-008edf7a83d5"
      },
      "outputs": [
        {
          "data": {
            "text/html": [
              "<div>\n",
              "<style scoped>\n",
              "    .dataframe tbody tr th:only-of-type {\n",
              "        vertical-align: middle;\n",
              "    }\n",
              "\n",
              "    .dataframe tbody tr th {\n",
              "        vertical-align: top;\n",
              "    }\n",
              "\n",
              "    .dataframe thead th {\n",
              "        text-align: right;\n",
              "    }\n",
              "</style>\n",
              "<table border=\"1\" class=\"dataframe\">\n",
              "  <thead>\n",
              "    <tr style=\"text-align: right;\">\n",
              "      <th></th>\n",
              "      <th>index</th>\n",
              "      <th>prediction</th>\n",
              "      <th>prediction_norm</th>\n",
              "    </tr>\n",
              "  </thead>\n",
              "  <tbody>\n",
              "    <tr>\n",
              "      <th>2</th>\n",
              "      <td>2</td>\n",
              "      <td>295</td>\n",
              "      <td>294</td>\n",
              "    </tr>\n",
              "    <tr>\n",
              "      <th>3</th>\n",
              "      <td>3</td>\n",
              "      <td>77</td>\n",
              "      <td>43</td>\n",
              "    </tr>\n",
              "    <tr>\n",
              "      <th>4</th>\n",
              "      <td>4</td>\n",
              "      <td>60</td>\n",
              "      <td>49</td>\n",
              "    </tr>\n",
              "    <tr>\n",
              "      <th>5</th>\n",
              "      <td>5</td>\n",
              "      <td>61</td>\n",
              "      <td>51</td>\n",
              "    </tr>\n",
              "    <tr>\n",
              "      <th>6</th>\n",
              "      <td>6</td>\n",
              "      <td>0</td>\n",
              "      <td>-10</td>\n",
              "    </tr>\n",
              "    <tr>\n",
              "      <th>...</th>\n",
              "      <td>...</td>\n",
              "      <td>...</td>\n",
              "      <td>...</td>\n",
              "    </tr>\n",
              "    <tr>\n",
              "      <th>12219</th>\n",
              "      <td>12219</td>\n",
              "      <td>152</td>\n",
              "      <td>140</td>\n",
              "    </tr>\n",
              "    <tr>\n",
              "      <th>12220</th>\n",
              "      <td>12220</td>\n",
              "      <td>129</td>\n",
              "      <td>134</td>\n",
              "    </tr>\n",
              "    <tr>\n",
              "      <th>12221</th>\n",
              "      <td>12221</td>\n",
              "      <td>294</td>\n",
              "      <td>288</td>\n",
              "    </tr>\n",
              "    <tr>\n",
              "      <th>12222</th>\n",
              "      <td>12222</td>\n",
              "      <td>47</td>\n",
              "      <td>33</td>\n",
              "    </tr>\n",
              "    <tr>\n",
              "      <th>12223</th>\n",
              "      <td>12223</td>\n",
              "      <td>292</td>\n",
              "      <td>256</td>\n",
              "    </tr>\n",
              "  </tbody>\n",
              "</table>\n",
              "<p>11891 rows × 3 columns</p>\n",
              "</div>"
            ],
            "text/plain": [
              "       index  prediction  prediction_norm\n",
              "2          2         295              294\n",
              "3          3          77               43\n",
              "4          4          60               49\n",
              "5          5          61               51\n",
              "6          6           0              -10\n",
              "...      ...         ...              ...\n",
              "12219  12219         152              140\n",
              "12220  12220         129              134\n",
              "12221  12221         294              288\n",
              "12222  12222          47               33\n",
              "12223  12223         292              256\n",
              "\n",
              "[11891 rows x 3 columns]"
            ]
          },
          "execution_count": 301,
          "metadata": {},
          "output_type": "execute_result"
        }
      ],
      "source": [
        "test_clown.loc[test_clown['prediction_norm'] != test_clown['prediction']]"
      ]
    },
    {
      "cell_type": "code",
      "execution_count": null,
      "id": "5cf4a429-e3e5-457a-9f40-677585af654d",
      "metadata": {
        "id": "5cf4a429-e3e5-457a-9f40-677585af654d",
        "outputId": "d3762a26-0780-4c12-8e0e-2d8ecc09a6e2"
      },
      "outputs": [
        {
          "data": {
            "text/plain": [
              "0"
            ]
          },
          "execution_count": 508,
          "metadata": {},
          "output_type": "execute_result"
        }
      ],
      "source": []
    },
    {
      "cell_type": "code",
      "execution_count": null,
      "id": "ecd9f704-2248-4b73-8b7b-174bcd1f7bc7",
      "metadata": {
        "id": "ecd9f704-2248-4b73-8b7b-174bcd1f7bc7"
      },
      "outputs": [],
      "source": []
    }
  ],
  "metadata": {
    "colab": {
      "provenance": []
    },
    "kernelspec": {
      "display_name": "Python [conda env:base] *",
      "language": "python",
      "name": "conda-base-py"
    },
    "language_info": {
      "codemirror_mode": {
        "name": "ipython",
        "version": 3
      },
      "file_extension": ".py",
      "mimetype": "text/x-python",
      "name": "python",
      "nbconvert_exporter": "python",
      "pygments_lexer": "ipython3",
      "version": "3.12.7"
    }
  },
  "nbformat": 4,
  "nbformat_minor": 5
}
